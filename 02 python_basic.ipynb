{
 "cells": [
  {
   "cell_type": "code",
   "execution_count": 5,
   "id": "c3f092e6-bde4-42eb-b5c1-a0e21b44741a",
   "metadata": {},
   "outputs": [],
   "source": [
    "# 주석 시행하기\n",
    "x = 1 #여기서 = 기호는 수학의 같다는 의미와는 다르다.\n",
    "      # ... 우측 변의 리터럴을 좌측 변의 변수에 대입한다는 의미다.\n",
    "text = \"# 이것은 주석이 아니다 따옴표 안은 문자열 리터럴이다\""
   ]
  },
  {
   "cell_type": "code",
   "execution_count": 6,
   "id": "d07f303b-298e-4bd5-804d-35ac5c58042e",
   "metadata": {},
   "outputs": [
    {
     "name": "stdout",
     "output_type": "stream",
     "text": [
      "# 이것은 주석이 아니다 따옴표 안은 문자열 리터럴이다\n"
     ]
    }
   ],
   "source": [
    "print(text)"
   ]
  },
  {
   "cell_type": "code",
   "execution_count": 7,
   "id": "7aa97da3-56e2-4aa8-a426-492596af12d2",
   "metadata": {},
   "outputs": [],
   "source": [
    "text += \"뻥인데\""
   ]
  },
  {
   "cell_type": "code",
   "execution_count": 8,
   "id": "75601e0f-9a6a-4515-8c95-767720c6aad3",
   "metadata": {},
   "outputs": [
    {
     "name": "stdout",
     "output_type": "stream",
     "text": [
      "# 이것은 주석이 아니다 따옴표 안은 문자열 리터럴이다뻥인데\n"
     ]
    }
   ],
   "source": [
    "print(text)"
   ]
  },
  {
   "cell_type": "code",
   "execution_count": 11,
   "id": "063e16b8-8dac-44e1-b736-84479c4a5c77",
   "metadata": {},
   "outputs": [],
   "source": [
    "txt = \"Hell0, world\"\n",
    "txt1 = \"Hell0, world\"\n",
    "txt2 = \"Python programming\""
   ]
  },
  {
   "cell_type": "code",
   "execution_count": 12,
   "id": "c7da4c17-d791-4e8f-917f-09b53028c001",
   "metadata": {},
   "outputs": [
    {
     "name": "stdout",
     "output_type": "stream",
     "text": [
      "Hell0, world\n",
      "Hell0, world\n",
      "Python programming\n"
     ]
    }
   ],
   "source": [
    "print(txt)\n",
    "print(txt1)\n",
    "print(txt2)"
   ]
  },
  {
   "cell_type": "code",
   "execution_count": 18,
   "id": "bf096a89-a038-4e3a-9809-36b2dd01e705",
   "metadata": {},
   "outputs": [
    {
     "name": "stdout",
     "output_type": "stream",
     "text": [
      "89\n"
     ]
    }
   ],
   "source": [
    "a = 13+(22 - 3) * 4\n",
    "print(a)"
   ]
  },
  {
   "cell_type": "code",
   "execution_count": 19,
   "id": "e7186568-6643-4ab3-9731-c23974d45435",
   "metadata": {},
   "outputs": [
    {
     "name": "stdout",
     "output_type": "stream",
     "text": [
      "128\n"
     ]
    }
   ],
   "source": [
    "b = 2 ** 7\n",
    "print(b)"
   ]
  },
  {
   "cell_type": "code",
   "execution_count": 20,
   "id": "8febbf61-9c93-4cf2-8836-65198bef3894",
   "metadata": {},
   "outputs": [
    {
     "name": "stdout",
     "output_type": "stream",
     "text": [
      "2.0\n"
     ]
    }
   ],
   "source": [
    "c = 4 ** (1/2)\n",
    "print(c)"
   ]
  },
  {
   "cell_type": "code",
   "execution_count": 21,
   "id": "e05b4958-c513-48f3-8684-7293bba2c10d",
   "metadata": {},
   "outputs": [
    {
     "name": "stdout",
     "output_type": "stream",
     "text": [
      "7.1194\n"
     ]
    }
   ],
   "source": [
    "d = 0.2467 * 12 + 4.159\n",
    "print(d)"
   ]
  },
  {
   "cell_type": "code",
   "execution_count": 42,
   "id": "0919ca1b-e121-41b5-b6f2-c599fdfff6a8",
   "metadata": {},
   "outputs": [
    {
     "name": "stdout",
     "output_type": "stream",
     "text": [
      "7\n"
     ]
    }
   ],
   "source": [
    "print(int(d))"
   ]
  },
  {
   "cell_type": "code",
   "execution_count": 52,
   "id": "bc7b4b11-e5a1-443e-980a-90c6a06ff51f",
   "metadata": {},
   "outputs": [
    {
     "name": "stdout",
     "output_type": "stream",
     "text": [
      "실행결과:\n",
      "가장 시끄러운 층은 = 7층\n"
     ]
    }
   ],
   "source": [
    "print(\"실행결과:\\n\" \"가장 시끄러운 층은 = {}층\".format(int(d)))"
   ]
  },
  {
   "cell_type": "code",
   "execution_count": 51,
   "id": "2ce76e57-c501-488c-8a24-152de113d490",
   "metadata": {},
   "outputs": [
    {
     "name": "stdout",
     "output_type": "stream",
     "text": [
      "이렇게 하면\n"
     ]
    }
   ],
   "source": [
    "print(\"이렇게\", \"하면\")"
   ]
  },
  {
   "cell_type": "code",
   "execution_count": 57,
   "id": "8d58335c-77af-4d2b-8a9a-6a6e3690ba48",
   "metadata": {},
   "outputs": [
    {
     "name": "stdout",
     "output_type": "stream",
     "text": [
      "실행결과:\n",
      "냉장고 가격은 1272000 원 입니다\n"
     ]
    }
   ],
   "source": [
    "print(\"실행결과:\\n\" \"냉장고 가격은\", int(53000*24), \"원 입니다\")"
   ]
  },
  {
   "cell_type": "code",
   "execution_count": 59,
   "id": "aa95c482-2cb4-4b12-8981-bfe4611e9e55",
   "metadata": {},
   "outputs": [
    {
     "name": "stdout",
     "output_type": "stream",
     "text": [
      "실행결과:\n",
      "총 지불해야할 금액은 16500000 원 입니다.\n"
     ]
    }
   ],
   "source": [
    "people = 250\n",
    "tax = 10/100\n",
    "print(\"실행결과:\\n\" \"총 지불해야할 금액은\", int((20000*3)*people*(1+tax)), \"원 입니다.\")"
   ]
  },
  {
   "cell_type": "code",
   "execution_count": 60,
   "id": "10eae93d-0151-4bd4-8b33-b3565d69339d",
   "metadata": {},
   "outputs": [
    {
     "name": "stdout",
     "output_type": "stream",
     "text": [
      "12340000000.0\n"
     ]
    }
   ],
   "source": [
    "print(1.234e10)"
   ]
  },
  {
   "cell_type": "code",
   "execution_count": 61,
   "id": "f7ab46ba-caf0-40b5-b197-0765098c41d1",
   "metadata": {},
   "outputs": [
    {
     "name": "stdout",
     "output_type": "stream",
     "text": [
      "0.0012345\n"
     ]
    }
   ],
   "source": [
    "print(1.2345e-3)"
   ]
  },
  {
   "cell_type": "code",
   "execution_count": 62,
   "id": "3e5d08f7-11d8-44da-9de8-5d7e293fb22c",
   "metadata": {},
   "outputs": [
    {
     "name": "stdout",
     "output_type": "stream",
     "text": [
      "17\n"
     ]
    }
   ],
   "source": [
    "print(0b10001)"
   ]
  },
  {
   "cell_type": "code",
   "execution_count": 63,
   "id": "25b963ef-3c7f-4671-acf0-294700eae4d6",
   "metadata": {},
   "outputs": [
    {
     "name": "stdout",
     "output_type": "stream",
     "text": [
      "22\n"
     ]
    }
   ],
   "source": [
    "print(0b10110)"
   ]
  },
  {
   "cell_type": "code",
   "execution_count": 64,
   "id": "f82a46bd-79d0-4715-931d-b8f26798a0c2",
   "metadata": {},
   "outputs": [
    {
     "name": "stdout",
     "output_type": "stream",
     "text": [
      "0b10001\n"
     ]
    }
   ],
   "source": [
    "print(bin(17))"
   ]
  },
  {
   "cell_type": "code",
   "execution_count": 65,
   "id": "a10f6d53-dc8e-4e04-8647-a1505f1f0ec9",
   "metadata": {},
   "outputs": [
    {
     "name": "stdout",
     "output_type": "stream",
     "text": [
      "0b1110101\n"
     ]
    }
   ],
   "source": [
    "print(bin(117))"
   ]
  },
  {
   "cell_type": "code",
   "execution_count": 67,
   "id": "e729f860-93ce-4ce1-9260-41b13d7a017f",
   "metadata": {},
   "outputs": [
    {
     "name": "stdout",
     "output_type": "stream",
     "text": [
      "31\n",
      "22\n",
      "0x1f\n",
      "0x16\n"
     ]
    }
   ],
   "source": [
    "print(0x1f)\n",
    "print(0x16)\n",
    "print(hex(31))\n",
    "print(hex(22))"
   ]
  },
  {
   "cell_type": "code",
   "execution_count": 68,
   "id": "4e410034-a072-45e3-903f-7eb352d91441",
   "metadata": {},
   "outputs": [
    {
     "name": "stdout",
     "output_type": "stream",
     "text": [
      "0\n"
     ]
    }
   ],
   "source": [
    "print(2//4)"
   ]
  },
  {
   "cell_type": "code",
   "execution_count": 69,
   "id": "7fa030b7-e20a-46e5-a1dd-0545751aa86c",
   "metadata": {},
   "outputs": [
    {
     "name": "stdout",
     "output_type": "stream",
     "text": [
      "2\n"
     ]
    }
   ],
   "source": [
    "print(4//2)"
   ]
  },
  {
   "cell_type": "code",
   "execution_count": 70,
   "id": "c3ae7c4d-afad-48e3-889b-77ee4fe8bbdc",
   "metadata": {},
   "outputs": [
    {
     "name": "stdout",
     "output_type": "stream",
     "text": [
      "1\n"
     ]
    }
   ],
   "source": [
    "print(5%2)"
   ]
  },
  {
   "cell_type": "code",
   "execution_count": 77,
   "id": "c532c4c5-3148-48e3-a43e-c27a9c10e49c",
   "metadata": {},
   "outputs": [
    {
     "name": "stdout",
     "output_type": "stream",
     "text": [
      " 실행결과:\n",
      " 453.0\n"
     ]
    }
   ],
   "source": [
    "print(\" 실행결과:\\n\",380 * 0.6 +225)"
   ]
  },
  {
   "cell_type": "code",
   "execution_count": 78,
   "id": "0d5e25d1-ea36-44c7-809c-c3284176bfc9",
   "metadata": {},
   "outputs": [
    {
     "name": "stdout",
     "output_type": "stream",
     "text": [
      "30\n"
     ]
    }
   ],
   "source": [
    "a = 10\n",
    "a = a + 20\n",
    "print(a)"
   ]
  },
  {
   "cell_type": "code",
   "execution_count": 79,
   "id": "fef35576-f896-42ce-8520-4a6aed114972",
   "metadata": {},
   "outputs": [
    {
     "ename": "NameError",
     "evalue": "name 'a' is not defined",
     "output_type": "error",
     "traceback": [
      "\u001b[1;31m---------------------------------------------------------------------------\u001b[0m",
      "\u001b[1;31mNameError\u001b[0m                                 Traceback (most recent call last)",
      "\u001b[1;32m~\\AppData\\Local\\Temp\\ipykernel_10484\\1497285116.py\u001b[0m in \u001b[0;36m<module>\u001b[1;34m\u001b[0m\n\u001b[0;32m      1\u001b[0m \u001b[1;32mdel\u001b[0m \u001b[0ma\u001b[0m\u001b[1;33m\u001b[0m\u001b[1;33m\u001b[0m\u001b[0m\n\u001b[1;32m----> 2\u001b[1;33m \u001b[0mprint\u001b[0m\u001b[1;33m(\u001b[0m\u001b[0ma\u001b[0m\u001b[1;33m)\u001b[0m\u001b[1;33m\u001b[0m\u001b[1;33m\u001b[0m\u001b[0m\n\u001b[0m",
      "\u001b[1;31mNameError\u001b[0m: name 'a' is not defined"
     ]
    }
   ],
   "source": [
    "del a\n",
    "print(a)"
   ]
  },
  {
   "cell_type": "code",
   "execution_count": 81,
   "id": "c9f88427-75a4-40d0-96c3-f5e97e80acd8",
   "metadata": {},
   "outputs": [
    {
     "name": "stdout",
     "output_type": "stream",
     "text": [
      "None\n"
     ]
    }
   ],
   "source": [
    "a = None\n",
    "print(a)"
   ]
  },
  {
   "cell_type": "code",
   "execution_count": 82,
   "id": "5a55a458-de99-4056-9d48-14d45936cdec",
   "metadata": {},
   "outputs": [
    {
     "name": "stdout",
     "output_type": "stream",
     "text": [
      "0.5\n"
     ]
    }
   ],
   "source": [
    "print(2/4)"
   ]
  },
  {
   "cell_type": "code",
   "execution_count": 83,
   "id": "88488b39-59c6-43bc-b9be-eb5c98d2e123",
   "metadata": {},
   "outputs": [
    {
     "name": "stdout",
     "output_type": "stream",
     "text": [
      "2.0\n"
     ]
    }
   ],
   "source": [
    "print(4/2)"
   ]
  },
  {
   "cell_type": "code",
   "execution_count": 84,
   "id": "0ae08063-c1aa-43a6-b581-2c77a5f59156",
   "metadata": {},
   "outputs": [
    {
     "name": "stdout",
     "output_type": "stream",
     "text": [
      "이것은 문자열\n",
      "<class 'str'>\n",
      "이것은 문자열\n",
      "<class 'str'>\n"
     ]
    }
   ],
   "source": [
    "text = '이것은 문자열'\n",
    "text2 = \"이것은 문자열\"\n",
    "print(text)\n",
    "print(type(text))\n",
    "print(text2)\n",
    "print(type(text2))"
   ]
  },
  {
   "cell_type": "code",
   "execution_count": 86,
   "id": "19b8ad1b-28dd-4486-8bdc-e25a8dbeff46",
   "metadata": {},
   "outputs": [
    {
     "name": "stdout",
     "output_type": "stream",
     "text": [
      "don't do that\n"
     ]
    }
   ],
   "source": [
    "text3 = 'don\\'t do that'\n",
    "print(text3)"
   ]
  },
  {
   "cell_type": "code",
   "execution_count": 89,
   "id": "686d2a29-d4db-46a4-867e-337d1e93131c",
   "metadata": {},
   "outputs": [
    {
     "name": "stdout",
     "output_type": "stream",
     "text": [
      "\"안녕?\" 이라는 그 인사를 듣고 나는 '누구지?' 라고 생각했다.\n"
     ]
    }
   ],
   "source": [
    "text4 = \"\\\"안녕?\\\" 이라는 그 인사를 듣고 나는 '누구지?' 라고 생각했다.\"\n",
    "print(text4)"
   ]
  },
  {
   "cell_type": "code",
   "execution_count": 90,
   "id": "33ce8888-ce02-4c06-8a65-e24a5ad8a149",
   "metadata": {},
   "outputs": [
    {
     "name": "stdout",
     "output_type": "stream",
     "text": [
      "First line. \n",
      "Second line.\n"
     ]
    }
   ],
   "source": [
    "s = 'First line. \\nSecond line.'\n",
    "print(s)"
   ]
  },
  {
   "cell_type": "code",
   "execution_count": 91,
   "id": "9d75fb49-3a04-4b7b-9d38-b5ebef96635a",
   "metadata": {},
   "outputs": [
    {
     "name": "stdout",
     "output_type": "stream",
     "text": [
      "c:\\name\n",
      "c:\\name\n"
     ]
    }
   ],
   "source": [
    "s1 = r'c:\\name'\n",
    "s2 = 'c:\\\\name'\n",
    "print(s1)\n",
    "print(s2)"
   ]
  },
  {
   "cell_type": "code",
   "execution_count": 102,
   "id": "7a9b6630-0a65-48b4-8175-ebb7098bf818",
   "metadata": {},
   "outputs": [
    {
     "name": "stdout",
     "output_type": "stream",
     "text": [
      "플라이 3세트\n",
      "인클라인 4세트\n",
      "벤치 5세트\n",
      "인클라인 머신 4세트\n",
      "딥스 4세트\n",
      "케이블푸쉬다운 4세트\n",
      "라잉트라이셉스 or 오버헤드\n"
     ]
    }
   ],
   "source": [
    "s3 = \"\"\"\\\n",
    "플라이 3세트\n",
    "인클라인 4세트\n",
    "벤치 5세트\n",
    "인클라인 머신 4세트\n",
    "딥스 4세트\n",
    "케이블푸쉬다운 4세트\n",
    "라잉트라이셉스 or 오버헤드\\\n",
    "\"\"\"\n",
    "\n",
    "print(s3)"
   ]
  },
  {
   "cell_type": "code",
   "execution_count": 105,
   "id": "4e9efa37-71a6-40db-8061-847034d82633",
   "metadata": {},
   "outputs": [
    {
     "name": "stdout",
     "output_type": "stream",
     "text": [
      "실행결과:\n",
      "\"안녕하세요\"\n",
      "나는 파이썬을 공부하고 있습니다.\n",
      "반갑습니다.\n"
     ]
    }
   ],
   "source": [
    "s4 = \"\"\"\\\n",
    "실행결과:\n",
    "\"안녕하세요\"\n",
    "나는 파이썬을 공부하고 있습니다.\n",
    "반갑습니다.\\\n",
    "\"\"\"\n",
    "print(s4)"
   ]
  },
  {
   "cell_type": "code",
   "execution_count": 107,
   "id": "37302943-7bd8-4a2b-a592-c236c915baba",
   "metadata": {},
   "outputs": [
    {
     "name": "stdout",
     "output_type": "stream",
     "text": [
      "\n",
      "실행결과:\n",
      "너무 너무 너무 너무 너무 너무 너무 너무 너무 파이썬 공부가 즐겁습니다\n",
      "\n"
     ]
    }
   ],
   "source": [
    "s5 = \"\"\"\n",
    "실행결과:\n",
    "너무 너무 너무 너무 너무 너무 너무 너무 너무 파이썬 공부가 즐겁습니다\n",
    "\"\"\"\n",
    "print(s5)"
   ]
  },
  {
   "cell_type": "code",
   "execution_count": 113,
   "id": "b1d1bc7e-9f7e-4b7d-ab02-47763db5d210",
   "metadata": {},
   "outputs": [
    {
     "name": "stdout",
     "output_type": "stream",
     "text": [
      "너무 너무 너무 너무 너무 너무 너무 파이썬 공부가 즐겁습니다\n"
     ]
    }
   ],
   "source": [
    "s6 = \"너무 \" * 7 + \"파이썬 공부가 즐겁습니다\"\n",
    "print(s6)"
   ]
  },
  {
   "cell_type": "code",
   "execution_count": 135,
   "id": "2c315bac-17a1-4832-bed5-00b7e037675c",
   "metadata": {},
   "outputs": [
    {
     "name": "stdout",
     "output_type": "stream",
     "text": [
      "h\n"
     ]
    }
   ],
   "source": [
    "word = 'python'\n",
    "print(word[3])"
   ]
  },
  {
   "cell_type": "code",
   "execution_count": 136,
   "id": "f52d4247-0f34-4424-a803-a6db03b960ef",
   "metadata": {},
   "outputs": [
    {
     "name": "stdout",
     "output_type": "stream",
     "text": [
      "중 꺾 마\n"
     ]
    }
   ],
   "source": [
    "sentence = '중요한 것은 꺾이지 않는 마음'\n",
    "print(sentence[0], sentence[7], sentence[-2])"
   ]
  },
  {
   "cell_type": "code",
   "execution_count": 138,
   "id": "4861e590-c4a1-472c-a3b3-b08f89e7bbc2",
   "metadata": {},
   "outputs": [
    {
     "name": "stdout",
     "output_type": "stream",
     "text": [
      "py\n"
     ]
    }
   ],
   "source": [
    "print(word[0:2])"
   ]
  },
  {
   "cell_type": "code",
   "execution_count": 141,
   "id": "4c4f8ad2-e2cf-4573-950d-8469b383bbf6",
   "metadata": {},
   "outputs": [
    {
     "name": "stdout",
     "output_type": "stream",
     "text": [
      "ph\n"
     ]
    }
   ],
   "source": [
    "print(word[::3])"
   ]
  },
  {
   "cell_type": "code",
   "execution_count": 142,
   "id": "571a8f3a-9824-4fbd-abf8-243b2b4923bd",
   "metadata": {},
   "outputs": [
    {
     "name": "stdout",
     "output_type": "stream",
     "text": [
      "\n"
     ]
    }
   ],
   "source": [
    "print(sentence[42:])"
   ]
  },
  {
   "cell_type": "code",
   "execution_count": 143,
   "id": "3e09b038-493b-42b7-88ec-d3fd140b06a2",
   "metadata": {},
   "outputs": [
    {
     "name": "stdout",
     "output_type": "stream",
     "text": [
      "한 것은 꺾이지 않는 마음\n"
     ]
    }
   ],
   "source": [
    "print(sentence[2:42])"
   ]
  },
  {
   "cell_type": "code",
   "execution_count": 146,
   "id": "173235c6-a447-41f9-b8d6-2655b8f5eb10",
   "metadata": {},
   "outputs": [
    {
     "name": "stdout",
     "output_type": "stream",
     "text": [
      "꺾이지 않는 마음\n"
     ]
    }
   ],
   "source": [
    "print(sentence[7:])"
   ]
  },
  {
   "cell_type": "code",
   "execution_count": 160,
   "id": "fddbe601-bdb7-4da0-b262-9e69951d7a6a",
   "metadata": {},
   "outputs": [
    {
     "name": "stdout",
     "output_type": "stream",
     "text": [
      "한요중\n"
     ]
    }
   ],
   "source": [
    "print(sentence[2::-1])"
   ]
  },
  {
   "cell_type": "code",
   "execution_count": 166,
   "id": "ed6741a7-bbaa-455e-b8ed-83ba338e6b61",
   "metadata": {},
   "outputs": [
    {
     "name": "stdin",
     "output_type": "stream",
     "text": [
      " 2 3 4 5 6 27\n"
     ]
    }
   ],
   "source": [
    "num = list(map(int,input().split()))"
   ]
  },
  {
   "cell_type": "code",
   "execution_count": 167,
   "id": "43fccc48-4ed8-4946-a3f8-ea4f33e71420",
   "metadata": {},
   "outputs": [
    {
     "name": "stdout",
     "output_type": "stream",
     "text": [
      "[2, 3, 4, 5, 6, 27]\n"
     ]
    }
   ],
   "source": [
    "print(num)"
   ]
  },
  {
   "cell_type": "code",
   "execution_count": 168,
   "id": "9ec0ac84-f499-490d-b0c9-972d0b3173a2",
   "metadata": {},
   "outputs": [
    {
     "name": "stdout",
     "output_type": "stream",
     "text": [
      "[['l', 'o', 'v', 'e'], [1, 2, 3, 4]]\n"
     ]
    }
   ],
   "source": [
    "x = ['l', 'o', 'v', 'e']\n",
    "y = [1, 2, 3, 4]\n",
    "a = [x, y]\n",
    "print(a)"
   ]
  },
  {
   "cell_type": "code",
   "execution_count": 169,
   "id": "c11d3a0e-d7fe-4dd5-948b-4a9d62d66022",
   "metadata": {},
   "outputs": [
    {
     "name": "stdout",
     "output_type": "stream",
     "text": [
      "False\n"
     ]
    }
   ],
   "source": [
    "print(5 in y)"
   ]
  },
  {
   "cell_type": "code",
   "execution_count": 170,
   "id": "23df595b-f91a-4572-8bf3-29bb94e1ad39",
   "metadata": {},
   "outputs": [
    {
     "name": "stdout",
     "output_type": "stream",
     "text": [
      "True\n"
     ]
    }
   ],
   "source": [
    "print(4 in y)"
   ]
  },
  {
   "cell_type": "code",
   "execution_count": null,
   "id": "488031a8-1473-4136-a1d1-a09765f70ffa",
   "metadata": {},
   "outputs": [],
   "source": []
  }
 ],
 "metadata": {
  "kernelspec": {
   "display_name": "Python 3 (ipykernel)",
   "language": "python",
   "name": "python3"
  },
  "language_info": {
   "codemirror_mode": {
    "name": "ipython",
    "version": 3
   },
   "file_extension": ".py",
   "mimetype": "text/x-python",
   "name": "python",
   "nbconvert_exporter": "python",
   "pygments_lexer": "ipython3",
   "version": "3.9.13"
  }
 },
 "nbformat": 4,
 "nbformat_minor": 5
}
