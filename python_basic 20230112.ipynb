{
 "cells": [
  {
   "cell_type": "markdown",
   "id": "c91b80fd-75c5-4253-b26a-ac8681613d24",
   "metadata": {},
   "source": [
    "## 20230112"
   ]
  },
  {
   "cell_type": "markdown",
   "id": "27eefc57-c1d9-46a0-8a6e-e736934d3914",
   "metadata": {},
   "source": [
    "## random라이브러리\n",
    "임의의 수를 생성할 때 사용하는 ㅍ표준 라이브러리 random(시작정수, 끝정수) 함수를 활용하면 시작정수부터 끝정수까지 범위의  \n",
    "난수를 생성할 수 있다"
   ]
  },
  {
   "cell_type": "code",
   "execution_count": 2,
   "id": "2869ada2-233f-457f-9328-8f070909239a",
   "metadata": {},
   "outputs": [
    {
     "name": "stdout",
     "output_type": "stream",
     "text": [
      "[2, 1, 2, 2, 1, 1, 1, 2, 1, 1]\n"
     ]
    }
   ],
   "source": [
    "import random\n",
    "random_list = [random.randint(1, 2) for _ in range(10)]\n",
    "print(random_list)"
   ]
  },
  {
   "cell_type": "markdown",
   "id": "5eda623d-9247-41ce-91ea-ca2035ff85a9",
   "metadata": {},
   "source": [
    "## 연습문제  \n",
    "사용자가 원하는 개수만큼의 로또 번호 생성기를 만들고자 합니다.  \n",
    "로또 규칙은 다음과 같다  \n",
    "1. 번호의 범위는 1 ~ 45  \n",
    "2. 총 6개의 번호를 생성  \n",
    "3. 생성된 번호는 오름 차순으로 정렬  \n",
    "4. 생성된 번호들에 중복은 있으면 안됨"
   ]
  },
  {
   "cell_type": "code",
   "execution_count": 25,
   "id": "ceaf2c93-d6b1-4d56-91ce-21ab54cbf625",
   "metadata": {},
   "outputs": [
    {
     "name": "stdin",
     "output_type": "stream",
     "text": [
      "번호를 몇개 드릴까요? 5\n"
     ]
    },
    {
     "name": "stdout",
     "output_type": "stream",
     "text": [
      "[9, 13, 15, 34, 41, 42]\n",
      "[8, 14, 16, 23, 32, 36]\n",
      "[4, 20, 33, 35, 37, 41]\n",
      "[2, 29, 40, 42, 43, 44]\n",
      "[8, 17, 23, 25, 30, 36]\n"
     ]
    }
   ],
   "source": [
    "import random\n",
    "\n",
    "num =  int(input(\"번호를 몇개 드릴까요?\"))\n",
    "\n",
    "for i in range(num):\n",
    "    a = []\n",
    "    for _ in range(6):\n",
    "        while True:\n",
    "            number = random.randint(1,45)\n",
    "            if number not in a:\n",
    "                a.append(number)\n",
    "                break\n",
    "    a.sort()\n",
    "    print(a)"
   ]
  },
  {
   "cell_type": "code",
   "execution_count": 51,
   "id": "a20d4013-b094-48b0-943f-210e952b4991",
   "metadata": {},
   "outputs": [
    {
     "name": "stdin",
     "output_type": "stream",
     "text": [
      "번호를 몇개 드릴까요? 5\n"
     ]
    },
    {
     "name": "stdout",
     "output_type": "stream",
     "text": [
      "[11, 20, 22, 23, 28, 43]\n",
      "[2, 11, 14, 16, 19, 41]\n",
      "[13, 18, 24, 25, 29, 40]\n",
      "[10, 17, 25, 28, 31, 35]\n",
      "[9, 16, 21, 22, 26, 40]\n"
     ]
    }
   ],
   "source": [
    "import random\n",
    "\n",
    "count =  int(input(\"번호를 몇개 드릴까요?\"))\n",
    "for i in range(count):\n",
    "    lotto = [j for j in range(1,46)]\n",
    "    lotto_numbers = []\n",
    "    for _ in range(6):\n",
    "        lotto_number = lotto[random.randint(1, len(lotto) - 1)]\n",
    "        lotto_numbers.append(lotto_number)\n",
    "        lotto.remove(lotto_number)\n",
    "        lotto_numbers.sort()\n",
    "    print(lotto_numbers)\n"
   ]
  },
  {
   "cell_type": "markdown",
   "id": "062dc934-a30a-4763-810a-7403ffa5a3f2",
   "metadata": {},
   "source": [
    "### set 자료형\n",
    "수학에 나오는 집합을 영어로 set이라고한다. 합집합, 교집합, 차집합과 같은 처리가 가능하다  \n",
    "세트는 딕셔너리처럼 중괄호를 사용해서 생성한다 -> {}  \n",
    "중복된 요소를 가지지 않는다, "
   ]
  },
  {
   "cell_type": "code",
   "execution_count": 52,
   "id": "08da0128-4925-48a5-a538-83534d11af88",
   "metadata": {},
   "outputs": [
    {
     "name": "stdout",
     "output_type": "stream",
     "text": [
      "set()\n"
     ]
    }
   ],
   "source": [
    "print(set())"
   ]
  },
  {
   "cell_type": "markdown",
   "id": "551ea679-ec48-4321-ae0c-84306b148434",
   "metadata": {},
   "source": [
    "### 세트 자료형 컴프리헨션\n",
    "{expression for 변수 in iterable if 조건식}"
   ]
  },
  {
   "cell_type": "markdown",
   "id": "6beb94d3-3ab6-4b96-9897-380f2d607ade",
   "metadata": {},
   "source": [
    "### 세트에 값 넣는법\n",
    "세트 메서드로 add()가 있다 이 메서드를 통해 세트 자료형에 값을 추가할 수 있다.  \n",
    "사용하는 방법은 세트자료형.add()이다. 한 번에 하나의 값만 넣을 수 있다"
   ]
  },
  {
   "cell_type": "markdown",
   "id": "63eb0348-10d4-47ce-a3e3-30a217b1fe38",
   "metadata": {},
   "source": [
    "### 세트 자료형, 요소 삭제하기\n",
    "요소를 삭제하는 방법으로 2가지가 존재한다. 우선 먼저 설명드릴 메서드는  \n",
    "remove()를 활용한다 세트자료형.remove() 삭제시킬 요소가 없으면 키에러가 발생한다  \n",
    "다른 방법으로는 discard메서드 이다 세트자료형.discard(요소)와 같이 입력하면 된다.  \n",
    "삭제시킬 요소가 없어도 키에러를 발생시키지 않는다"
   ]
  },
  {
   "cell_type": "markdown",
   "id": "c2e9de05-f14a-4d0e-8d4a-88b6a35a6434",
   "metadata": {},
   "source": [
    "### 세트자료형 - 요소 임의 삭제하기\n",
    "pop() - 요소를 랜덤하게 삭제하는 메서드, 삭제하려는 요소를 임의로 선책하고 반환한뒤 삭제한다. 삭제할 요소가 없으면 키에러를 발생시킨다\n",
    "clear() - 요소 전체 삭제"
   ]
  },
  {
   "cell_type": "markdown",
   "id": "2700d202-690a-4839-ac46-e25c78a28fa1",
   "metadata": {},
   "source": [
    "### 세트자료형 - 합집합 혹은 Vertical bar(|)\n",
    "set.union(세트1, 세트2)의 형태로 사용한다. 세트 자료형1과 세트 자료형2의 값을  \n",
    "합친 것중에서 중복을 제거한다 vertical bar를 사용해서 세트1|세트2 처럼 사용도 가능하다"
   ]
  },
  {
   "cell_type": "markdown",
   "id": "7ff31259-4686-466d-a9aa-3ea08b369382",
   "metadata": {},
   "source": [
    "교집합 - &  \n",
    "차집합 - difference(세트1, 세트2) '-' 활용 가능 A - B  \n",
    "대칭차집합 - set.symmetric_difference(세트1, 세트2) ^ 기호 사용, 세트1과 세트2중에서 중복되지 않는 것들을 반환  \n",
    "update() - 세트 자료형1에 세트 자료형 2를 추가한다  \n",
    "intersection_update() - 세트1에 세트2와의 차집합을 대입한다 -=를 활용 하여 나타낼 수 있다  \n",
    "^= - 세트1과 세트2에 겹치지않는 차집합 대입  \n",
    "부분집합 - issubset(), 부분집합이면 True 아니면 False  \n",
    "상위집합 - 세트자료형1.issuperset(세트2) 1이 2의 상위집합이면 True 아니면 False  \n",
    "진부분집합 - 세트자료형1 < 세트 자료형2 처럼 사용할 수 있다  "
   ]
  },
  {
   "cell_type": "code",
   "execution_count": 1,
   "id": "07f7b45f-6d9d-4ce2-ab24-69fb81ccc82d",
   "metadata": {},
   "outputs": [
    {
     "name": "stdin",
     "output_type": "stream",
     "text": [
      "로또번호 몇 개 드릴까요? 10\n"
     ]
    },
    {
     "name": "stdout",
     "output_type": "stream",
     "text": [
      "[10, 18, 21, 42, 44, 45]\n",
      "[6, 12, 31, 37, 40, 43]\n",
      "[1, 12, 13, 21, 35, 37]\n",
      "[6, 10, 18, 22, 28, 35]\n",
      "[7, 16, 24, 27, 31, 37]\n",
      "[5, 10, 17, 22, 30, 43]\n",
      "[2, 6, 11, 21, 26, 28]\n",
      "[14, 16, 25, 31, 38, 40]\n",
      "[3, 5, 10, 28, 34, 35]\n",
      "[4, 12, 19, 22, 26, 38]\n"
     ]
    }
   ],
   "source": [
    "import random\n",
    "\n",
    "n = int(input(\"로또번호 몇 개 드릴까요?\"))\n",
    "\n",
    "for i in range(n):\n",
    "    lotto = set()\n",
    "    while len(lotto) < 6:\n",
    "        numbers = random.randint(1,45)\n",
    "        lotto.add(numbers)\n",
    "    lotto = sorted(lotto)\n",
    "    print(lotto)"
   ]
  },
  {
   "cell_type": "markdown",
   "id": "1280978f-3177-4834-8b2a-c7dfcdcdba05",
   "metadata": {},
   "source": [
    "## 연습문제\n",
    "아래와 같은 리스트가 있을 때 set자료형을 통해 중복을 제거하고 출력해보세요  \n",
    "list_sample = [1, 2, 2, 3, 3, 3, 4, 4, 4, 4]"
   ]
  },
  {
   "cell_type": "code",
   "execution_count": 3,
   "id": "4e8cb596-4242-499a-98b1-9ce5ecf02060",
   "metadata": {},
   "outputs": [
    {
     "name": "stdout",
     "output_type": "stream",
     "text": [
      "{1, 2, 3, 4}\n"
     ]
    }
   ],
   "source": [
    "list_sample = [1, 2, 2, 3, 3, 3, 4, 4, 4, 4]\n",
    "print(set(list_sample))"
   ]
  },
  {
   "cell_type": "markdown",
   "id": "26a3e3bd-a551-472c-af4b-dc5d7c9667b2",
   "metadata": {},
   "source": [
    "## 연습문제\n",
    "집합 컴프리헨션을 통해서 1 ~ 100 사이의 3의 공배수를 구하고 set_3 변수에 담는다  \n",
    "집합 컴프리헨션을 통해서 1 ~ 100 사이의 5의 공배수를 구하고 set_5 변수에 담는다  \n",
    "이들의 교집합을 구하고 result_set변수에 담는다 그리고 출력하라\n"
   ]
  },
  {
   "cell_type": "code",
   "execution_count": 6,
   "id": "e61804b8-f9e6-4a6f-a3a7-94f6eb3b38b5",
   "metadata": {},
   "outputs": [
    {
     "name": "stdout",
     "output_type": "stream",
     "text": [
      "{75, 45, 15, 90, 60, 30}\n"
     ]
    }
   ],
   "source": [
    "set_3 = {i for i in range(1,101) if (i % 3) == 0}\n",
    "set_5 = {i for i in range(1,101) if (i % 5) == 0}\n",
    "result_set = set_3 & set_5\n",
    "print(result_set)"
   ]
  },
  {
   "cell_type": "markdown",
   "id": "2d3cb51f-5f9c-457e-9a44-050229d0b287",
   "metadata": {},
   "source": [
    "## 연습문제\n",
    "시스템 관리자이자 겸직으로 인ㄷ사팀에 있는 A씨의 권한은 role_admin, role_hr, role_user를 갖습니다  \n",
    "이때 권한마다 갖는 홈페이지 메뉴가 다음과 같다  \n",
    "role_admin = (\"회계관리\", \"인사관리\", \"구매관리\", \"시스템 관리\")  \n",
    "role_hr = (\"인사관리,\", \"개인정보 조회\", \"회계관리\", \"근태관리\")  \n",
    "role_user (\"개인정보 조회\", \"근태관리\")  "
   ]
  },
  {
   "cell_type": "code",
   "execution_count": 50,
   "id": "5efb6ba3-1812-40ad-8a65-8e2c0b1d9fd8",
   "metadata": {},
   "outputs": [
    {
     "name": "stdout",
     "output_type": "stream",
     "text": [
      "개인정보 조회 ,구매관리 ,근태관리 ,시스템 관리 ,인사관리 ,회계관리 ,"
     ]
    }
   ],
   "source": [
    "role_admin = (\"회계관리\", \"인사관리\", \"구매관리\", \"시스템 관리\")  \n",
    "role_hr = (\"인사관리\", \"개인정보 조회\", \"회계관리\", \"근태관리\")  \n",
    "role_user = (\"개인정보 조회\", \"근태관리\")\n",
    "s1 = set(role_admin)\n",
    "s2 = set(role_hr)\n",
    "s3 = set(role_user)\n",
    "s4 = s1 | s2 | s3\n",
    "roles_list = list(s4)\n",
    "roles_list.sort()\n",
    "for i in roles_list:\n",
    "    if roles_list[-1] == i:\n",
    "        char = \"\"\n",
    "    print(i,',', end = char)"
   ]
  },
  {
   "cell_type": "markdown",
   "id": "1c92353d-16c5-4b0e-b96b-43066fb0c2e0",
   "metadata": {},
   "source": [
    "## 연습문제\n",
    "2부터 입력 받은 수까지의 소수를 한줄에 7개씩 보여주는 프로그램을 작성하라"
   ]
  },
  {
   "cell_type": "code",
   "execution_count": 105,
   "id": "dd04f2af-61a5-4e9e-867f-da76d816c1c5",
   "metadata": {},
   "outputs": [
    {
     "name": "stdin",
     "output_type": "stream",
     "text": [
      "찾는 범위를 입력하세요: 10\n"
     ]
    }
   ],
   "source": [
    "num = int(input(\"찾는 범위를 입력하세요:\")) # 2 3 4 5 6 7 8 9 \n",
    "line = 0\n",
    "a = []\n",
    "for i in range(num+1):\n",
    "    for j in range(2,i+1):\n",
    "        if not (i % j == 0):\n",
    "            a.append(j)\n",
    "   \n",
    "\n",
    "    "
   ]
  },
  {
   "cell_type": "code",
   "execution_count": 93,
   "id": "2ee23ef0-a359-4158-b0b3-823fd108dded",
   "metadata": {},
   "outputs": [
    {
     "name": "stdin",
     "output_type": "stream",
     "text": [
      "찾는 범위를 입력하세요: 100\n"
     ]
    },
    {
     "name": "stdout",
     "output_type": "stream",
     "text": [
      "2 3 5 7 11 13 17 \n",
      "19 23 29 31 37 41 43 \n",
      "47 53 59 61 67 71 73 \n",
      "79 83 89 97 "
     ]
    }
   ],
   "source": [
    "n = int(input(\"찾는 범위를 입력하세요:\"))\n",
    "num = 2\n",
    "line = 0\n",
    "\n",
    "while num <= n:\n",
    "    count = 0  \n",
    "    i = 1  \n",
    "    while i <= num:\n",
    "        if num % i == 0:  \n",
    "            count += 1\n",
    "        i += 1  \n",
    "    if count == 2:  \n",
    "        print(num, end =' ')\n",
    "        line += 1\n",
    "    if line == 7:\n",
    "        line = 0\n",
    "        print()\n",
    "\n",
    "    num += 1  # n까지 증가"
   ]
  },
  {
   "cell_type": "markdown",
   "id": "710959a5-07ac-4f14-9703-2c8e159b69b4",
   "metadata": {},
   "source": [
    "## 함수\n",
    "메인코드  \n",
    "x = 함수명(인수, 인수, ...)  \n",
    "print(\"결과 값\",x)  \n",
    "--  \n",
    "함수 정의부  \n",
    "def 함수명(인자, 인자, ...):  \n",
    "    함수코드...  \n",
    "    return 반환값  "
   ]
  },
  {
   "cell_type": "markdown",
   "id": "f98b4a27-25a7-42a5-a343-6d59de2492a5",
   "metadata": {},
   "source": [
    "function_name(param1,param2):  \n",
    "    result = param1 + param2  \n",
    "    return result # 함수 정의부\n",
    "\n",
    "function_name(arg1,arg2) # 함수 호출부\n",
    "\n",
    "함수는 코드를 용도에 맞게 함수 바디에 모아두고 재사용 가능하도록 호출 가능하게 만든 것"
   ]
  },
  {
   "cell_type": "markdown",
   "id": "6c35f3cd-a5e1-42bd-a415-2870cf1642dc",
   "metadata": {},
   "source": [
    "## 함수 VS 메서드:\n",
    "\n",
    "함수는 클래스에 포함되지 않은채로 사용한다"
   ]
  },
  {
   "cell_type": "code",
   "execution_count": 109,
   "id": "1188a0dc-c870-43df-a14d-ccd66ca323f7",
   "metadata": {},
   "outputs": [
    {
     "name": "stdout",
     "output_type": "stream",
     "text": [
      "<function function at 0x0000020A3F105AF0>\n"
     ]
    }
   ],
   "source": [
    "def function():\n",
    "    \"\"\"\n",
    "    Docs Strinf에 부분압나다\n",
    "    이곳에 함수의 설명에 대해 적어놓으면 좋습나다\n",
    "    \"\"\"\n",
    "    \n",
    "    pass\n",
    "\n"
   ]
  },
  {
   "cell_type": "code",
   "execution_count": 110,
   "id": "8717591e-6cbe-434c-a0e9-bc54c1dd3c5b",
   "metadata": {},
   "outputs": [
    {
     "name": "stdout",
     "output_type": "stream",
     "text": [
      "\n",
      "    Docs Strinf에 부분압나다\n",
      "    이곳에 함수의 설명에 대해 적어놓으면 좋습나다\n",
      "    \n"
     ]
    }
   ],
   "source": [
    "print(function.__doc__)"
   ]
  },
  {
   "cell_type": "markdown",
   "id": "308be930-7c56-43c7-a666-08c959bc2898",
   "metadata": {},
   "source": [
    "## 함수의 정의 - 인자\n",
    "함수 정의에서 함수가 받을 수 있는 변수. 함수인지 혹은 매개변수라고 부른다.   \n",
    "인자는 함수 정의절에서 소괄호 안에 정의된다"
   ]
  },
  {
   "cell_type": "code",
   "execution_count": 123,
   "id": "562333dd-3d8b-4a89-a01f-5552be2c4674",
   "metadata": {},
   "outputs": [
    {
     "ename": "SyntaxError",
     "evalue": "invalid syntax (1885169875.py, line 1)",
     "output_type": "error",
     "traceback": [
      "\u001b[1;36m  File \u001b[1;32m\"C:\\Users\\Playdata\\AppData\\Local\\Temp\\ipykernel_6184\\1885169875.py\"\u001b[1;36m, line \u001b[1;32m1\u001b[0m\n\u001b[1;33m    def\u001b[0m\n\u001b[1;37m        ^\u001b[0m\n\u001b[1;31mSyntaxError\u001b[0m\u001b[1;31m:\u001b[0m invalid syntax\n"
     ]
    }
   ],
   "source": [
    "# 함수 정의절 *args는 개수에 상관없이 받아줌\n",
    "def function_name(positional, positional2, *args, keyword = 1, **kargs):\n",
    "    pass # body"
   ]
  },
  {
   "cell_type": "code",
   "execution_count": 138,
   "id": "ea5f68b9-f232-402e-8bf7-499b71342830",
   "metadata": {},
   "outputs": [],
   "source": [
    "def get_grade(score=100):\n",
    "    \"\"\"\n",
    "    숫자로된 정수를 넣으면 학점의 결과를 반환합니다.\n",
    "    \"\"\"\n",
    "    if 85 <= score <= 100:\n",
    "        return 'A'\n",
    "    elif 70 <= score <= 84:\n",
    "        return 'B'\n",
    "    elif 55 <= score <= 69:\n",
    "        return 'C'\n",
    "    elif 40 <= score <= 54:\n",
    "        return 'D'\n",
    "    elif 0 <= score <= 39:\n",
    "        return 'F'"
   ]
  },
  {
   "cell_type": "code",
   "execution_count": 137,
   "id": "d4c31c3a-88cd-490d-adf6-7feecfd3387f",
   "metadata": {
    "jupyter": {
     "source_hidden": true
    },
    "tags": []
   },
   "outputs": [
    {
     "data": {
      "text/plain": [
       "'F'"
      ]
     },
     "execution_count": 137,
     "metadata": {},
     "output_type": "execute_result"
    }
   ],
   "source": [
    "get_grade(30)"
   ]
  },
  {
   "cell_type": "code",
   "execution_count": 129,
   "id": "e1a0dfd2-3a18-4f21-9ebc-75fb8307cc46",
   "metadata": {},
   "outputs": [
    {
     "name": "stdout",
     "output_type": "stream",
     "text": [
      "[42, 27, 46, 63, 83, 39, 27, 38, 51, 10, 76, 8, 32, 49, 89, 44, 14, 79, 96, 56]\n"
     ]
    }
   ],
   "source": [
    "import random\n",
    "\n",
    "scores = [random.randint(1, 100) for _ in range(20)]\n",
    "print(scores)"
   ]
  },
  {
   "cell_type": "code",
   "execution_count": 130,
   "id": "0e9b3aad-0994-4d07-9d71-4d1d35347eef",
   "metadata": {},
   "outputs": [
    {
     "name": "stdout",
     "output_type": "stream",
     "text": [
      "['D', 'F', 'D', 'C', 'B', 'F', 'F', 'F', 'D', 'F', 'B', 'F', 'F', 'D', 'A', 'D', 'F', 'B', 'A', 'C']\n"
     ]
    }
   ],
   "source": [
    "grades = list(map(get_grade, scores))\n",
    "print(grades)"
   ]
  },
  {
   "cell_type": "code",
   "execution_count": 157,
   "id": "f27e03f6-a67b-4e0e-ae89-4487d10b7088",
   "metadata": {},
   "outputs": [],
   "source": [
    "def get_grade(score, student_number, name ='홍길동', ):\n",
    "    \"\"\"\n",
    "    숫자로된 정수를 넣으면 학점의 결과를 반환합니다.\n",
    "    \"\"\"\n",
    "    print(f\"{student_number},{name}의 성적을 확인합니다\")\n",
    "    if 85 <= score <= 100:\n",
    "        return 'A'\n",
    "    elif 70 <= score <= 84:\n",
    "        return 'B'\n",
    "    elif 55 <= score <= 69:\n",
    "        return 'C'\n",
    "    elif 40 <= score <= 54:\n",
    "        return 'D'\n",
    "    elif 0 <= score <= 39:\n",
    "        return 'F'"
   ]
  },
  {
   "cell_type": "code",
   "execution_count": 162,
   "id": "d5c12f4e-8492-4e56-b444-c2a144d86912",
   "metadata": {},
   "outputs": [
    {
     "name": "stdout",
     "output_type": "stream",
     "text": [
      "20161060,김경목의 성적을 확인합니다\n"
     ]
    },
    {
     "data": {
      "text/plain": [
       "'A'"
      ]
     },
     "execution_count": 162,
     "metadata": {},
     "output_type": "execute_result"
    }
   ],
   "source": [
    "get_grade(score = 100,name = '김경목',student_number = '20161060')"
   ]
  },
  {
   "cell_type": "code",
   "execution_count": 186,
   "id": "1434be18-0a43-462a-b92c-557caa300ccf",
   "metadata": {},
   "outputs": [],
   "source": [
    "def add_number(number1, number2=3,/): # / 를 기준으로 완편에 온다\n",
    "    \"\"\"\n",
    "    1과 2를 더한 숫자를 전달 받아 반환합니다\n",
    "    \"\"\"\n",
    "    return number1 + number2"
   ]
  },
  {
   "cell_type": "code",
   "execution_count": 187,
   "id": "115567cf-cb01-43c6-a284-fa57b3ba1bfb",
   "metadata": {},
   "outputs": [
    {
     "name": "stdout",
     "output_type": "stream",
     "text": [
      "\n",
      "    1과 2를 더한 숫자를 전달 받아 반환합니다\n",
      "    \n"
     ]
    }
   ],
   "source": [
    "print(add_number.__doc__)"
   ]
  },
  {
   "cell_type": "code",
   "execution_count": 189,
   "id": "38566050-0b7b-40db-83d9-b98ffcf45923",
   "metadata": {},
   "outputs": [
    {
     "ename": "NameError",
     "evalue": "name 'number1' is not defined",
     "output_type": "error",
     "traceback": [
      "\u001b[1;31m---------------------------------------------------------------------------\u001b[0m",
      "\u001b[1;31mNameError\u001b[0m                                 Traceback (most recent call last)",
      "\u001b[1;32m~\\AppData\\Local\\Temp\\ipykernel_6184\\406312628.py\u001b[0m in \u001b[0;36m<module>\u001b[1;34m\u001b[0m\n\u001b[0;32m      1\u001b[0m \u001b[1;31m# 인수 = positional arguments, keyword arguments\u001b[0m\u001b[1;33m\u001b[0m\u001b[1;33m\u001b[0m\u001b[0m\n\u001b[1;32m----> 2\u001b[1;33m \u001b[0mresult\u001b[0m \u001b[1;33m=\u001b[0m \u001b[0madd_number\u001b[0m\u001b[1;33m(\u001b[0m\u001b[0mnumber1\u001b[0m\u001b[1;33m,\u001b[0m \u001b[0mnumber2\u001b[0m\u001b[1;33m)\u001b[0m\u001b[1;33m\u001b[0m\u001b[1;33m\u001b[0m\u001b[0m\n\u001b[0m",
      "\u001b[1;31mNameError\u001b[0m: name 'number1' is not defined"
     ]
    }
   ],
   "source": [
    "# 인수 = positional arguments, keyword arguments\n",
    "result = add_number(number1, number2)"
   ]
  },
  {
   "cell_type": "code",
   "execution_count": 179,
   "id": "400db6bd-fe79-42c6-b70b-82fb72ebcb89",
   "metadata": {},
   "outputs": [
    {
     "name": "stdout",
     "output_type": "stream",
     "text": [
      "4\n"
     ]
    }
   ],
   "source": [
    "print(result)"
   ]
  },
  {
   "cell_type": "code",
   "execution_count": 183,
   "id": "ebf941a7-fdd8-4f00-b497-d64ea4215674",
   "metadata": {},
   "outputs": [],
   "source": [
    "def minus_number(*,number1, number2=3): # * 를 기준으로 오른편에 온다\n",
    "    \"\"\"\n",
    "    1과 2를 더한 숫자를 전달 받아 반환합니다\n",
    "    \"\"\"\n",
    "    return number1 - number2"
   ]
  },
  {
   "cell_type": "code",
   "execution_count": 184,
   "id": "ca24306b-a5fb-44bb-888a-85fba0d476ae",
   "metadata": {},
   "outputs": [],
   "source": [
    "# 인수 = positional arguments, keyword arguments\n",
    "result = minus_number(number1 = 20, number2 = 5)"
   ]
  },
  {
   "cell_type": "code",
   "execution_count": 185,
   "id": "3c537c2c-5505-4563-a37c-b16ba4905f9e",
   "metadata": {},
   "outputs": [
    {
     "name": "stdout",
     "output_type": "stream",
     "text": [
      "15\n"
     ]
    }
   ],
   "source": [
    "print(result)"
   ]
  },
  {
   "cell_type": "code",
   "execution_count": 195,
   "id": "5bbfa23a-bc5f-410c-a047-5fec8935a976",
   "metadata": {},
   "outputs": [],
   "source": [
    "def multi_number(number1,/,*, number2): \n",
    "    \"\"\"\n",
    "    1과 2를 더한 숫자를 전달 받아 반환합니다\n",
    "    \"\"\"\n",
    "    return number1 * number2"
   ]
  },
  {
   "cell_type": "code",
   "execution_count": 196,
   "id": "beb6cac1-81c3-420c-8b3e-0db0b2da7ccf",
   "metadata": {},
   "outputs": [
    {
     "data": {
      "text/plain": [
       "30"
      ]
     },
     "execution_count": 196,
     "metadata": {},
     "output_type": "execute_result"
    }
   ],
   "source": [
    "multi_number(3, number2= 10)"
   ]
  },
  {
   "cell_type": "code",
   "execution_count": 205,
   "id": "68e56c91-73af-44ef-9334-c1b0fda0a35d",
   "metadata": {},
   "outputs": [],
   "source": [
    "def string_line(str_value,  str_len,sep = \"#\"):\n",
    "    \"\"\"\n",
    "    str_value는 가운데 오는 텍스트\n",
    "    str_len은 텍스트의 설정할 길이입니다\n",
    "    sep은 구분선을 그을때 쓰는 문자입니다\n",
    "    \"\"\"\n",
    "    print(str_value.center(str_len, sep))"
   ]
  },
  {
   "cell_type": "code",
   "execution_count": 206,
   "id": "ff919945-34c9-4448-a0c6-ea6c99bfd192",
   "metadata": {},
   "outputs": [
    {
     "name": "stdout",
     "output_type": "stream",
     "text": [
      "########################구분########################\n"
     ]
    }
   ],
   "source": [
    "string_line(\"구분\", 50, sep = \"#\")"
   ]
  },
  {
   "cell_type": "code",
   "execution_count": 200,
   "id": "989c83f9-4dfc-43f3-97ab-ae4522ba41a3",
   "metadata": {},
   "outputs": [
    {
     "name": "stdout",
     "output_type": "stream",
     "text": [
      "------------------------------------------------절취선-------------------------------------------------\n"
     ]
    }
   ],
   "source": [
    "string_line('절취선', str_len = 100, sep = \"-\")"
   ]
  },
  {
   "cell_type": "code",
   "execution_count": 203,
   "id": "48bce07a-5792-499b-bf43-29976c324987",
   "metadata": {},
   "outputs": [],
   "source": [
    "def test_func(a,b,c, *args):\n",
    "    print(f\"a : {a} b : {b} c : {c}\")\n",
    "    print(type(args))\n",
    "    print(args)"
   ]
  },
  {
   "cell_type": "code",
   "execution_count": 204,
   "id": "1ec43daa-533c-4a3e-b2a1-a987ef80de78",
   "metadata": {},
   "outputs": [
    {
     "name": "stdout",
     "output_type": "stream",
     "text": [
      "a : a 위치입니다 b : b 위치입니다 c : c 위치입니다\n",
      "<class 'tuple'>\n",
      "('여기는', '어딜까요')\n"
     ]
    }
   ],
   "source": [
    "test_func(\"a 위치입니다\", \"b 위치입니다\", \"c 위치입니다\", \"여기는\", \"어딜까요\")"
   ]
  },
  {
   "cell_type": "code",
   "execution_count": 207,
   "id": "9c2b7f2b-f41b-45a8-8f64-4beae9d537ec",
   "metadata": {},
   "outputs": [],
   "source": [
    "def test_func2(a=\"a\", b=\"b\", **kargs):\n",
    "    print(a,b)\n",
    "    print(type(kargs))\n",
    "    print(kargs)\n",
    "    "
   ]
  },
  {
   "cell_type": "code",
   "execution_count": 208,
   "id": "d09779eb-de90-4005-bcdb-8c318ebe1fd0",
   "metadata": {},
   "outputs": [
    {
     "name": "stdout",
     "output_type": "stream",
     "text": [
      "ab bc\n",
      "<class 'dict'>\n",
      "{'key': 'value', 'key2': 'value2'}\n"
     ]
    }
   ],
   "source": [
    "test_func2(a = \"ab\", b = \"bc\", key = \"value\", key2 = \"value2\")"
   ]
  },
  {
   "cell_type": "code",
   "execution_count": 2,
   "id": "fe26c429-93c0-4b2b-829e-f78d94fd47d5",
   "metadata": {},
   "outputs": [],
   "source": [
    "## 연습문제\n",
    "# 각 입력받은 정수를 10씩 더해서 반환하는 함수를 만들어 보세요\n",
    "def plus_ten(n):\n",
    "    return n + 10"
   ]
  },
  {
   "cell_type": "code",
   "execution_count": 3,
   "id": "53e22333-d7e8-4b6e-9cdc-3802ff73d486",
   "metadata": {},
   "outputs": [
    {
     "data": {
      "text/plain": [
       "80"
      ]
     },
     "execution_count": 3,
     "metadata": {},
     "output_type": "execute_result"
    }
   ],
   "source": [
    "plus_ten(70)"
   ]
  },
  {
   "cell_type": "code",
   "execution_count": null,
   "id": "c8a5fbdf-8cd4-48cb-8208-912f2ca08b39",
   "metadata": {},
   "outputs": [],
   "source": []
  }
 ],
 "metadata": {
  "kernelspec": {
   "display_name": "Python 3 (ipykernel)",
   "language": "python",
   "name": "python3"
  },
  "language_info": {
   "codemirror_mode": {
    "name": "ipython",
    "version": 3
   },
   "file_extension": ".py",
   "mimetype": "text/x-python",
   "name": "python",
   "nbconvert_exporter": "python",
   "pygments_lexer": "ipython3",
   "version": "3.9.13"
  }
 },
 "nbformat": 4,
 "nbformat_minor": 5
}
