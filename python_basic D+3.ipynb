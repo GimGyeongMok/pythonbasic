{
 "cells": [
  {
   "cell_type": "markdown",
   "id": "c4b140af-5b67-4667-9584-2be46d6f510b",
   "metadata": {},
   "source": [
    "# 파이썬 기초 문법4 - 1/4일\n",
    "## 제어 흐름(if, for), range() 함수, 루프, break, continue"
   ]
  },
  {
   "cell_type": "markdown",
   "id": "b46946a9-9478-46da-ac2d-8d001e77e61f",
   "metadata": {},
   "source": [
    "## 연습문제\n",
    "사용자로부터 자연수를 입력 받습니다. 그 숫자에서 50을 뺀 값을 출력하세요.  \n",
    "-단 출력 값의 범위는 0 이상  \n",
    "-50을 뺀 결과가 음수가 될 경우 0을 출력"
   ]
  },
  {
   "cell_type": "code",
   "execution_count": 7,
   "id": "25c338d5-26da-43f8-9575-35cf8dd0e01b",
   "metadata": {},
   "outputs": [
    {
     "name": "stdout",
     "output_type": "stream",
     "text": [
      "실행결과:\n"
     ]
    },
    {
     "name": "stdin",
     "output_type": "stream",
     "text": [
      "자연수 하나를 입력해 주세요: 50\n"
     ]
    },
    {
     "name": "stdout",
     "output_type": "stream",
     "text": [
      "0\n"
     ]
    }
   ],
   "source": [
    "print(\"실행결과:\")\n",
    "num = int(input(\"자연수 하나를 입력해 주세요:\"))\n",
    "if (num - 50) >= 0:\n",
    "    print(num - 50)\n",
    "elif (num - 50) < 0:\n",
    "    print(\"0\")"
   ]
  },
  {
   "cell_type": "markdown",
   "id": "1816bf90-3e2f-4103-86a4-50f75534bd3e",
   "metadata": {},
   "source": [
    "if문의 바디는 나중에 작성할 예정이면 pass키워드를 통해 오류없이 코드를 작성할 수 있다  \n",
    "if 조건식:  \n",
    "    pass # TOBE   \n",
    "if문에서 조건식 뒤에 콜론(:)은 생략 불가능  \n",
    "if문의 조건식이 True일때 실행되는 범위는 들여쓰기가 끝날 때 까지, False일때는 들여쓰기 부분은 실행되지 않는다  "
   ]
  },
  {
   "cell_type": "code",
   "execution_count": 10,
   "id": "bf4dd7d5-9fd0-4125-b96f-4aebbf4c4f01",
   "metadata": {},
   "outputs": [
    {
     "name": "stdin",
     "output_type": "stream",
     "text": [
      "나이를 입력해주세요 27\n"
     ]
    },
    {
     "name": "stdout",
     "output_type": "stream",
     "text": [
      "10살 이상입니다.\n",
      "20살 이상입니다.\n",
      "20대 구간입니다\n",
      "10대 구간입니다\n"
     ]
    }
   ],
   "source": [
    "age = int(input(\"나이를 입력해주세요\"))\n",
    "\n",
    "if age >= 10:\n",
    "    print(\"10살 이상입니다.\")\n",
    "    if age >= 20:\n",
    "        print(\"20살 이상입니다.\")\n",
    "        if age >= 30:\n",
    "            print(\"30살 이상입니다.\")\n",
    "            if age >= 40:\n",
    "                 print(\"40살 이상입니다.\")\n",
    "            print(\"30대 구간입니다\")\n",
    "        print(\"20대 구간입니다\")\n",
    "    print(\"10대 구간입니다\")"
   ]
  },
  {
   "cell_type": "code",
   "execution_count": 12,
   "id": "eed6ca22-085f-48a2-941f-88323ff79a1a",
   "metadata": {},
   "outputs": [
    {
     "name": "stdout",
     "output_type": "stream",
     "text": [
      "합격\n"
     ]
    }
   ],
   "source": [
    "score = 70\n",
    "if score >= 60:\n",
    "    print(\"합격\")\n",
    "else:\n",
    "    print(\"불합격\")"
   ]
  },
  {
   "cell_type": "markdown",
   "id": "a0813715-d71c-4dcd-b80f-2c430265b3cb",
   "metadata": {},
   "source": [
    "##연습문제  \n",
    "사용자로부터 자연수를 입력 받습니다.  \n",
    "값이 짝수인지 홀수인지 화면에 출력합니다."
   ]
  },
  {
   "cell_type": "code",
   "execution_count": 19,
   "id": "dc282c77-6e99-4a8b-8611-00b58fac40b1",
   "metadata": {},
   "outputs": [
    {
     "name": "stdout",
     "output_type": "stream",
     "text": [
      "실행 결과:\n"
     ]
    },
    {
     "name": "stdin",
     "output_type": "stream",
     "text": [
      "자연수 하나 입력하세요 28974547\n"
     ]
    },
    {
     "name": "stdout",
     "output_type": "stream",
     "text": [
      "홀수\n"
     ]
    }
   ],
   "source": [
    "print(\"실행 결과:\")\n",
    "n = int(input(\"자연수 하나 입력하세요\"))\n",
    "if (n%2)==0:\n",
    "    print(\"짝수\")\n",
    "else:\n",
    "    print(\"홀수\")"
   ]
  },
  {
   "cell_type": "markdown",
   "id": "fa27847d-569e-4814-b0ba-0f67f73725b8",
   "metadata": {},
   "source": [
    "## 연습문제\n",
    "사용자로부터 소프트웨어 설계, 소프트웨어 개발, 데이터베이스 구축, 프로그래밍 언어활용, 정보시스템 구축관리 점수를 입력 받습니다.  \n",
    "과목 평균 점수가 60점 이상일 때 합격이다. 평균 점수에 따라 합격, 불합격을 출력하는 프로그램을 만들어라  \n",
    "- 점수는 0부터 100까지, 벗어난 점수는 잘못된 점수입니다 출력, 합격, 불합격은 출력하지 않음  \n",
    "- 과목별 점수는 일단 전부 입력 받는다"
   ]
  },
  {
   "cell_type": "code",
   "execution_count": 29,
   "id": "66a86fb7-2efa-4fd6-bbdf-c651fc96a364",
   "metadata": {},
   "outputs": [
    {
     "name": "stdout",
     "output_type": "stream",
     "text": [
      "실행결과:\n"
     ]
    },
    {
     "name": "stdin",
     "output_type": "stream",
     "text": [
      "소프트웨어 설계 점수를 입력하세요. 20\n",
      "소프트웨어 개발 점수를 입력하세요. 30\n",
      "데이터베이스 구축 점수를 입력하세요. 40\n",
      "프로그래밍 언어 활용 점수를 입력하세요. 50\n",
      "정보시스템 구축 관리 점수를 입력하세요. 60\n"
     ]
    },
    {
     "name": "stdout",
     "output_type": "stream",
     "text": [
      "불합격입니다.\n"
     ]
    }
   ],
   "source": [
    "print(\"실행결과:\")\n",
    "p1 = int(input(\"소프트웨어 설계 점수를 입력하세요.\"))\n",
    "p2 = int(input(\"소프트웨어 개발 점수를 입력하세요.\"))\n",
    "p3 = int(input(\"데이터베이스 구축 점수를 입력하세요.\"))\n",
    "p4 = int(input(\"프로그래밍 언어 활용 점수를 입력하세요.\"))\n",
    "p5 = int(input(\"정보시스템 구축 관리 점수를 입력하세요.\"))\n",
    "if 0 <= p1 <=100 and 0 <= p2 <=100 and 0 <= p3 <=100 and 0 <= p4 <=100 and 0 <= p5 <=100 and (p1+p2+p3+p4+p5)/5 >= 60:\n",
    "    print(\"합격입니다.\")\n",
    "elif 0 <= p1 <=100 and 0 <= p2 <=100 and 0 <= p3 <=100 and 0 <= p4 <=100 and 0 <= p5 <=100 and (p1+p2+p3+p4+p5)/5 <= 60:\n",
    "    print(\"불합격입니다.\")\n",
    "else:\n",
    "    print(\"잘못된 점수입니다\")"
   ]
  },
  {
   "cell_type": "code",
   "execution_count": 31,
   "id": "0459181c-d124-4af0-8ba0-b81803219c50",
   "metadata": {},
   "outputs": [
    {
     "name": "stdin",
     "output_type": "stream",
     "text": [
      "점수를 입력해주세요: 22\n"
     ]
    },
    {
     "name": "stdout",
     "output_type": "stream",
     "text": [
      "성적을 알려드립니다.\n",
      "F입니다\n",
      "안내를 종료합니다\n"
     ]
    }
   ],
   "source": [
    "score = int(input(\"점수를 입력해주세요:\"))\n",
    "\n",
    "print(\"성적을 알려드립니다.\")\n",
    "# 조건문에서 if와 else는 한 번만 사용이 가능하다 elif는 필요에 따라 여러개 사용이 가능하다\n",
    "if score >= 90:\n",
    "    print(\"A입니다.\")\n",
    "elif score >= 80:\n",
    "    print(\"B입니다.\")\n",
    "elif score >= 70:\n",
    "    print(\"C입니다.\")\n",
    "elif score >= 60:\n",
    "    print(\"D입니다.\")\n",
    "else:\n",
    "    print(\"F입니다\")\n",
    "    \n",
    "print(\"안내를 종료합니다\")"
   ]
  },
  {
   "cell_type": "markdown",
   "id": "423a6dc3-3bc9-45de-889e-5b81f50430b9",
   "metadata": {},
   "source": [
    "## 연습 문제\n",
    "물의 온도에 따라 현재 상태를 출력하는 프로그램을 만들려고 합니다.   \n",
    "사용자로부터 물의 온도가 몇인지 입력을 받고 100이상이면 기체로 예상됩니다를 출력합니다    \n",
    "100보다 작고 0 이상이면 액체로 예상됩니다를 출력합니다 0 보다 작으면 고체로 예상됩니다를 출력합니다"
   ]
  },
  {
   "cell_type": "code",
   "execution_count": 36,
   "id": "a34a630b-587c-4707-91ca-f5e97c8927dc",
   "metadata": {},
   "outputs": [
    {
     "name": "stdout",
     "output_type": "stream",
     "text": [
      "실행결과\n"
     ]
    },
    {
     "name": "stdin",
     "output_type": "stream",
     "text": [
      "현재 물의 온도를 입력해주세요 0\n"
     ]
    },
    {
     "name": "stdout",
     "output_type": "stream",
     "text": [
      "액체로 예상됩니다\n"
     ]
    }
   ],
   "source": [
    "print(\"실행결과\")\n",
    "tem = float(input(\"현재 물의 온도를 입력해주세요\"))\n",
    "if tem >= 100:\n",
    "    print(\"기체로 예상됩니다\")\n",
    "elif 0 <= tem < 100:\n",
    "    print(\"액체로 예상됩니다\")\n",
    "elif tem < 0:\n",
    "    print(\"고체로 예상됩니다\")"
   ]
  },
  {
   "cell_type": "markdown",
   "id": "c4955050-0f5b-4c20-943e-06db4a766749",
   "metadata": {},
   "source": [
    "## 연습문제\n",
    "일반 시내 버스 요금을 받는 프로그럄을 만들려고 합니다, 성인(19세 이상)이면 1500원  \n",
    "청소년(12 ~ 18세)이면 1100원 어린이(6~11세)면 800원을 받고 미취학 아동은 무료입니다.    \n",
    "사용자로부터 나이를 입력 받고 나이에 따른 일반 시내 버스 요금을 출력하세요."
   ]
  },
  {
   "cell_type": "code",
   "execution_count": 41,
   "id": "8117c6bf-974e-4707-ba57-68a774c7f2ac",
   "metadata": {},
   "outputs": [
    {
     "name": "stdin",
     "output_type": "stream",
     "text": [
      "자신의 나이를 입력하세요: 18\n"
     ]
    },
    {
     "name": "stdout",
     "output_type": "stream",
     "text": [
      "1100원\n"
     ]
    }
   ],
   "source": [
    "age = int(input(\"자신의 나이를 입력하세요:\"))\n",
    "if age >= 19:\n",
    "    print(\"1500원\")\n",
    "elif 12 <= age <= 18:\n",
    "    print(\"1100원\")\n",
    "elif 6 <= age <= 11:\n",
    "    print(\"800원\")\n",
    "else:\n",
    "    print(\"무료\")"
   ]
  },
  {
   "cell_type": "markdown",
   "id": "53600266-0846-47be-a68d-7ec844dd5589",
   "metadata": {},
   "source": [
    "## 연습문제\n",
    "A사는 B사에서 C상품($10/개)을 납품합니다. 발주 수량에 따라 수량할인을 고려하여 납품가가 달라집니다.  \n",
    "1000개 미만은 수량할인이 적용되지 않습니다.  \n",
    "1000개부터 1500개까지  5%, 1500개 초과 2000개까지 10%를 할인합니다.  \n",
    "2000개 초과부터는 20%를 할인합니다. 발주 수량을 사용자로부터 입력 받고 총 발주금액을 출력하는 프로그램을 작성해보세요(소수점은 버림)"
   ]
  },
  {
   "cell_type": "code",
   "execution_count": 61,
   "id": "8a6a6673-6f22-4318-be8a-f95d33636f06",
   "metadata": {},
   "outputs": [
    {
     "name": "stdin",
     "output_type": "stream",
     "text": [
      "발주 수량을 입력하세요: 1400\n"
     ]
    },
    {
     "name": "stdout",
     "output_type": "stream",
     "text": [
      "1400개를 주문하셨습니다\n",
      "적용 할인율은 5%입니다\n",
      "총 발주 금액은 $13300입니다\n"
     ]
    }
   ],
   "source": [
    "number = int(input(\"발주 수량을 입력하세요:\"))\n",
    "if 2000 < number:\n",
    "    print(number,\"개를 주문하셨습니다\", sep='')\n",
    "    print(\"적용 할인율은 20%입니다\")\n",
    "    print(\"총 발주 금액은 $\", int((number * 10) * 0.8),\"입니다\", sep='')\n",
    "elif 1500 < number <= 2000:\n",
    "    print(number,\"개를 주문하셨습니다\", sep='')\n",
    "    print(\"적용 할인율은 10%입니다\")\n",
    "    print(\"총 발주 금액은 $\", int((number * 10) * 0.9),\"입니다\", sep='')\n",
    "elif 1000 <= number < 1500:\n",
    "    print(number,\"개를 주문하셨습니다\", sep='')\n",
    "    print(\"적용 할인율은 5%입니다\")\n",
    "    print(\"총 발주 금액은 $\", int((number * 10) * 0.95),\"입니다\", sep='')\n",
    "else:\n",
    "    print(number,\"개를 주문하셨습니다\", sep='')\n",
    "    print(\"1000개 미만은 할인되지 않습니다\")\n",
    "    print(\"총 발주 금액은 $\",int(number * 10),\"입니다\", sep='')"
   ]
  },
  {
   "cell_type": "markdown",
   "id": "e326747a-2488-4241-89f1-b4733d889cc6",
   "metadata": {},
   "source": [
    "## 연습문제\n",
    "주민등록번호 뒷자리 7자리 중 맨 앞 번호가 1, 3인 경우는 남자이고 2, 4인 경우는 여자를 의미합니다.    \n",
    "주민등록번호 뒷자리를 입력 받아 성별을 확인하는 프로그램을 작성하세요\n",
    "- 자리수 7자리 아니면 잘못 입력했습니다 출력\n",
    "- 맨 앞 번호가 1,2,3,4,가 아니면 잘못된 입력입니다를 출력"
   ]
  },
  {
   "cell_type": "code",
   "execution_count": 51,
   "id": "a2dcbde9-7e78-4f9f-a25f-952945fd6735",
   "metadata": {},
   "outputs": [
    {
     "name": "stdin",
     "output_type": "stream",
     "text": [
      "주민번호 뒷자리를 입력하세요 111\n"
     ]
    },
    {
     "name": "stdout",
     "output_type": "stream",
     "text": [
      "잘못 입력했습니다\n"
     ]
    }
   ],
   "source": [
    "id_number = input(\"주민번호 뒷자리를 입력하세요\")\n",
    "\n",
    "if len(id_number) != 7:\n",
    "    print(\"잘못 입력했습니다\")\n",
    "elif id_number[0] != '1' and id_number[0] != '2' and id_number[0] != '3' and id_number[0] != '4':\n",
    "    print(\"잘못된 입력입니다\")\n",
    "elif id_number[0] == '1' or id_number[0] == '3':\n",
    "    print(\"남자입니다\")\n",
    "elif id_number[0] == '2' or id_number[0] == '4':\n",
    "    print(\"여자입니다\")\n",
    "    \n"
   ]
  },
  {
   "cell_type": "markdown",
   "id": "87b00e0a-3271-4e8f-95f5-913bf2c14314",
   "metadata": {},
   "source": [
    "## 연습문제\n",
    "사용자로부터 연도 값을 입력받고 윤년인지 아닌지 결과를 출력하는 프로그램을 작성해보세요.  \n",
    "- 연도가 4로 나누어 떨어지는 경우: 윤년, 그 밖의 해 : 평년  \n",
    "예외 규칙  \n",
    "- 100으로 나누어 떨어지되 400으로 나누어 떨어지지 않는 해: 평년"
   ]
  },
  {
   "cell_type": "code",
   "execution_count": 39,
   "id": "2347fea8-0cbd-4e62-b6d8-5034517b0f48",
   "metadata": {},
   "outputs": [
    {
     "name": "stdin",
     "output_type": "stream",
     "text": [
      "확인할 연도를 입력하세요 1900\n"
     ]
    },
    {
     "name": "stdout",
     "output_type": "stream",
     "text": [
      "평년\n"
     ]
    }
   ],
   "source": [
    "years = int(input(\"확인할 연도를 입력하세요\"))\n",
    "\n",
    "if (years % 4) != 0:\n",
    "    print(\"평년\")\n",
    "elif (years % 100) == 0 and (years % 400) != 0:\n",
    "    print(\"평년\")\n",
    "else:\n",
    "    print(\"윤년\")"
   ]
  },
  {
   "cell_type": "markdown",
   "id": "dc2e4d5a-3bdb-4704-8466-8ba7371fef3f",
   "metadata": {},
   "source": [
    "for문과 range() 내장 함수  \n",
    "range() 내장 함수는 연속된 숫자를 만드는데 특화되어 있다.  \n",
    "for문은 반복 실행하는데 특화되어 있다.\n",
    "range() 함수는 연속되는 숫자요소들을 만들 때 활용하면 좋음, 슬라이싱과 구조가 비슷함, 함수형태이기 때문에 소괄호 안에 구분자는 콤마( , )  \n",
    "range(시작, 끝, 증감크기)"
   ]
  },
  {
   "cell_type": "code",
   "execution_count": 57,
   "id": "d673fc6f-3f3a-4184-8c02-0d9d91c13aff",
   "metadata": {},
   "outputs": [
    {
     "name": "stdout",
     "output_type": "stream",
     "text": [
      "[2, 4, 6, 8, 10, 12, 14, 16, 18, 20, 22, 24, 26, 28, 30, 32, 34, 36, 38, 40, 42, 44, 46, 48, 50, 52, 54, 56, 58, 60, 62, 64, 66, 68, 70, 72, 74, 76, 78, 80, 82, 84, 86, 88, 90, 92, 94, 96, 98]\n"
     ]
    }
   ],
   "source": [
    "even_numbers = list(range(2, 100, 2))\n",
    "print(even_numbers)"
   ]
  },
  {
   "cell_type": "markdown",
   "id": "77f0a945-78a2-40c6-b1c5-9de4db76c253",
   "metadata": {},
   "source": [
    "range()가 돌려준 객체는 리스트인 것처럼 동작하지만, 사실 리스트와는 다르다  \n",
    "메모리 공간을 할당하려 미리 모든 요소들을 만들어 두는 것이 아니라 필요할 때 그때그때 다음 요소를 만들어 반환하기에 공간 효율적"
   ]
  },
  {
   "cell_type": "code",
   "execution_count": 63,
   "id": "243cae2f-4e95-40a0-a057-bc03288d40a3",
   "metadata": {},
   "outputs": [
    {
     "name": "stdout",
     "output_type": "stream",
     "text": [
      "Hello word 1\n",
      "Hello word 2\n",
      "Hello word 3\n",
      "Hello word 4\n",
      "Hello word 5\n",
      "Hello word 6\n",
      "Hello word 7\n",
      "Hello word 8\n",
      "Hello word 9\n",
      "Hello word 10\n",
      "Hello word 11\n",
      "Hello word 12\n",
      "Hello word 13\n",
      "Hello word 14\n",
      "Hello word 15\n",
      "Hello word 16\n",
      "Hello word 17\n",
      "Hello word 18\n",
      "Hello word 19\n",
      "Hello word 20\n",
      "Hello word 21\n",
      "Hello word 22\n",
      "Hello word 23\n",
      "Hello word 24\n",
      "Hello word 25\n",
      "Hello word 26\n",
      "Hello word 27\n",
      "Hello word 28\n",
      "Hello word 29\n",
      "Hello word 30\n",
      "Hello word 31\n",
      "Hello word 32\n",
      "Hello word 33\n",
      "Hello word 34\n",
      "Hello word 35\n",
      "Hello word 36\n",
      "Hello word 37\n",
      "Hello word 38\n",
      "Hello word 39\n",
      "Hello word 40\n",
      "Hello word 41\n",
      "Hello word 42\n",
      "Hello word 43\n",
      "Hello word 44\n",
      "Hello word 45\n",
      "Hello word 46\n",
      "Hello word 47\n",
      "Hello word 48\n",
      "Hello word 49\n",
      "Hello word 50\n",
      "Hello word 51\n",
      "Hello word 52\n",
      "Hello word 53\n",
      "Hello word 54\n",
      "Hello word 55\n",
      "Hello word 56\n",
      "Hello word 57\n",
      "Hello word 58\n",
      "Hello word 59\n",
      "Hello word 60\n",
      "Hello word 61\n",
      "Hello word 62\n",
      "Hello word 63\n",
      "Hello word 64\n",
      "Hello word 65\n",
      "Hello word 66\n",
      "Hello word 67\n",
      "Hello word 68\n",
      "Hello word 69\n",
      "Hello word 70\n",
      "Hello word 71\n",
      "Hello word 72\n",
      "Hello word 73\n",
      "Hello word 74\n",
      "Hello word 75\n",
      "Hello word 76\n",
      "Hello word 77\n",
      "Hello word 78\n",
      "Hello word 79\n",
      "Hello word 80\n",
      "Hello word 81\n",
      "Hello word 82\n",
      "Hello word 83\n",
      "Hello word 84\n",
      "Hello word 85\n",
      "Hello word 86\n",
      "Hello word 87\n",
      "Hello word 88\n",
      "Hello word 89\n",
      "Hello word 90\n",
      "Hello word 91\n",
      "Hello word 92\n",
      "Hello word 93\n",
      "Hello word 94\n",
      "Hello word 95\n",
      "Hello word 96\n",
      "Hello word 97\n",
      "Hello word 98\n",
      "Hello word 99\n",
      "Hello word 100\n"
     ]
    }
   ],
   "source": [
    "for i in range(1,101):\n",
    "    print(\"Hello word\",i)"
   ]
  },
  {
   "cell_type": "code",
   "execution_count": 64,
   "id": "8f13e6f8-bc11-4537-87da-af4f509f9319",
   "metadata": {},
   "outputs": [
    {
     "name": "stdin",
     "output_type": "stream",
     "text": [
      "인사 몇번 해드릴까요? 3\n"
     ]
    },
    {
     "name": "stdout",
     "output_type": "stream",
     "text": [
      "Hello world\n",
      "Hello world\n",
      "Hello world\n"
     ]
    }
   ],
   "source": [
    "hello = int(input(\"인사 몇번 해드릴까요?\"))\n",
    "for i in range(hello):\n",
    "    print(\"Hello world\")"
   ]
  },
  {
   "cell_type": "code",
   "execution_count": 76,
   "id": "2900f69a-4f27-4bbb-81e3-c83f70d6224a",
   "metadata": {},
   "outputs": [
    {
     "name": "stdout",
     "output_type": "stream",
     "text": [
      "[5, 6, 7, 8, 9]\n",
      "[0, 3, 6, 9]\n",
      "[-10, -40, -70]\n"
     ]
    }
   ],
   "source": [
    "numbers = list(range(5, 10, 1))\n",
    "print(numbers)\n",
    "numbers2 = list(range(0,10,3))\n",
    "print(numbers2)\n",
    "numbers3 = list(range(-10,-80,-30))\n",
    "print(numbers3)"
   ]
  },
  {
   "cell_type": "markdown",
   "id": "31c8a875-78db-42d7-bc6e-a9e18862f576",
   "metadata": {},
   "source": [
    "## 연습문제\n",
    "아래의 실행 결과 처럼 나오도록 for문과 range()를 활용해서 구현하자  \n",
    "-숫자와 숫자 사이에 \\t를 사용합니다"
   ]
  },
  {
   "cell_type": "code",
   "execution_count": 139,
   "id": "89e74e99-81a3-41c1-bee9-37eafbdd1f8f",
   "metadata": {},
   "outputs": [
    {
     "name": "stdin",
     "output_type": "stream",
     "text": [
      "자연수를 하나 입력해주세요 6\n"
     ]
    },
    {
     "name": "stdout",
     "output_type": "stream",
     "text": [
      "6\t6\t6\t6\t6\t6\t\n",
      "5\t5\t5\t5\t5\t\n",
      "4\t4\t4\t4\t\n",
      "3\t3\t3\t\n",
      "2\t2\t\n",
      "1\t\n"
     ]
    }
   ],
   "source": [
    "numbers = int(input(\"자연수를 하나 입력해주세요\"))\n",
    "for i in range(numbers, 0, -1):\n",
    "    for j in range(i, 0, -1):\n",
    "        print(i, end=\"\\t\")\n",
    "    print()\n",
    "    \n",
    "    \n",
    "    \n",
    "    "
   ]
  },
  {
   "cell_type": "code",
   "execution_count": 144,
   "id": "ba8acbb6-712c-48c4-b1d1-9a4470fa2906",
   "metadata": {},
   "outputs": [
    {
     "name": "stdin",
     "output_type": "stream",
     "text": [
      "자연수를 하나 입력해주세요 4\n"
     ]
    },
    {
     "name": "stdout",
     "output_type": "stream",
     "text": [
      "4\t4\t4\t4\t\n",
      "3\t3\t3\t\n",
      "2\t2\t\n",
      "1\t\n"
     ]
    }
   ],
   "source": [
    "numbers = int(input(\"자연수를 하나 입력해주세요\"))\n",
    "for i in range(numbers, 0, -1):\n",
    "    for j in range(i):\n",
    "        print(i, end=\"\\t\")\n",
    "    print()"
   ]
  },
  {
   "cell_type": "code",
   "execution_count": 158,
   "id": "3cddae03-16bf-4468-bf33-2a34b73e6752",
   "metadata": {},
   "outputs": [
    {
     "name": "stdout",
     "output_type": "stream",
     "text": [
      "* * * * * * * * * * \n",
      "*                 *\n",
      "*                 *\n",
      "*                 *\n",
      "*                 *\n",
      "*                 *\n",
      "*                 *\n",
      "*                 *\n",
      "*                 *\n",
      "* * * * * * * * * * \n"
     ]
    }
   ],
   "source": [
    "for i in range(10):\n",
    "    if i == 0 or i == 9:\n",
    "        print('* ' * 10)\n",
    "    else:\n",
    "        print('*                 *')"
   ]
  },
  {
   "cell_type": "markdown",
   "id": "d1798d56-1dc6-446e-82b0-646f6033b0ed",
   "metadata": {},
   "source": [
    "## 연습문제\n",
    "1부터 사용자로부터 입력 받은 자연수까지의 홀수의 합을 구합니다. 1부터 입력 받은 수까지 홀수 전체를 각각 더하는 산식을 표현하고  \n",
    "그 계산식의 결과를 아래 실행결과와 같이 출력되도록 구해보세요"
   ]
  },
  {
   "cell_type": "code",
   "execution_count": 203,
   "id": "5eedf2c5-46b8-4a25-b25f-0f69b1058739",
   "metadata": {},
   "outputs": [
    {
     "name": "stdin",
     "output_type": "stream",
     "text": [
      "1부터 입력한 자연수까지의 모든 홀수의 합을 구합니다 100\n"
     ]
    },
    {
     "name": "stdout",
     "output_type": "stream",
     "text": [
      "1 + 3 + 5 + 7 + 9 + 11 + 13 + 15 + 17 + 19 + 21 + 23 + 25 + 27 + 29 + 31 + 33 + 35 + 37 + 39 + 41 + 43 + 45 + 47 + 49 + 51 + 53 + 55 + 57 + 59 + 61 + 63 + 65 + 67 + 69 + 71 + 73 + 75 + 77 + 79 + 81 + 83 + 85 + 87 + 89 + 91 + 93 + 95 + 97 + 99 = 2500\n"
     ]
    }
   ],
   "source": [
    "n = int(input(\"1부터 입력한 자연수까지의 모든 홀수의 합을 구합니다\"))\n",
    "sum = 0\n",
    "for i in range(1,n+1,2):\n",
    "    if i % 2 == 1:\n",
    "        if(n - 1) == i or n == i:\n",
    "            print(i, end = ' = ')\n",
    "        else:\n",
    "            print(i, end = ' + ')\n",
    "        sum += i\n",
    "print(sum)"
   ]
  },
  {
   "cell_type": "markdown",
   "id": "7ea11dc7-1990-4dca-b414-a07f3e6af3ec",
   "metadata": {},
   "source": [
    "## 연습문제\n",
    "계승(Factorial)을 계산해보려합니다. 사용자로부터 정수를 하나 입력받는다. 그리고  \n",
    "입력받은 숫자/까지의 계승을 for문을 활용하여 구한 뒤 출력하라"
   ]
  },
  {
   "cell_type": "code",
   "execution_count": 215,
   "id": "9324af70-568a-4701-8856-a5e1f2f711c7",
   "metadata": {},
   "outputs": [
    {
     "name": "stdin",
     "output_type": "stream",
     "text": [
      "계승을 구할 숫자를 입력하세요 10\n"
     ]
    },
    {
     "name": "stdout",
     "output_type": "stream",
     "text": [
      "3628800\n"
     ]
    }
   ],
   "source": [
    "fac = int(input(\"계승을 구할 숫자를 입력하세요\"))\n",
    "sum = 1\n",
    "for i in range(1, fac+1):\n",
    "    sum *= i\n",
    "print(sum)"
   ]
  },
  {
   "cell_type": "code",
   "execution_count": 244,
   "id": "c6f08f2c-01e4-4455-a4e2-ec9eed12a1a8",
   "metadata": {},
   "outputs": [
    {
     "name": "stdin",
     "output_type": "stream",
     "text": [
      "1부터 입력한 자연수까지의 모든 홀수의 합을 구합니다 100\n"
     ]
    },
    {
     "name": "stdout",
     "output_type": "stream",
     "text": [
      "1 + 3 + 5 + 7 + 9 + 11 + 13 + 15 + 17 + 19 + 21 + 23 + 25 + 27 + 29 + 31 + 33 + 35 + 37 + 39 + 41 + 43 + 45 + 47 + 49 + 51 + 53 + 55 + 57 + 59 + 61 + 63 + 65 + 67 + 69 + 71 + 73 + 75 + 77 + 79 + 81 + 83 + 85 + 87 + 89 + 91 + 93 + 95 + 97 + 99 = 2500\n"
     ]
    }
   ],
   "source": [
    "n = int(input(\"1부터 입력한 자연수까지의 모든 홀수의 합을 구합니다\")) # 헷갈려서 다시 풀어 봄\n",
    "print(\"1\", end =\" \")\n",
    "sum = 0\n",
    "for i in range(3,n+1,2):\n",
    "    sum += i\n",
    "    print(\"+\",i, end =\" \")\n",
    "print(\"=\", sum+1)"
   ]
  },
  {
   "cell_type": "code",
   "execution_count": 218,
   "id": "a9a73d41-f9d9-4d8c-ae93-fb18cfae9476",
   "metadata": {},
   "outputs": [
    {
     "name": "stdout",
     "output_type": "stream",
     "text": [
      "시\n",
      "미\n",
      "라\n",
      "레\n",
      "솔\n",
      "도\n",
      "파\n"
     ]
    }
   ],
   "source": [
    "for _ in [\"시\", \"미\", \"라\", \"레\", \"솔\", \"도\", \"파\"]: #시퀀스 객체로 반복이 가능하다\n",
    "    print(_)"
   ]
  },
  {
   "cell_type": "code",
   "execution_count": 220,
   "id": "75014bb8-7da5-4cb1-b3fc-cbc68769a433",
   "metadata": {},
   "outputs": [
    {
     "name": "stdout",
     "output_type": "stream",
     "text": [
      "십 구 팔 칠 육 오 사 삼 이 일 "
     ]
    }
   ],
   "source": [
    "for _ in reversed(\"일이삼사오육칠팔구십\"): # 역순으로 변경 가능, 바꿔주어서 반환해 주지만 시퀀스는 변경하지 않음\n",
    "    print(_, end = \" \")"
   ]
  },
  {
   "cell_type": "markdown",
   "id": "80730c6d-fc84-4bc9-ad85-f71ab65dac42",
   "metadata": {},
   "source": [
    "## 연습문제\n",
    "제시된 리스트의 값을 for문을 활용하여 10배씩 증가시켜라  \n",
    "x = [10, -42, 25, 103, 21, 77, 24]"
   ]
  },
  {
   "cell_type": "code",
   "execution_count": 221,
   "id": "7c22c298-842e-4365-b88c-d3e4747deff7",
   "metadata": {},
   "outputs": [
    {
     "name": "stdout",
     "output_type": "stream",
     "text": [
      "100 -420 250 1030 210 770 240 "
     ]
    }
   ],
   "source": [
    "x = [10, -42, 25, 103, 21, 77, 24]\n",
    "for i in x:\n",
    "    print(i * 10, end = \" \")"
   ]
  },
  {
   "cell_type": "markdown",
   "id": "85d93bb8-a8bb-4334-bb1e-e64977bd4622",
   "metadata": {},
   "source": [
    "## 연습문제\n",
    "자연수를 입력받아 그 숫자의 구구단을 출력하는 프로그램을 구현하라"
   ]
  },
  {
   "cell_type": "code",
   "execution_count": 226,
   "id": "2a7e010e-c372-4917-bce2-c9467fe1633f",
   "metadata": {},
   "outputs": [
    {
     "name": "stdin",
     "output_type": "stream",
     "text": [
      "구구단을 알려드립니다. 숫자를 입력하세요 9\n"
     ]
    },
    {
     "name": "stdout",
     "output_type": "stream",
     "text": [
      "9 * 1 = 9\n",
      "9 * 2 = 18\n",
      "9 * 3 = 27\n",
      "9 * 4 = 36\n",
      "9 * 5 = 45\n",
      "9 * 6 = 54\n",
      "9 * 7 = 63\n",
      "9 * 8 = 72\n",
      "9 * 9 = 81\n"
     ]
    }
   ],
   "source": [
    "n = int(input(\"구구단을 알려드립니다. 숫자를 입력하세요\"))\n",
    "for i in range(n, 10):\n",
    "    for j in range(1, 10):\n",
    "        print(i, \"*\", j, \"=\", i*j)"
   ]
  },
  {
   "cell_type": "markdown",
   "id": "26096685-dc15-4443-88b6-deccc5a698df",
   "metadata": {},
   "source": [
    "## 연습문제\n",
    "사용자로부터 자연수를 입력받아 1부터 입력된 자연수까지의 합을 구하는 프로그램을 구현해라"
   ]
  },
  {
   "cell_type": "code",
   "execution_count": 231,
   "id": "1d64b8dc-881b-4523-ad20-11908b7ea7aa",
   "metadata": {},
   "outputs": [
    {
     "name": "stdin",
     "output_type": "stream",
     "text": [
      "자연수를 입력해주세요: 100\n"
     ]
    },
    {
     "name": "stdout",
     "output_type": "stream",
     "text": [
      "5050\n"
     ]
    }
   ],
   "source": [
    "n = int(input(\"자연수를 입력해주세요:\"))\n",
    "sum = 0\n",
    "for i in range(1,n+1):\n",
    "    sum += i\n",
    "print(sum)"
   ]
  },
  {
   "cell_type": "code",
   "execution_count": null,
   "id": "daf0a4ee-9164-4317-a119-bd0cca35cd45",
   "metadata": {},
   "outputs": [],
   "source": []
  }
 ],
 "metadata": {
  "kernelspec": {
   "display_name": "Python 3 (ipykernel)",
   "language": "python",
   "name": "python3"
  },
  "language_info": {
   "codemirror_mode": {
    "name": "ipython",
    "version": 3
   },
   "file_extension": ".py",
   "mimetype": "text/x-python",
   "name": "python",
   "nbconvert_exporter": "python",
   "pygments_lexer": "ipython3",
   "version": "3.9.13"
  }
 },
 "nbformat": 4,
 "nbformat_minor": 5
}
