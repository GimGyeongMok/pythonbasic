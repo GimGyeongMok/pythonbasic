{
 "cells": [
  {
   "cell_type": "markdown",
   "id": "4ef12c10-b78e-4d57-be5f-031e3b03dfe2",
   "metadata": {},
   "source": [
    "# 플레이데이터 2일차"
   ]
  },
  {
   "cell_type": "markdown",
   "id": "16f91424-c79a-4328-8fd3-f8f66b96488d",
   "metadata": {},
   "source": [
    "# 1. 마크다운 학습"
   ]
  },
  {
   "cell_type": "markdown",
   "id": "1ca8a8db-bfd0-41ab-9056-894b34cd2900",
   "metadata": {},
   "source": [
    "## 1.1 일반 텍스트"
   ]
  },
  {
   "cell_type": "markdown",
   "id": "f046be0c-89b3-41fe-9d77-5d356eba34b3",
   "metadata": {},
   "source": [
    "일반 텍스트는 그냥 입력하시면 됩니다.\n",
    "**굵은글씨**는 이렇게 사용합니다.\n",
    "*기울인 글씨*는 이렇게 사용합니다.\n",
    "~~취소선~~는 이렇게 사용합니다."
   ]
  },
  {
   "cell_type": "markdown",
   "id": "0d074a52-6a4b-46f8-9887-585d83d3ad86",
   "metadata": {},
   "source": [
    "- 목록1\n",
    "- 목록2\n",
    "- 목록3"
   ]
  },
  {
   "cell_type": "markdown",
   "id": "cdcd35f7-5997-4283-a5fd-3b3bd10b57df",
   "metadata": {},
   "source": [
    "1. 순서가 있는 목록1\n",
    "2. 순서가 있는 목록2\n",
    "3. 순서가 있는 목록3"
   ]
  },
  {
   "cell_type": "markdown",
   "id": "89b3c3c6-db22-4ca3-9bc9-bbd1f14d138f",
   "metadata": {},
   "source": [
    "google(www.google.com)"
   ]
  },
  {
   "cell_type": "markdown",
   "id": "db46d53d-afbd-41e5-a567-73a7986697cd",
   "metadata": {},
   "source": [
    "[이미지에 대한 설명](https://www.google.co.kr/url?sa=i&url=https%3A%2F%2Fnamu.wiki%2Fw%2F%25EC%2586%2590%25ED%259D%25A5%25EB%25AF%25BC%2F2022-23%2520%25EC%258B%259C%25EC%25A6%258C&psig=AOvVaw0-fM8VelKPCA32FapD9DAE&ust=1672968264468000&source=images&cd=vfe&ved=0CAwQjRxqFwoTCODascqir_wCFQAAAAAdAAAAABAE)"
   ]
  },
  {
   "cell_type": "markdown",
   "id": "eaa6f5f0-4691-4c0e-af86-0a561cc839bd",
   "metadata": {},
   "source": [
    "|제목 셀| |제목 셀| |제목 셀|\n",
    "|:--||--:||:--:|\n",
    "|값1||값2||값3|"
   ]
  },
  {
   "cell_type": "markdown",
   "id": "3900e2b6-2cee-4a43-8f2c-5bb439ccdaf0",
   "metadata": {},
   "source": [
    "```python\n",
    "x = int(input(\"인사를 합시다\"))\n",
    "\n",
    "for _ in range(x):\n",
    "    print(\"Hello world\")\n",
    "\n",
    "```"
   ]
  },
  {
   "cell_type": "markdown",
   "id": "9cf6c5ff-4f87-4b39-a229-01f77ea7117c",
   "metadata": {},
   "source": [
    "### 연습문제 1"
   ]
  },
  {
   "cell_type": "markdown",
   "id": "da0337b5-f18d-47cd-b7f9-7232634c71e8",
   "metadata": {},
   "source": [
    "공무원 시험 결과가 국어, 영어, 한국사, 선택 교과1, 선택교과2의 점수가 리스트 형태로 제공됨, 이때 한 과목이라도 60점 미만이면 과락이다, 과락이면 False를 과락이 아니면 True를 출력하는 코드를 완성해 보시오"
   ]
  },
  {
   "cell_type": "code",
   "execution_count": 12,
   "id": "49379e38-a8f2-49af-b2cf-e134fa703c1a",
   "metadata": {},
   "outputs": [
    {
     "name": "stdout",
     "output_type": "stream",
     "text": [
      "False\n"
     ]
    }
   ],
   "source": [
    "score = [88, 73, 89, 59, 77]\n",
    "print(score[0] >= 60 and score[1] >= 60 and score[2] >= 60 and score[3] >= 60 and score[4] >= 60)\n",
    "# for을 아직 배우지 않았기 때문에 이렇게 노가다로 일일이 비교함"
   ]
  },
  {
   "cell_type": "markdown",
   "id": "db74492a-c275-4715-80b9-2105bf69d4e6",
   "metadata": {},
   "source": [
    "## 간단한 함수 설명"
   ]
  },
  {
   "cell_type": "markdown",
   "id": "189da99a-bad0-48de-b19a-2784ba6bf4e6",
   "metadata": {},
   "source": [
    "함수를 사용하면 반복적인 코드의 양을 줄여 유지보수성을 높인다\n",
    "함수가 호출되면 함수 정의부로 가서 함수 호출부의 인수 값을 함수 정의부 인자 값에 순서대로 대입 후 함수 정의부 내부 코드를 순차적으로 실행한다, 해당 함수에 return값이 있는 경우 함수 호출부를\n",
    "\n",
    "함수 내부에 정의된 parameters에 넣어줄 값을 argumaents에 담아 보낸다.\n",
    "\n",
    "함수를 호출한 곳에 return값을 되돌려준다\n",
    "\n",
    "함수와 메소드 차이 : 클래스 안에 있냐 아니냐"
   ]
  },
  {
   "cell_type": "markdown",
   "id": "dfcb6e03-35e2-4db9-82ce-1f461a1b4d15",
   "metadata": {},
   "source": [
    "## 리스트메소드"
   ]
  },
  {
   "cell_type": "code",
   "execution_count": 15,
   "id": "6793caf1-fb9e-4c3b-af26-d96132bbdd88",
   "metadata": {},
   "outputs": [
    {
     "name": "stdout",
     "output_type": "stream",
     "text": [
      "[1, 2, 3, 4, 5, 6, 7, 8]\n"
     ]
    }
   ],
   "source": [
    "numbers = [1, 2, 3, 4, 5, 6, 7]\n",
    "numbers.append(8) # 리스트에 요소를 추가한다 추가된 요소는 리스트의 맨 마자막에 추가된다.\n",
    "print(numbers)"
   ]
  },
  {
   "cell_type": "code",
   "execution_count": 18,
   "id": "8e67bb14-3cb1-431e-9e82-d7bca32e479a",
   "metadata": {},
   "outputs": [
    {
     "name": "stdout",
     "output_type": "stream",
     "text": [
      "[0, 0, 0, 1, 0, 2, 0, 0, 3, 0, 0, 4, 0, 5, 6, 7, 8, 0, 0, 0]\n"
     ]
    }
   ],
   "source": [
    "numbers.insert(0, 0) # insert 메소드 (인덱스, 요소) 인덱스 위치에 요소값을 변경한다\n",
    "numbers.insert(4, 0)\n",
    "numbers.insert(6, 0)\n",
    "numbers.insert(len(numbers), 0) # insert 메소드로 리스트의 맨 뒤에 요소를 붙일 수 있다\n",
    "print(numbers)"
   ]
  },
  {
   "cell_type": "code",
   "execution_count": 21,
   "id": "6672ecdd-01e4-4d3c-bf8a-abaccafc1b72",
   "metadata": {},
   "outputs": [
    {
     "name": "stdout",
     "output_type": "stream",
     "text": [
      "[0, 0, 0, 1, 0, 2, 0, 0, 3, 0, 0, 4, 0, 5, 6, 7, 8, 0, 0, 0, 9, 10, 11, 9, 10, 11, 9, 10, 11]\n"
     ]
    }
   ],
   "source": [
    "numbers.extend([9, 10, 11]) # 기존 리스트의 맨 뒤로 추가할 리스트를 붙여준다\n",
    "print(numbers)"
   ]
  },
  {
   "cell_type": "code",
   "execution_count": 22,
   "id": "05389a5e-d3e4-4a08-af56-2bd3333a6d6b",
   "metadata": {},
   "outputs": [
    {
     "name": "stdout",
     "output_type": "stream",
     "text": [
      "[0, 0, 1, 0, 2, 0, 0, 3, 0, 0, 4, 0, 5, 6, 7, 8, 0, 0, 0, 9, 10, 11, 9, 10, 11, 9, 10, 11]\n"
     ]
    }
   ],
   "source": [
    "numbers.remove(0) # 0번째 요소를 삭제한다\n",
    "print(numbers)"
   ]
  },
  {
   "cell_type": "code",
   "execution_count": 25,
   "id": "245456dd-1de0-43a0-a82e-840d60116e9e",
   "metadata": {},
   "outputs": [
    {
     "name": "stdout",
     "output_type": "stream",
     "text": [
      "[0, 2, 0, 0, 3, 0, 0, 4, 0, 5, 6, 7, 8, 0, 0, 0, 9, 10, 11, 9, 10, 11, 9, 10, 11]\n"
     ]
    }
   ],
   "source": [
    "del numbers[0] # remove 메소드랑 똑같음\n",
    "print(numbers)"
   ]
  },
  {
   "cell_type": "code",
   "execution_count": 26,
   "id": "017ac66c-46f9-43ae-8c07-af22a03e2cbe",
   "metadata": {},
   "outputs": [
    {
     "name": "stdout",
     "output_type": "stream",
     "text": [
      "11\n"
     ]
    }
   ],
   "source": [
    "print(numbers.pop()) # 리스트의 제일 마지막 요소를 삭제하고 그 값을 반환해준다"
   ]
  },
  {
   "cell_type": "code",
   "execution_count": 27,
   "id": "0c2ab1db-6ca5-4ec7-9d06-a2d42a08592a",
   "metadata": {},
   "outputs": [
    {
     "name": "stdout",
     "output_type": "stream",
     "text": [
      "[0, 2, 0, 0, 3, 0, 0, 4, 0, 5, 6, 7, 8, 0, 0, 0, 9, 10, 11, 9, 10, 11, 9, 10]\n"
     ]
    }
   ],
   "source": [
    "print(numbers) # pop메소드로 인해 마지막 요소가 없어진 모습"
   ]
  },
  {
   "cell_type": "code",
   "execution_count": 31,
   "id": "4eb163a7-aa66-43a0-aa29-8acf292289bf",
   "metadata": {},
   "outputs": [
    {
     "name": "stdout",
     "output_type": "stream",
     "text": [
      "18\n"
     ]
    }
   ],
   "source": [
    "print(numbers.index(11)) # 요소의 첫 번째 인덱스 위치를 반환해준다"
   ]
  },
  {
   "cell_type": "code",
   "execution_count": 34,
   "id": "50c95aa4-ebc4-4bb0-954e-8f6eac1a4ff7",
   "metadata": {},
   "outputs": [
    {
     "name": "stdout",
     "output_type": "stream",
     "text": [
      "[0, 2, 0, 0, 3, 0, 0, 4, 0, 5, 6, 7, 8, 0, 0, 0, 9, 10, 11, 9, 10, 11, 9, 10]\n",
      "9\n"
     ]
    }
   ],
   "source": [
    "print(numbers)\n",
    "print(numbers.count(0)) # 리스트 안에 인자와 같은 요소가 몇 개가 있는지 반환됨, 갯수가 반환되는 거임"
   ]
  },
  {
   "cell_type": "code",
   "execution_count": 36,
   "id": "521ce955-cc25-40b3-89f6-f8f2f8b2d7b6",
   "metadata": {},
   "outputs": [
    {
     "name": "stdout",
     "output_type": "stream",
     "text": [
      "[0, 0, 0, 0, 0, 0, 0, 0, 0, 2, 3, 4, 5, 6, 7, 8, 9, 9, 9, 10, 10, 10, 11, 11]\n"
     ]
    }
   ],
   "source": [
    "numbers.sort() # 리스트를 오름차순으로 정렬해줌\n",
    "print(numbers)"
   ]
  },
  {
   "cell_type": "code",
   "execution_count": 40,
   "id": "14bad012-f1cf-4a66-a8db-9ff3d4199051",
   "metadata": {},
   "outputs": [
    {
     "name": "stdout",
     "output_type": "stream",
     "text": [
      "[11, 11, 10, 10, 10, 9, 9, 9, 8, 7, 6, 5, 4, 3, 2, 0, 0, 0, 0, 0, 0, 0, 0, 0]\n"
     ]
    }
   ],
   "source": [
    "numbers.reverse() # 리스트를 역순으로 정렬해줌, sort()메소드를 먼저 쓰고 reverse메소드를 사용하면 내림차순으로 정렬됨\n",
    "print(numbers)"
   ]
  },
  {
   "cell_type": "markdown",
   "id": "9e58d721-314f-42ac-8478-f03ff276e52f",
   "metadata": {},
   "source": [
    "## 리스트를 Stack처럼 활용하기\n",
    "Stack은 후입선출 구조이다 pop()으로만 꺼내어 Stack 자료 구조처럼 활용하고 있다"
   ]
  },
  {
   "cell_type": "code",
   "execution_count": 42,
   "id": "ef5e8294-d936-4436-a03a-45a7da36278e",
   "metadata": {},
   "outputs": [
    {
     "name": "stdout",
     "output_type": "stream",
     "text": [
      "7\n",
      "[3, 4, 5, 6]\n",
      "6\n",
      "5\n",
      "[3, 4]\n"
     ]
    }
   ],
   "source": [
    "stack = [3, 4, 5]\n",
    "stack.append(6)\n",
    "stack.append(7)\n",
    "\n",
    "print(stack.pop())\n",
    "\n",
    "print(stack)\n",
    "\n",
    "print(stack.pop())\n",
    "\n",
    "print(stack.pop())\n",
    "\n",
    "print(stack)"
   ]
  },
  {
   "cell_type": "markdown",
   "id": "2ffa9cd4-d62a-4712-97d5-4fba061c7f48",
   "metadata": {},
   "source": [
    "## 튜플(Tuple)\n",
    "리스트와 거의 비슷하지만 불변의 특징을 갖는다.  \n",
    "소괄호 사이에 요소들을 콤마로 구분지어 작성한다.  \n",
    "소괄호는 생략이 가능하다."
   ]
  },
  {
   "cell_type": "code",
   "execution_count": 45,
   "id": "016fd890-8ede-4153-9351-104df4f3498d",
   "metadata": {},
   "outputs": [
    {
     "ename": "TypeError",
     "evalue": "'tuple' object does not support item assignment",
     "output_type": "error",
     "traceback": [
      "\u001b[1;31m---------------------------------------------------------------------------\u001b[0m",
      "\u001b[1;31mTypeError\u001b[0m                                 Traceback (most recent call last)",
      "\u001b[1;32m~\\AppData\\Local\\Temp\\ipykernel_16104\\408271382.py\u001b[0m in \u001b[0;36m<module>\u001b[1;34m\u001b[0m\n\u001b[0;32m      1\u001b[0m \u001b[0mtuple_variable\u001b[0m \u001b[1;33m=\u001b[0m \u001b[1;33m(\u001b[0m\u001b[1;36m1\u001b[0m\u001b[1;33m,\u001b[0m \u001b[1;36m2\u001b[0m\u001b[1;33m,\u001b[0m \u001b[1;36m3\u001b[0m\u001b[1;33m,\u001b[0m \u001b[1;36m4\u001b[0m\u001b[1;33m,\u001b[0m \u001b[1;36m5\u001b[0m\u001b[1;33m,\u001b[0m \u001b[1;34m\"Hello\"\u001b[0m\u001b[1;33m)\u001b[0m \u001b[1;31m# 여러가지 타입의 요소를 튜플 안에 넣을 수 있다\u001b[0m\u001b[1;33m\u001b[0m\u001b[1;33m\u001b[0m\u001b[0m\n\u001b[1;32m----> 2\u001b[1;33m \u001b[0mtuple_variable\u001b[0m\u001b[1;33m[\u001b[0m\u001b[1;36m0\u001b[0m\u001b[1;33m]\u001b[0m \u001b[1;33m=\u001b[0m \u001b[1;36m0\u001b[0m \u001b[1;31m# 변경이 불가능 하다\u001b[0m\u001b[1;33m\u001b[0m\u001b[1;33m\u001b[0m\u001b[0m\n\u001b[0m\u001b[0;32m      3\u001b[0m \u001b[0mtuple_variable\u001b[0m\u001b[1;33m[\u001b[0m\u001b[1;36m1\u001b[0m\u001b[1;33m:\u001b[0m\u001b[1;36m3\u001b[0m\u001b[1;33m]\u001b[0m \u001b[1;33m=\u001b[0m \u001b[1;33m(\u001b[0m\u001b[1;34m\"음\"\u001b[0m\u001b[1;33m,\u001b[0m \u001b[1;34m\"오\"\u001b[0m\u001b[1;33m)\u001b[0m \u001b[1;31m# 변경이 불가능 하다\u001b[0m\u001b[1;33m\u001b[0m\u001b[1;33m\u001b[0m\u001b[0m\n",
      "\u001b[1;31mTypeError\u001b[0m: 'tuple' object does not support item assignment"
     ]
    }
   ],
   "source": [
    "tuple_variable = (1, 2, 3, 4, 5, \"Hello\") # 여러가지 타입의 요소를 튜플 안에 넣을 수 있다\n",
    "tuple_variable[0] = 0 # 변경이 불가능 하다\n",
    "tuple_variable[1:3] = (\"음\", \"오\") # 변경이 불가능 하다"
   ]
  },
  {
   "cell_type": "code",
   "execution_count": 47,
   "id": "a97d155d-558c-4d40-b474-dc20e15c84bd",
   "metadata": {},
   "outputs": [
    {
     "ename": "TypeError",
     "evalue": "'tuple' object doesn't support item deletion",
     "output_type": "error",
     "traceback": [
      "\u001b[1;31m---------------------------------------------------------------------------\u001b[0m",
      "\u001b[1;31mTypeError\u001b[0m                                 Traceback (most recent call last)",
      "\u001b[1;32m~\\AppData\\Local\\Temp\\ipykernel_16104\\2859040384.py\u001b[0m in \u001b[0;36m<module>\u001b[1;34m\u001b[0m\n\u001b[1;32m----> 1\u001b[1;33m \u001b[1;32mdel\u001b[0m \u001b[0mtuple_variable\u001b[0m\u001b[1;33m[\u001b[0m\u001b[1;36m0\u001b[0m\u001b[1;33m]\u001b[0m \u001b[1;31m# 삭제도 불가능하다\u001b[0m\u001b[1;33m\u001b[0m\u001b[1;33m\u001b[0m\u001b[0m\n\u001b[0m",
      "\u001b[1;31mTypeError\u001b[0m: 'tuple' object doesn't support item deletion"
     ]
    }
   ],
   "source": [
    "del tuple_variable[0] # 삭제도 불가능하다"
   ]
  },
  {
   "cell_type": "code",
   "execution_count": 49,
   "id": "50b43082-b833-4cde-8ba3-f4a2d6dbf1c6",
   "metadata": {},
   "outputs": [
    {
     "name": "stdout",
     "output_type": "stream",
     "text": [
      "<class 'tuple'>\n",
      "('음', '오', '아', '예')\n"
     ]
    }
   ],
   "source": [
    "t_v2 = \"음\", \"오\", \"아\", \"예\"\n",
    "print(type(t_v2)) # 소괄호를 생략하여 정의할 수 있지만 거의 쓰지 않는다\n",
    "print(t_v2)"
   ]
  },
  {
   "cell_type": "markdown",
   "id": "4bdd339d-425c-43fa-be57-f4f18b763292",
   "metadata": {},
   "source": [
    "## 리스트가 더 범용적인데 튜플을 왜 쓸까? \n",
    "리스트는 크기가 바뀔수 있기 때문에 초과 할당까지 고려해서 메모리에 데이터를 저장할 수 있을지 신경써야됨.  \n",
    "튜플은 빠르게 생성할 수 있고 리스트보다 메모리 부담이 적다"
   ]
  },
  {
   "cell_type": "markdown",
   "id": "d94d615b-8fa9-43ad-90e3-7d6a57fba875",
   "metadata": {},
   "source": [
    "## 튜플과 리스트의 소요시간 비교"
   ]
  },
  {
   "cell_type": "code",
   "execution_count": 2,
   "id": "39c6ebfc-8cc5-4676-ac09-f2bddada55c5",
   "metadata": {},
   "outputs": [
    {
     "ename": "TypeError",
     "evalue": "'list' object is not callable",
     "output_type": "error",
     "traceback": [
      "\u001b[1;31m---------------------------------------------------------------------------\u001b[0m",
      "\u001b[1;31mTypeError\u001b[0m                                 Traceback (most recent call last)",
      "\u001b[1;32m~\\AppData\\Local\\Temp\\ipykernel_8508\\3483652813.py\u001b[0m in \u001b[0;36m<module>\u001b[1;34m\u001b[0m\n\u001b[0;32m      4\u001b[0m \u001b[1;32mfor\u001b[0m \u001b[0mi\u001b[0m \u001b[1;32min\u001b[0m \u001b[0mrange\u001b[0m\u001b[1;33m(\u001b[0m\u001b[1;36m1000\u001b[0m\u001b[1;33m)\u001b[0m\u001b[1;33m:\u001b[0m\u001b[1;33m\u001b[0m\u001b[1;33m\u001b[0m\u001b[0m\n\u001b[0;32m      5\u001b[0m     \u001b[1;32mfor\u001b[0m \u001b[0mj\u001b[0m \u001b[1;32min\u001b[0m \u001b[0mrange\u001b[0m\u001b[1;33m(\u001b[0m\u001b[1;36m1000\u001b[0m\u001b[1;33m)\u001b[0m\u001b[1;33m:\u001b[0m\u001b[1;33m\u001b[0m\u001b[1;33m\u001b[0m\u001b[0m\n\u001b[1;32m----> 6\u001b[1;33m         \u001b[0mtotal\u001b[0m\u001b[1;33m(\u001b[0m\u001b[0mi\u001b[0m\u001b[1;33m,\u001b[0m\u001b[0mj\u001b[0m\u001b[1;33m)\u001b[0m\u001b[1;33m\u001b[0m\u001b[1;33m\u001b[0m\u001b[0m\n\u001b[0m\u001b[0;32m      7\u001b[0m \u001b[0mlast\u001b[0m \u001b[1;33m=\u001b[0m \u001b[0mtime\u001b[0m\u001b[1;33m.\u001b[0m\u001b[0mtime\u001b[0m\u001b[1;33m(\u001b[0m\u001b[1;33m)\u001b[0m\u001b[1;33m\u001b[0m\u001b[1;33m\u001b[0m\u001b[0m\n\u001b[0;32m      8\u001b[0m \u001b[0mprint\u001b[0m\u001b[1;33m(\u001b[0m\u001b[0mlast\u001b[0m\u001b[1;33m-\u001b[0m\u001b[0mcurr\u001b[0m\u001b[1;33m)\u001b[0m\u001b[1;33m\u001b[0m\u001b[1;33m\u001b[0m\u001b[0m\n",
      "\u001b[1;31mTypeError\u001b[0m: 'list' object is not callable"
     ]
    }
   ],
   "source": [
    "import time\n",
    "total = []\n",
    "curr = time.time()\n",
    "for i in range(1000):\n",
    "    for j in range(1000):\n",
    "        total(i,j)\n",
    "last = time.time()\n",
    "print(last-curr)\n",
    "        \n",
    "        "
   ]
  },
  {
   "cell_type": "code",
   "execution_count": 6,
   "id": "f0ab9681-547e-4ff9-9a31-fae6fd3aef30",
   "metadata": {},
   "outputs": [
    {
     "name": "stdout",
     "output_type": "stream",
     "text": [
      "text1\n",
      "text2\n"
     ]
    }
   ],
   "source": [
    "s1, s2 = \"text1\", \"text2\" # 변수 여럿에 동시 할당하기(Unpacking)\n",
    "print(s1)\n",
    "print(s2)"
   ]
  },
  {
   "cell_type": "code",
   "execution_count": 4,
   "id": "5c2c1847-dad4-4719-87f5-8dd4ec0d8196",
   "metadata": {},
   "outputs": [
    {
     "name": "stdout",
     "output_type": "stream",
     "text": [
      "이렇게 리스트도 가능합니다.\n"
     ]
    }
   ],
   "source": [
    "s3, s4, s5 = [\"이렇게\",\"리스트도\",\"가능합니다.\"]\n",
    "print(s3, s4, s5)"
   ]
  },
  {
   "cell_type": "code",
   "execution_count": 5,
   "id": "707ebaad-5e4c-4543-a1a0-f4bc5bc10858",
   "metadata": {},
   "outputs": [
    {
     "name": "stdout",
     "output_type": "stream",
     "text": [
      "문 자 열 도\n"
     ]
    }
   ],
   "source": [
    "s6, s7, s8, s9 = \"문자열도\"\n",
    "print(s6, s7, s8, s9)"
   ]
  },
  {
   "cell_type": "code",
   "execution_count": 8,
   "id": "39fa662f-eeaa-419b-a43a-400b5b64613f",
   "metadata": {},
   "outputs": [
    {
     "name": "stdin",
     "output_type": "stream",
     "text": [
      "Message 1111\n"
     ]
    }
   ],
   "source": [
    "input_value = input(\"Message\") # 파이썬 입력 사용, input() 내장 함수를 사용해서 사용자로부터 값을 받아올 수 있다"
   ]
  },
  {
   "cell_type": "code",
   "execution_count": 10,
   "id": "191a7501-b4ec-42df-aaed-fc5974715b2a",
   "metadata": {},
   "outputs": [
    {
     "name": "stdout",
     "output_type": "stream",
     "text": [
      "input_value: 1111 \n",
      "type: <class 'str'>\n"
     ]
    }
   ],
   "source": [
    "print(\"input_value:\", input_value, \"\\ntype:\", type(input_value))"
   ]
  },
  {
   "cell_type": "raw",
   "id": "af9b62b9-72c7-42e3-b064-ac3faf2a685b",
   "metadata": {},
   "source": [
    "input_value = int(input_value)\n",
    "print(\"input_value:\", input_value, \"\\ntype:\", type(input_value))"
   ]
  },
  {
   "cell_type": "code",
   "execution_count": null,
   "id": "6935f692-0dbb-47e9-a429-e0848f2508f0",
   "metadata": {},
   "outputs": [],
   "source": []
  },
  {
   "cell_type": "code",
   "execution_count": 12,
   "id": "9ab16c02-8820-4ce9-9676-56ebdf08635c",
   "metadata": {},
   "outputs": [
    {
     "name": "stdin",
     "output_type": "stream",
     "text": [
      "정수 말고 다른 값 입력 1.1\n"
     ]
    }
   ],
   "source": [
    "input_value2 = input(\"정수 말고 다른 값 입력\")"
   ]
  },
  {
   "cell_type": "code",
   "execution_count": 14,
   "id": "49c03a94-1909-4710-941c-80f8c095464e",
   "metadata": {},
   "outputs": [
    {
     "ename": "ValueError",
     "evalue": "invalid literal for int() with base 10: '1.1'",
     "output_type": "error",
     "traceback": [
      "\u001b[1;31m---------------------------------------------------------------------------\u001b[0m",
      "\u001b[1;31mValueError\u001b[0m                                Traceback (most recent call last)",
      "\u001b[1;32m~\\AppData\\Local\\Temp\\ipykernel_8508\\2280744592.py\u001b[0m in \u001b[0;36m<module>\u001b[1;34m\u001b[0m\n\u001b[1;32m----> 1\u001b[1;33m \u001b[0minput_value2\u001b[0m \u001b[1;33m=\u001b[0m \u001b[0mint\u001b[0m\u001b[1;33m(\u001b[0m\u001b[0minput_value2\u001b[0m\u001b[1;33m)\u001b[0m \u001b[1;31m# 실수를 정수로 변환 불가능\u001b[0m\u001b[1;33m\u001b[0m\u001b[1;33m\u001b[0m\u001b[0m\n\u001b[0m\u001b[0;32m      2\u001b[0m \u001b[0mprint\u001b[0m\u001b[1;33m(\u001b[0m\u001b[1;34m\"input_value2:\"\u001b[0m\u001b[1;33m,\u001b[0m \u001b[0minput_value2\u001b[0m\u001b[1;33m,\u001b[0m \u001b[1;34m\"\\ntype:\"\u001b[0m\u001b[1;33m,\u001b[0m \u001b[0mtype\u001b[0m\u001b[1;33m(\u001b[0m\u001b[0minput_value2\u001b[0m\u001b[1;33m)\u001b[0m\u001b[1;33m)\u001b[0m\u001b[1;33m\u001b[0m\u001b[1;33m\u001b[0m\u001b[0m\n",
      "\u001b[1;31mValueError\u001b[0m: invalid literal for int() with base 10: '1.1'"
     ]
    }
   ],
   "source": [
    "input_value2 = int(input_value2) # 실수를 정수로 변환 불가능\n",
    "print(\"input_value2:\", input_value2, \"\\ntype:\", type(input_value2))"
   ]
  },
  {
   "cell_type": "code",
   "execution_count": 17,
   "id": "54bf2e57-5919-4b60-909f-b2d987a85600",
   "metadata": {},
   "outputs": [
    {
     "name": "stdout",
     "output_type": "stream",
     "text": [
      "input_value2: 1.0 \n",
      "type: <class 'float'>\n",
      "input_value2: 1 \n",
      "type: <class 'int'>\n"
     ]
    }
   ],
   "source": [
    "input_value2 = float(input_value2) # 실수를 정수로 변환하고 싶으면 float내장함수 이용하고\n",
    "print(\"input_value2:\", input_value2, \"\\ntype:\", type(input_value2))\n",
    "input_value2 = int(input_value2)  # int내장함수 써야됨\n",
    "print(\"input_value2:\", input_value2, \"\\ntype:\", type(input_value2))"
   ]
  },
  {
   "cell_type": "code",
   "execution_count": 1,
   "id": "c77ea94e-4483-4d41-aae9-d86a663f0963",
   "metadata": {},
   "outputs": [
    {
     "name": "stdin",
     "output_type": "stream",
     "text": [
      "정수를 입력해주세요: 1\n"
     ]
    },
    {
     "name": "stdout",
     "output_type": "stream",
     "text": [
      "1\n"
     ]
    }
   ],
   "source": [
    "input_value4 = int(input(\"정수를 입력해주세요:\"))\n",
    "print(input_value4)"
   ]
  },
  {
   "cell_type": "markdown",
   "id": "be0893c1-ad8b-4bbb-b230-297d3edf8a64",
   "metadata": {},
   "source": [
    "## 연습문제\n",
    "사용자의 이름을 물어보고 이어서 2개의 정수를 받아서 덧셈을 한 후 결과를 출력하는 프로그램을 작성해보세요."
   ]
  },
  {
   "cell_type": "code",
   "execution_count": 6,
   "id": "7ba1a569-fbab-4581-aef1-9ff07d86a25f",
   "metadata": {},
   "outputs": [
    {
     "name": "stdin",
     "output_type": "stream",
     "text": [
      "이름을 입력하시오 1\n"
     ]
    },
    {
     "name": "stdout",
     "output_type": "stream",
     "text": [
      "1 씨, 안녕하세요?\n",
      "파이썬에 오신 것을 환영합니다\n"
     ]
    },
    {
     "name": "stdin",
     "output_type": "stream",
     "text": [
      "첫 번째 정수를 입력하세요 2\n",
      "두 번째 정수를 입력하세요 2\n"
     ]
    },
    {
     "name": "stdout",
     "output_type": "stream",
     "text": [
      "2 과 2 의 합은 4 입니다.\n"
     ]
    }
   ],
   "source": [
    "input_value5 = input(\"이름을 입력하시오\")\n",
    "print(input_value5, \"씨, 안녕하세요?\\n파이썬에 오신 것을 환영합니다\")\n",
    "input_value6 = int(input(\"첫 번째 정수를 입력하세요\"))\n",
    "input_value7 = int(input(\"두 번째 정수를 입력하세요\"))\n",
    "print(input_value6,\"과\", input_value7, \"의 합은\", input_value6+input_value7, \"입니다.\" )"
   ]
  },
  {
   "cell_type": "markdown",
   "id": "4200a2d3-9301-46c3-92f6-6587e6742024",
   "metadata": {},
   "source": [
    "## 연습문제\n",
    "사용자에게 경기장, 점수, 이긴 팀, 진 팀, 우수 선ㄴ수를 질문하고 변수에 저장한다. 이들 문자열에 문장은 불여서 기사를 작성해보자"
   ]
  },
  {
   "cell_type": "code",
   "execution_count": 18,
   "id": "52d119ed-a9ab-4d81-837e-e7e99ca6c8ff",
   "metadata": {},
   "outputs": [
    {
     "name": "stdin",
     "output_type": "stream",
     "text": [
      "경기장은 어디입니까? 카타르\n",
      "이긴 팀은 어디입니까? 한국\n",
      "진 팀은 어디입니까? 포르투갈\n",
      "스코어는 몇대몇 입니까? 2:1\n",
      "우수 선수는 누구입니까? 황희찬\n"
     ]
    },
    {
     "name": "stdout",
     "output_type": "stream",
     "text": [
      "\n",
      "[속보] 한국 가 2:1 로 승리...\n",
      "오늘 카타르 경기장에서 야구 경기가 있었습니다.\n",
      " 한국 와 포르투갈 는 치열한 공방전을 펼쳤습니다\n",
      " 이 경기에서 황희찬 가 맹활약을 했습니다.\n",
      " 그 끝내 한국 가 포르투갈 를 2:1 로 승리하였습니다.\n",
      " 기사 끝\n"
     ]
    }
   ],
   "source": [
    "stadium = input(\"경기장은 어디입니까?\")\n",
    "winner = input(\"이긴 팀은 어디입니까?\")\n",
    "loser = input(\"진 팀은 어디입니까?\")\n",
    "score = input(\"스코어는 몇대몇 입니까?\")\n",
    "mvp = input(\"우수 선수는 누구입니까?\")\n",
    "\n",
    "print(\"\\n[속보]\",winner,\"가\",score,\"로 승리...\\n오늘\",stadium,\"경기장에서 야구 경기가 있었습니다.\\n\",winner,\"와\",loser,\"는 치열한 공방전을 펼쳤습니다\\n 이 경기에서\",mvp,\"가 맹활약을 했습니다.\\n 그 끝내\",winner,\"가\",loser,\"를\",score,\"로 승리하였습니다.\\n 기사 끝\")"
   ]
  },
  {
   "cell_type": "code",
   "execution_count": 20,
   "id": "e3996196-6165-4be8-b022-c9f92fa82516",
   "metadata": {},
   "outputs": [
    {
     "name": "stdout",
     "output_type": "stream",
     "text": [
      "<class 'list'>\n",
      "['1', ' 2', ' 3']\n"
     ]
    }
   ],
   "source": [
    "result = '1, 2, 3'.split(',') # 인자로 전달된 구분자를 활용하여 문자열을 쪼갠다, 그 결과를 리스트 자료형으로 반환한다, 구분자 없으면 공백을 기준으로 만자열을 쪼갠다\n",
    "print(type(result))\n",
    "print(result)"
   ]
  },
  {
   "cell_type": "markdown",
   "id": "eba95929-f60d-4d86-8b8c-0c273b7a2070",
   "metadata": {},
   "source": [
    "## 연습문제\n",
    "사용자로부터 \"hh:mm:ss\" 형태의 시간 값을 입력 받습니다. 예를 들면 12시33분23초일때 \"12:33:23\"과 같이 입력을 받습니다. 이 때 결과가 아래와 같게 나오도록 구현해 보세요"
   ]
  },
  {
   "cell_type": "code",
   "execution_count": 44,
   "id": "d16c35f8-9be9-4292-8adf-8fea6266ed89",
   "metadata": {},
   "outputs": [
    {
     "name": "stdin",
     "output_type": "stream",
     "text": [
      "hh:mm:ss 의 형태로 시간을 입력해주세요 12:23:33\n"
     ]
    },
    {
     "name": "stdout",
     "output_type": "stream",
     "text": [
      "실행결과:\n",
      " 시: 12 \n",
      " 분: 23 \n",
      " 초: 33\n"
     ]
    }
   ],
   "source": [
    "times = input(\"hh:mm:ss 의 형태로 시간을 입력해주세요\")\n",
    "times2 = times.split(':')\n",
    "\n",
    "print(\"실행결과:\\n 시:\",times2[0],\"\\n 분:\",times2[1],\"\\n 초:\",times2[2])"
   ]
  },
  {
   "cell_type": "code",
   "execution_count": 46,
   "id": "233f1686-4da1-46b4-a9b3-e2c93214295b",
   "metadata": {},
   "outputs": [
    {
     "name": "stdout",
     "output_type": "stream",
     "text": [
      "[1, 2, 3, 4]\n"
     ]
    }
   ],
   "source": [
    "a = [1.2, 2.5, 3.7, 4.6]\n",
    "a = list(map(int, a)) # 요소를 하나하나 꺼내어 특정 함수를 적용하고 싶을 때 사용한다. list()함수 또는 tuple()함수를 활용하여 map 클래스를 리스트 또는 튜플로 변경이 가능하다\n",
    "print(a)"
   ]
  },
  {
   "cell_type": "code",
   "execution_count": 55,
   "id": "c03ee3d0-1075-43f1-a25e-ae05deb18e16",
   "metadata": {},
   "outputs": [
    {
     "name": "stdin",
     "output_type": "stream",
     "text": [
      "국어, 영어, 수학, 과학 점수를 입력해주세요 98,100,96,100\n"
     ]
    },
    {
     "name": "stdout",
     "output_type": "stream",
     "text": [
      "실행결과:\n",
      " 98.5\n"
     ]
    }
   ],
   "source": [
    "lst = list(map(int, input(\"국어, 영어, 수학, 과학 점수를 입력해주세요\").split(',')))\n",
    "print(\"실행결과:\\n\", (lst[0]+lst[1]+lst[2]+lst[3])/4)"
   ]
  },
  {
   "cell_type": "code",
   "execution_count": 60,
   "id": "935f5a78-0739-485b-832c-852720e38143",
   "metadata": {},
   "outputs": [
    {
     "name": "stdout",
     "output_type": "stream",
     "text": [
      "value, 1, 1.1, [1, 2, 'text']\n"
     ]
    }
   ],
   "source": [
    "print(\"value\",1,1.1,[1, 2,'text'],sep=\", \") # 일일이 안띄어 써도 sep쓰면 구분자로 나눠짐"
   ]
  },
  {
   "cell_type": "code",
   "execution_count": 68,
   "id": "f41f4450-432d-46ea-87bb-6129cbf6434b",
   "metadata": {},
   "outputs": [
    {
     "name": "stdout",
     "output_type": "stream",
     "text": [
      "줄이 바뀝니다.그 이유는 end=\"\\n\"과 같이 기본 설정된 값을 빈 스트링으로 변경했기 때문이다\n",
      "sep, end는 맨 뒤에 써야하며 순서는 상관없다 어떻게 사용하는지, 이해가 되시나요?"
     ]
    }
   ],
   "source": [
    "print(\"줄이 바뀝니다.\", end=\"\") # 출력되는 문자열 맨 두ㅏ에 개행문자를 기본 값으로 사용했기 때문이다. end=문자열을 맨 뒤에 입략하여 변경할 수 있다\n",
    "print(\"그 이유는 end=\\\"\\\\n\\\"과 같이 기본 설정된 값을 빈 스트링으로 변경했기 때문이다\")\n",
    "print(\"sep\",\"end는 맨 뒤에 써야하며 순서는 상관없다 \", sep=\", \", end=\"\")\n",
    "print(\"어떻게 사용하는지\", \"이해가 되시나요\", sep=\", \", end=\"?\")"
   ]
  },
  {
   "cell_type": "code",
   "execution_count": 70,
   "id": "ce27d3c1-bf39-4a29-beb9-e4d9fe0c7303",
   "metadata": {},
   "outputs": [
    {
     "name": "stdout",
     "output_type": "stream",
     "text": [
      "2021/02/03 18:33:23\n"
     ]
    }
   ],
   "source": [
    "year = '2021'\n",
    "month = '02'\n",
    "day = '03'\n",
    "hour = '18'\n",
    "minute = '33'\n",
    "second = '23'\n",
    "\n",
    "print(year, month, day, sep=\"/\", end=\" \")\n",
    "print(hour, minute, second, sep=\":\")"
   ]
  },
  {
   "cell_type": "markdown",
   "id": "8f46bccd-6fdb-42f5-95d7-9eadc08de2b3",
   "metadata": {},
   "source": [
    "## 연습문제\n",
    "사과는 하나에 1000원 귤은 하나에 200원입니다. 사과와 귤을 구매한만큼 총액을 계산해주는 프로그램을 구현해보세요  \n",
    "-input() 안내 문자열은 아래 예시와 동일하게 작성하고 1회 사용합니다.  \n",
    "-map()과 split()을 활용해보세요  \n",
    "-총 액수와 '원입니다.'는 붙여서 출력해보세요"
   ]
  },
  {
   "cell_type": "code",
   "execution_count": 76,
   "id": "adff3572-5385-4594-ae80-937300d36b12",
   "metadata": {},
   "outputs": [
    {
     "name": "stdin",
     "output_type": "stream",
     "text": [
      "사과와 귤을 몇개 드릴까요? 2,3\n"
     ]
    },
    {
     "name": "stdout",
     "output_type": "stream",
     "text": [
      "실행결과\n",
      "총 가격은 2600입니다.\n"
     ]
    }
   ],
   "source": [
    "apple, orange = map(int,input(\"사과와 귤을 몇개 드릴까요?\").split(','))\n",
    "sum = (apple*1000) + (orange*200)\n",
    "print(\"실행결과\\n총 가격은 \",sum,\"입니다.\", sep=\"\")"
   ]
  },
  {
   "cell_type": "markdown",
   "id": "fba6be6f-8253-4822-9d82-7876ab04677d",
   "metadata": {},
   "source": [
    "객체타입을 비교할 땐 is 키워드"
   ]
  },
  {
   "cell_type": "code",
   "execution_count": 78,
   "id": "30c666ea-2029-4a08-8f9c-6413da6c6c72",
   "metadata": {},
   "outputs": [
    {
     "name": "stdout",
     "output_type": "stream",
     "text": [
      "input_value4는 정수입니다.\n"
     ]
    }
   ],
   "source": [
    "if type(input_value4) is int: #객체 타입을 비교할 땐 is 키워드\n",
    "    print(\"input_value4는 정수입니다.\")"
   ]
  },
  {
   "cell_type": "code",
   "execution_count": 80,
   "id": "872483d2-8c72-4ea9-a13b-5366be6482c7",
   "metadata": {},
   "outputs": [
    {
     "name": "stdout",
     "output_type": "stream",
     "text": [
      "30대 입니다.\n",
      "감사합니다\n"
     ]
    }
   ],
   "source": [
    "age = 39\n",
    "\n",
    "if 20 <= age < 30:\n",
    "    print(\"20대 입니다.\")\n",
    "elif 30 <= age < 40:\n",
    "    print(\"30대 입니다.\")\n",
    "\n",
    "print(\"감사합니다\")"
   ]
  },
  {
   "cell_type": "markdown",
   "id": "3d9ae1f1-6bad-4552-b150-2c41cdbc4b02",
   "metadata": {},
   "source": [
    "## 연습문제\n",
    "사용자로부터 아이디를 입력받습니다. 이때 아이디가 'admin'이면 최고관리자, 모든 권한을 갖습니다를 출력하고 프로그램을 종료한다.   \n",
    "그렇지 않으면 회원등급을 정수로 입력받는다 만약 회원 레발이 1~3 이면 제한적인 권한을 갖습니다를 출력하고 그렇지 않으면 권한이 없습니다를 출력한다"
   ]
  },
  {
   "cell_type": "code",
   "execution_count": 110,
   "id": "45bcdfaa-f6db-4f70-bcbf-cf37967deb62",
   "metadata": {},
   "outputs": [
    {
     "name": "stdout",
     "output_type": "stream",
     "text": [
      "실행결과:\n"
     ]
    },
    {
     "name": "stdin",
     "output_type": "stream",
     "text": [
      "아이디를 입력하세요 min\n",
      "회원 등급을 입력해주세요 5\n"
     ]
    },
    {
     "name": "stdout",
     "output_type": "stream",
     "text": [
      "권한이 없습니다\n"
     ]
    }
   ],
   "source": [
    "print(\"실행결과:\")\n",
    "i_d = input(\"아이디를 입력하세요\")\n",
    "\n",
    "if i_d == 'admin':\n",
    "    print(\"모든 권한을 갖습니다\")\n",
    "    \n",
    "else:\n",
    "    level = int(input(\"회원 등급을 입력해주세요\"))\n",
    "    if 1 <= level <= 3:\n",
    "        print(\"제한적인 권한을 갖습니다\")\n",
    "    else:\n",
    "        print(\"권한이 없습니다\")\n",
    "\n",
    "    \n",
    "\n"
   ]
  },
  {
   "cell_type": "code",
   "execution_count": null,
   "id": "b4223ebb-8643-4820-8c67-18e62d8f2127",
   "metadata": {},
   "outputs": [],
   "source": []
  }
 ],
 "metadata": {
  "kernelspec": {
   "display_name": "Python 3 (ipykernel)",
   "language": "python",
   "name": "python3"
  },
  "language_info": {
   "codemirror_mode": {
    "name": "ipython",
    "version": 3
   },
   "file_extension": ".py",
   "mimetype": "text/x-python",
   "name": "python",
   "nbconvert_exporter": "python",
   "pygments_lexer": "ipython3",
   "version": "3.9.13"
  }
 },
 "nbformat": 4,
 "nbformat_minor": 5
}
