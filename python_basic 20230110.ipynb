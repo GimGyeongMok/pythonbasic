{
 "cells": [
  {
   "cell_type": "markdown",
   "id": "416d1228-2dce-4253-8697-6e4546ab445f",
   "metadata": {},
   "source": [
    "# 20230110 지난시간 복습, 딕셔너리 "
   ]
  },
  {
   "cell_type": "markdown",
   "id": "270aea25-b613-4ba4-b2ee-bbead27c7f94",
   "metadata": {},
   "source": [
    "## 연습문제\n",
    "5명의 시험관이 채점한 어느 학생의 실기 시험 점수를 입력받아 Scores라는 list를 만듭니다(split, map, list 사용)  \n",
    "공정성을 위해 최고 점수와 최저 점수는 제외하고 나머지 점수들의 합계를 총점으로 반영한다.  \n",
    "이 학생의 최종 실기 평균을 구해라"
   ]
  },
  {
   "cell_type": "code",
   "execution_count": 22,
   "id": "e3da8011-291a-4734-9554-fd3f75b0d1ca",
   "metadata": {},
   "outputs": [
    {
     "name": "stdin",
     "output_type": "stream",
     "text": [
      " 2 3 4 5 6\n"
     ]
    },
    {
     "name": "stdout",
     "output_type": "stream",
     "text": [
      "4.0\n"
     ]
    }
   ],
   "source": [
    "scores = list(map(int,input().split()))\n",
    "high_score = scores[0]\n",
    "low_score = scores[0]\n",
    "for i in scores:\n",
    "    if i > high_score:\n",
    "        high_score = i\n",
    "    if i < low_score:\n",
    "        low_score = i\n",
    "\n",
    "print(((scores[0]+scores[1]+scores[2]+scores[3]+scores[4]) - (high_score + low_score)) / 3)\n",
    "    "
   ]
  },
  {
   "cell_type": "markdown",
   "id": "b2f01b94-8feb-4ed2-845d-fb461e66c5cc",
   "metadata": {},
   "source": [
    "## 연습문제\n",
    "파이썬 대학교에서는 다음과 같이 학생들의 점수에 따라 학점을 부여합니다  \n",
    "-85점 ~ 100점 - A학점  \n",
    "-70점 ~ 84점 - B학점  \n",
    "-55점 ~ 69점 - C학점  \n",
    "-40점 ~ 54점 - D학점  \n",
    "-0점 ~ 39점 - F학점  \n",
    "A학점, B학점, C학점, D학점, F학점을 받은 학생들의 수로 grade_counter 라는 이름의 리스트를 만들어 출력할 수 있도록 다음 코드를 완성해라"
   ]
  },
  {
   "cell_type": "code",
   "execution_count": 27,
   "id": "35029388-f27c-42dc-ac16-0d8cf688807c",
   "metadata": {},
   "outputs": [
    {
     "name": "stdout",
     "output_type": "stream",
     "text": [
      "[2, 1, 1, 1, 0]\n"
     ]
    }
   ],
   "source": [
    "grade = [86, 72, 98, 60, 45]\n",
    "grade_counter = [0,0,0,0,0]\n",
    "for i in grade:\n",
    "    if 85 <= i <= 100:\n",
    "        grade_counter[0] += 1\n",
    "    if 70 <= i <= 84:\n",
    "        grade_counter[1] += 1\n",
    "    if 55 <= i <= 69:\n",
    "        grade_counter[2] += 1\n",
    "    if 40 <= i <= 54:\n",
    "        grade_counter[3] += 1\n",
    "    if 0 <= i <= 39:\n",
    "        grade_counter[4] += 1\n",
    "print(grade_counter)\n",
    "        "
   ]
  },
  {
   "cell_type": "markdown",
   "id": "5e0c17d5-b469-44c9-943e-a655ced42610",
   "metadata": {},
   "source": [
    "## 연습문제\n",
    "FizzBuzz문제\n",
    "-1 ~ 100까지의 범위를 갖습니다  \n",
    "-3의 배수는 Fizz를 출력  \n",
    "-5의 배수는 buzz를 출력  \n",
    "-3과 5의 배수는 FizzBuzz를 출력  "
   ]
  },
  {
   "cell_type": "code",
   "execution_count": 55,
   "id": "ffa77626-55d2-4b58-94dd-6d29756bfd89",
   "metadata": {},
   "outputs": [
    {
     "name": "stdout",
     "output_type": "stream",
     "text": [
      "1\t2\tfizz\t4\tbuzz\tfizz\t7\t8\tfizz\tbuzz\t11\tfizz\t13\t14\tfizz\tbuzz\tfizzbuzz\t16\t17\tfizz\t19\tbuzz\tfizz\t22\t23\tfizz\tbuzz\t26\tfizz\t28\t29\tfizz\tbuzz\tfizzbuzz\t31\t32\tfizz\t34\tbuzz\tfizz\t37\t38\tfizz\tbuzz\t41\tfizz\t43\t44\tfizz\tbuzz\tfizzbuzz\t46\t47\tfizz\t49\tbuzz\tfizz\t52\t53\tfizz\tbuzz\t56\tfizz\t58\t59\tfizz\tbuzz\tfizzbuzz\t61\t62\tfizz\t64\tbuzz\tfizz\t67\t68\tfizz\tbuzz\t71\tfizz\t73\t74\tfizz\tbuzz\tfizzbuzz\t76\t77\tfizz\t79\tbuzz\tfizz\t82\t83\tfizz\tbuzz\t86\tfizz\t88\t89\tfizz\tbuzz\tfizzbuzz\t91\t92\tfizz\t94\tbuzz\tfizz\t97\t98\tfizz\tbuzz\t"
     ]
    }
   ],
   "source": [
    "for i in range(1,101):\n",
    "    if i % 3 == 0:\n",
    "        print('fizz' , end = '\\t')\n",
    "    if i % 5 == 0:\n",
    "        print('buzz' , end = '\\t')\n",
    "    if i % 15 == 0:\n",
    "        print('fizzbuzz' , end = '\\t')\n",
    "    if i % 3 != 0 and i % 5 != 0:\n",
    "        print(i, end='\\t')\n",
    "    "
   ]
  },
  {
   "cell_type": "code",
   "execution_count": 56,
   "id": "b8d84892-4a6d-409d-9450-bd0e02dfa847",
   "metadata": {},
   "outputs": [
    {
     "name": "stdout",
     "output_type": "stream",
     "text": [
      "1\t2\tFizz\t4\tBuzz\tFizz\t7\t8\tFizz\tBuzz\t11\tFizz\t13\t14\tFizzBuzz\t16\t17\tFizz\t19\tBuzz\tFizz\t22\t23\tFizz\tBuzz\t26\tFizz\t28\t29\tFizzBuzz\t31\t32\tFizz\t34\tBuzz\tFizz\t37\t38\tFizz\tBuzz\t41\tFizz\t43\t44\tFizzBuzz\t46\t47\tFizz\t49\tBuzz\tFizz\t52\t53\tFizz\tBuzz\t56\tFizz\t58\t59\tFizzBuzz\t61\t62\tFizz\t64\tBuzz\tFizz\t67\t68\tFizz\tBuzz\t71\tFizz\t73\t74\tFizzBuzz\t76\t77\tFizz\t79\tBuzz\tFizz\t82\t83\tFizz\tBuzz\t86\tFizz\t88\t89\tFizzBuzz\t91\t92\tFizz\t94\tBuzz\tFizz\t97\t98\tFizz\tBuzz\t"
     ]
    }
   ],
   "source": [
    "for i in range(1, 101):\n",
    "    print('Fizz' * (i % 3 == 0) + 'Buzz' * (i % 5 == 0) or i, end = '\\t')"
   ]
  },
  {
   "cell_type": "markdown",
   "id": "6e9ab455-761d-4c0f-93d7-d2389c046e75",
   "metadata": {},
   "source": [
    "## 연습문제\n",
    "학생들의 이름이 들어있는 명단이 name_list라는 리스트 형태로 주어질 때 이름에  \n",
    "'m' 또는 'h'가 들어있는 학생의 수를 구하려고 한다  \n",
    "둘 다 들어있는 이름은 하나로 취급한다"
   ]
  },
  {
   "cell_type": "code",
   "execution_count": 80,
   "id": "ccbc86a1-2dd7-4c2b-b190-62ffc446ed6a",
   "metadata": {},
   "outputs": [
    {
     "name": "stdout",
     "output_type": "stream",
     "text": [
      "3\n"
     ]
    }
   ],
   "source": [
    "name_list = ['matthew', 'mark', 'luke', 'john', 'paul', 'peter']\n",
    "count = 0\n",
    "for i in name_list:\n",
    "    \n",
    "    if 'h' in i or 'm' in i:\n",
    "        count += 1\n",
    "    \n",
    "print(count)"
   ]
  },
  {
   "cell_type": "code",
   "execution_count": 82,
   "id": "e09ed77d-fd0d-429c-a688-30b128e8085a",
   "metadata": {},
   "outputs": [
    {
     "name": "stdout",
     "output_type": "stream",
     "text": [
      "3\n"
     ]
    }
   ],
   "source": [
    "name_list = ['matthew', 'mark', 'luke', 'john', 'paul', 'peter']\n",
    "count = 0\n",
    "for i in name_list:\n",
    "    for j in i:\n",
    "        if j == 'm' or j == 'h':\n",
    "            count += 1\n",
    "            break\n",
    "print(count)"
   ]
  },
  {
   "cell_type": "markdown",
   "id": "190db61e-40d0-4fe4-9abe-7d4148cfa9df",
   "metadata": {},
   "source": [
    "## 연습문제\n",
    "총 5명의 학생이 시험을 보았다. 시험 점수가 60점을 넘어 합격한 사람에게만 축하  \n",
    "매사지를 보내는 프로그램을 구현한다(불합격자 에게는 메시지를 띄우지 않는다)"
   ]
  },
  {
   "cell_type": "code",
   "execution_count": 1,
   "id": "38457458-2e04-476c-b3ad-ecf67935c012",
   "metadata": {},
   "outputs": [
    {
     "name": "stdout",
     "output_type": "stream",
     "text": [
      "1 번 학생 축하합니다 합격입니다\n",
      "3 번 학생 축하합니다 합격입니다\n",
      "5 번 학생 축하합니다 합격입니다\n"
     ]
    }
   ],
   "source": [
    "marks = [90, 25, 67, 45, 80]\n",
    "for i in marks:\n",
    "    if i > 60:\n",
    "        print(marks.index(i) + 1,'번 학생 축하합니다 합격입니다')"
   ]
  },
  {
   "cell_type": "code",
   "execution_count": 1,
   "id": "3683ef1b-bc3f-40bb-b298-46e718b734bc",
   "metadata": {},
   "outputs": [
    {
     "name": "stdout",
     "output_type": "stream",
     "text": [
      "1 번 학생 축하합니다 합격입니다\n",
      "3 번 학생 축하합니다 합격입니다\n",
      "5 번 학생 축하합니다 합격입니다\n"
     ]
    }
   ],
   "source": [
    "marks = [90, 25, 67, 45, 80]\n",
    "i = 0\n",
    "while i < len(marks):\n",
    "    score = marks[i]\n",
    "    i += 1\n",
    "    if score > 60:\n",
    "        print(i ,'번 학생 축하합니다 합격입니다')\n",
    "        \n",
    "        \n",
    " \n",
    "        \n",
    "    "
   ]
  },
  {
   "cell_type": "code",
   "execution_count": 6,
   "id": "4073b614-9d93-4499-bf43-c8eba4017e96",
   "metadata": {},
   "outputs": [
    {
     "name": "stdout",
     "output_type": "stream",
     "text": [
      "1 번 학생 축하합니다 합격입니다\n",
      "3 번 학생 축하합니다 합격입니다\n",
      "5 번 학생 축하합니다 합격입니다\n"
     ]
    }
   ],
   "source": [
    "marks = [90, 25, 67, 45, 80]\n",
    "i = 0\n",
    "while i < len(marks):\n",
    "    i += 1\n",
    "    if marks[i-1] < 60:\n",
    "        continue\n",
    "    else:\n",
    "        print(i ,'번 학생 축하합니다 합격입니다')\n",
    "        "
   ]
  },
  {
   "cell_type": "markdown",
   "id": "82cf2847-8f8d-455d-8164-ce1a855cb205",
   "metadata": {},
   "source": [
    "## 연습문제\n",
    "주어진 리스트의 순서를 뒤집으려고 합니다. 주어진 리스트는 [1,4,2,3]이며 순서를 뒤집은 리스트[3,2,4,1]입니다  \n",
    "정수가 들어있는 리스트 arr을 뒤집어서 인쇄하도록 빈칸을 채워 전체 코드를 완성해라"
   ]
  },
  {
   "cell_type": "code",
   "execution_count": 33,
   "id": "f202c1d7-e3ac-4ca8-ba5d-8e28cd8aef22",
   "metadata": {},
   "outputs": [
    {
     "name": "stdout",
     "output_type": "stream",
     "text": [
      "변환된 arr은 [3, 2, 4, 1] 입니다\n"
     ]
    }
   ],
   "source": [
    "arr = [1, 4, 2, 3]\n",
    "left, right = 0, len(arr) - 1\n",
    "while   left < right: #left < len(arr) // 2:\n",
    "    arr[left], arr[right], = arr[right], arr[left]\n",
    "    left += 1\n",
    "    right -= 1\n",
    "print('변환된 arr은',arr,'입니다')"
   ]
  },
  {
   "cell_type": "code",
   "execution_count": 6,
   "id": "01ddf1fa-02f6-47cd-b2b1-a6c6d1a5757e",
   "metadata": {},
   "outputs": [
    {
     "name": "stdout",
     "output_type": "stream",
     "text": [
      "2 x 1 = 2\t3 x 1 = 3\t4 x 1 = 4\t5 x 1 = 5\t6 x 1 = 6\t7 x 1 = 7\t8 x 1 = 8\t9 x 1 = 9\t\n",
      "2 x 2 = 4\t3 x 2 = 6\t4 x 2 = 8\t5 x 2 = 10\t6 x 2 = 12\t7 x 2 = 14\t8 x 2 = 16\t9 x 2 = 18\t\n",
      "2 x 3 = 6\t3 x 3 = 9\t4 x 3 = 12\t5 x 3 = 15\t6 x 3 = 18\t7 x 3 = 21\t8 x 3 = 24\t9 x 3 = 27\t\n",
      "2 x 4 = 8\t3 x 4 = 12\t4 x 4 = 16\t5 x 4 = 20\t6 x 4 = 24\t7 x 4 = 28\t8 x 4 = 32\t9 x 4 = 36\t\n",
      "2 x 5 = 10\t3 x 5 = 15\t4 x 5 = 20\t5 x 5 = 25\t6 x 5 = 30\t7 x 5 = 35\t8 x 5 = 40\t9 x 5 = 45\t\n",
      "2 x 6 = 12\t3 x 6 = 18\t4 x 6 = 24\t5 x 6 = 30\t6 x 6 = 36\t7 x 6 = 42\t8 x 6 = 48\t9 x 6 = 54\t\n",
      "2 x 7 = 14\t3 x 7 = 21\t4 x 7 = 28\t5 x 7 = 35\t6 x 7 = 42\t7 x 7 = 49\t8 x 7 = 56\t9 x 7 = 63\t\n",
      "2 x 8 = 16\t3 x 8 = 24\t4 x 8 = 32\t5 x 8 = 40\t6 x 8 = 48\t7 x 8 = 56\t8 x 8 = 64\t9 x 8 = 72\t\n",
      "2 x 9 = 18\t3 x 9 = 27\t4 x 9 = 36\t5 x 9 = 45\t6 x 9 = 54\t7 x 9 = 63\t8 x 9 = 72\t9 x 9 = 81\t\n"
     ]
    }
   ],
   "source": [
    "\n",
    "for i in range(1,10):\n",
    "    for j in range(2,10):\n",
    "        print(j,'x',i,'=', j*i, end = '\\t')\n",
    "    print()\n",
    "        \n",
    "    "
   ]
  },
  {
   "cell_type": "code",
   "execution_count": 3,
   "id": "0acec171-5491-4495-92d9-b0240ec57aaf",
   "metadata": {},
   "outputs": [
    {
     "name": "stdout",
     "output_type": "stream",
     "text": [
      "2 x 1 = 2\t3 x 1 = 3\t4 x 1 = 4\t5 x 1 = 5\t6 x 1 = 6\t7 x 1 = 7\t8 x 1 = 8\t9 x 1 = 9\t\n",
      "2 x 2 = 4\t3 x 2 = 6\t4 x 2 = 8\t5 x 2 = 10\t6 x 2 = 12\t7 x 2 = 14\t8 x 2 = 16\t9 x 2 = 18\t\n",
      "2 x 3 = 6\t3 x 3 = 9\t4 x 3 = 12\t5 x 3 = 15\t6 x 3 = 18\t7 x 3 = 21\t8 x 3 = 24\t9 x 3 = 27\t\n",
      "2 x 4 = 8\t3 x 4 = 12\t4 x 4 = 16\t5 x 4 = 20\t6 x 4 = 24\t7 x 4 = 28\t8 x 4 = 32\t9 x 4 = 36\t\n",
      "2 x 5 = 10\t3 x 5 = 15\t4 x 5 = 20\t5 x 5 = 25\t6 x 5 = 30\t7 x 5 = 35\t8 x 5 = 40\t9 x 5 = 45\t\n",
      "2 x 6 = 12\t3 x 6 = 18\t4 x 6 = 24\t5 x 6 = 30\t6 x 6 = 36\t7 x 6 = 42\t8 x 6 = 48\t9 x 6 = 54\t\n",
      "2 x 7 = 14\t3 x 7 = 21\t4 x 7 = 28\t5 x 7 = 35\t6 x 7 = 42\t7 x 7 = 49\t8 x 7 = 56\t9 x 7 = 63\t\n",
      "2 x 8 = 16\t3 x 8 = 24\t4 x 8 = 32\t5 x 8 = 40\t6 x 8 = 48\t7 x 8 = 56\t8 x 8 = 64\t9 x 8 = 72\t\n",
      "2 x 9 = 18\t3 x 9 = 27\t4 x 9 = 36\t5 x 9 = 45\t6 x 9 = 54\t7 x 9 = 63\t8 x 9 = 72\t9 x 9 = 81\t\n"
     ]
    }
   ],
   "source": [
    "m = 1\n",
    "while m < 10:\n",
    "    n = 2\n",
    "    while n < 10:\n",
    "        print(n,'x',m,'=', n*m, end = '\\t')\n",
    "        n += 1\n",
    "    m += 1\n",
    "    print()"
   ]
  },
  {
   "cell_type": "markdown",
   "id": "09183127-e586-4990-a5a9-473149b99e7b",
   "metadata": {},
   "source": [
    "## 딕셔너리 자료형\n",
    "딕셔너리 자료형은 비 시퀀스 자료형이다 따라서 인덱스를 갖지 않는다  \n",
    "대신 이 자료형은 고유한 키(Key)를 갖는다 이 키(Key)는 1 대 1로 매칭 되는 값을 갖는다 이를 Key-Value pair라고 하며  \n",
    "이를 딕셔너리 자료형의 특징이다"
   ]
  },
  {
   "cell_type": "code",
   "execution_count": 4,
   "id": "494ce033-a27b-4544-98e7-aefe31dd882c",
   "metadata": {},
   "outputs": [
    {
     "name": "stdout",
     "output_type": "stream",
     "text": [
      "<class 'dict'>\n",
      "{'key': 'value'}\n"
     ]
    }
   ],
   "source": [
    "dic_var = {\"key\": \"value\"}\n",
    "print(type(dic_var))\n",
    "print(dic_var)"
   ]
  },
  {
   "cell_type": "code",
   "execution_count": 5,
   "id": "5e9120a7-a8e9-4c7f-a74f-8d841a7f8913",
   "metadata": {},
   "outputs": [
    {
     "name": "stdout",
     "output_type": "stream",
     "text": [
      "{'key': 'last value'}\n"
     ]
    }
   ],
   "source": [
    "#딕셔너리 자료형에서 키는 중복해서 존재하지 않는다 만약 중복해서 넣게되면 가장 최근에 넣은 key-value pair만 남는다\n",
    "dic_var = {\"key\": \"value\", \"key\": \"last value\" }\n",
    "print(dic_var)"
   ]
  },
  {
   "cell_type": "code",
   "execution_count": 8,
   "id": "75926097-479c-4160-8d0e-a7b262ddef2d",
   "metadata": {},
   "outputs": [
    {
     "name": "stdout",
     "output_type": "stream",
     "text": [
      "[<class 'str'>, <class 'int'>, <class 'float'>, <class 'tuple'>]\n"
     ]
    }
   ],
   "source": [
    "# 딕셔너리에서는 키는 문자열, 정수, 실수, 불, 튜플을 사용할 수 있다 키에 자료형을 섞어서 사용해도 된다, 단 키에는 리스트, 딕셔너리, 집합을 사용할 수 없다\n",
    "dic_var = {\"key\": \"value\",\n",
    "           1: \"value2\",\n",
    "           1.1: \"value3\",\n",
    "           True: \"value4\",\n",
    "           ('key',1.1, 1, True): \"value2\"}\n",
    "print(list(map(type, dic_var.keys()))) # 키는 중복하면 안된다 고유한 값을 가져야 한다"
   ]
  },
  {
   "cell_type": "code",
   "execution_count": 11,
   "id": "05ce45d7-427a-40a5-8364-22d4d5e69f7a",
   "metadata": {},
   "outputs": [
    {
     "name": "stdout",
     "output_type": "stream",
     "text": [
      "{}\n",
      "<class 'dict'>\n"
     ]
    }
   ],
   "source": [
    "empty_dict = {} # 빈 덕셔너리를 만들때는 빈 {} 를 쓰거나 함수()를 쓴다\n",
    "print(empty_dict)\n",
    "print(type(empty_dict))"
   ]
  },
  {
   "cell_type": "code",
   "execution_count": 10,
   "id": "a3be87a7-d929-4c1a-b0ba-8daf9efee0ee",
   "metadata": {},
   "outputs": [
    {
     "name": "stdout",
     "output_type": "stream",
     "text": [
      "{}\n",
      "<class 'dict'>\n"
     ]
    }
   ],
   "source": [
    "empty_dict = dict()\n",
    "print(empty_dict)\n",
    "print(type(empty_dict))"
   ]
  },
  {
   "cell_type": "code",
   "execution_count": 12,
   "id": "8b64d26d-dbce-4836-86a7-ce634d733ef7",
   "metadata": {},
   "outputs": [
    {
     "name": "stdout",
     "output_type": "stream",
     "text": [
      "{'key': 'value', 'key2': 'value2', 'key3': 'value3'}\n"
     ]
    }
   ],
   "source": [
    "# dict()함수에 키워드 인자값을 활용하면 딕셔너리를 만들 수 있다. 함수에 사용하는 키워드 인자의 키워드 부분은 변수명처럼 따옴표를 사용하지 않는다\n",
    "dict_a = dict(key=\"value\", key2=\"value2\", key3=\"value3\")\n",
    "print(dict_a)"
   ]
  },
  {
   "cell_type": "code",
   "execution_count": 47,
   "id": "7255c06f-d42c-4f8d-9097-1c8b33c34cd4",
   "metadata": {},
   "outputs": [
    {
     "name": "stdout",
     "output_type": "stream",
     "text": [
      "{'key': 'value', 'key2': 'value2', 'key3': 'value3'}\n"
     ]
    }
   ],
   "source": [
    "dict_b = dict(zip([\"key\", \"key2\",\"key3\"],[\"value\", \"value2\", \"value3\"]))\n",
    "print(dict_b)"
   ]
  },
  {
   "cell_type": "code",
   "execution_count": 18,
   "id": "70a629b6-9541-4efa-b4f4-ba6304b15c58",
   "metadata": {},
   "outputs": [
    {
     "name": "stdout",
     "output_type": "stream",
     "text": [
      "{'key': 'super value', 'key2': 'value2', 'key3': 'value3'}\n",
      "super value\n"
     ]
    }
   ],
   "source": [
    "print(dict_b) # 키로 값에 접근하기, 인덱싱과 마찬가지이다 인덱싱은 0이상의 정수를 활용하여 각 요소에 접근하지만 딕셔너리 자료형은 키를 활용하여 해당 값에 접근한다\n",
    "print(dict_b['key'])"
   ]
  },
  {
   "cell_type": "code",
   "execution_count": 19,
   "id": "f58b4dea-0e69-4b7a-b356-516e63df1daa",
   "metadata": {},
   "outputs": [
    {
     "name": "stdout",
     "output_type": "stream",
     "text": [
      "{'key': 'super value', 'key2': 'value2', 'key3': 'value3'}\n",
      "{'key': 'super value', 'key2': 'value2', 'key3': 'value3'}\n"
     ]
    }
   ],
   "source": [
    "print(dict_b)\n",
    "dict_b['key'] = \"super value\" # 키를 통해 접근한 요소에 값을 할당하면 해당 값을 변경할 수 있다\n",
    "print(dict_b)"
   ]
  },
  {
   "cell_type": "code",
   "execution_count": 48,
   "id": "12832d5e-b2be-493a-b8c4-42de9b61e1a5",
   "metadata": {},
   "outputs": [
    {
     "name": "stdout",
     "output_type": "stream",
     "text": [
      "{'key': 'value', 'key2': 'value2', 'key3': 'value3'}\n",
      "{'key': 'value', 'key2': 'value2', 'key3': 'value3', 'new one': 'new value'}\n"
     ]
    }
   ],
   "source": [
    "print(dict_b)\n",
    "dict_b['new one'] = \"new value\" #닥셔너리에 없는 키를 활용하여 값을 할당하면 딕셔너리에 새로운 키와 값의 쌍이 추가된다\n",
    "print(dict_b)"
   ]
  },
  {
   "cell_type": "code",
   "execution_count": 49,
   "id": "3ad655e8-b5b7-4e87-a094-14f9bc0ef492",
   "metadata": {},
   "outputs": [
    {
     "name": "stdout",
     "output_type": "stream",
     "text": [
      "{'key': 'value', 'key2': 'value2', 'key3': 'value3', 'new one': 'new value'}\n"
     ]
    },
    {
     "ename": "KeyError",
     "evalue": "'없는키'",
     "output_type": "error",
     "traceback": [
      "\u001b[1;31m---------------------------------------------------------------------------\u001b[0m",
      "\u001b[1;31mKeyError\u001b[0m                                  Traceback (most recent call last)",
      "\u001b[1;32m~\\AppData\\Local\\Temp\\ipykernel_15272\\2522516443.py\u001b[0m in \u001b[0;36m<module>\u001b[1;34m\u001b[0m\n\u001b[0;32m      1\u001b[0m \u001b[0mprint\u001b[0m\u001b[1;33m(\u001b[0m\u001b[0mdict_b\u001b[0m\u001b[1;33m)\u001b[0m\u001b[1;33m\u001b[0m\u001b[1;33m\u001b[0m\u001b[0m\n\u001b[1;32m----> 2\u001b[1;33m \u001b[0mprint\u001b[0m\u001b[1;33m(\u001b[0m\u001b[0mdict_b\u001b[0m\u001b[1;33m[\u001b[0m\u001b[1;34m'없는키'\u001b[0m\u001b[1;33m]\u001b[0m\u001b[1;33m)\u001b[0m \u001b[1;31m# 없는키를 입력하면 에러가 난다\u001b[0m\u001b[1;33m\u001b[0m\u001b[1;33m\u001b[0m\u001b[0m\n\u001b[0m",
      "\u001b[1;31mKeyError\u001b[0m: '없는키'"
     ]
    }
   ],
   "source": [
    "print(dict_b)\n",
    "print(dict_b['없는키']) # 없는키를 입력하면 에러가 난다"
   ]
  },
  {
   "cell_type": "code",
   "execution_count": null,
   "id": "6f642142-8291-4c7d-a039-ec7c16042b20",
   "metadata": {},
   "outputs": [],
   "source": []
  },
  {
   "cell_type": "code",
   "execution_count": 50,
   "id": "eeff0392-6fc8-4ca7-aaeb-5ddb8e1a94a5",
   "metadata": {},
   "outputs": [
    {
     "name": "stdout",
     "output_type": "stream",
     "text": [
      "{'key': 'value', 'key2': 'value2', 'key3': 'value3', 'new one': 'new value'}\n",
      "True\n"
     ]
    }
   ],
   "source": [
    "print(dict_b) # 특정키가 혼재하는지 확인할 때 in 연산자를 활용할 수 있다\n",
    "print('key' in dict_b)"
   ]
  },
  {
   "cell_type": "code",
   "execution_count": 51,
   "id": "550b14ba-3710-4b2e-8bc6-f1fb2a895d6d",
   "metadata": {},
   "outputs": [
    {
     "name": "stdout",
     "output_type": "stream",
     "text": [
      "{'key': 'value', 'key2': 'value2', 'key3': 'value3'}\n"
     ]
    }
   ],
   "source": [
    "del(dict_b['new one'])\n",
    "print(dict_b)"
   ]
  },
  {
   "cell_type": "code",
   "execution_count": 35,
   "id": "5ff88f5d-1073-48f0-b371-0a2dacc8068a",
   "metadata": {},
   "outputs": [
    {
     "name": "stdout",
     "output_type": "stream",
     "text": [
      "{'key': 'super value', 'key2': 'value2', 'key3': 'value3'}\n"
     ]
    },
    {
     "data": {
      "text/plain": [
       "3"
      ]
     },
     "execution_count": 35,
     "metadata": {},
     "output_type": "execute_result"
    }
   ],
   "source": [
    "print(dict_b) # len() 함수를 통해 딕셔너리 자료형의 크기를 구하면 키의 크기이기도하고 값의 크기이기도 하다\n",
    "len(dict_b)"
   ]
  },
  {
   "cell_type": "markdown",
   "id": "5ece654b-5f43-4142-a57d-fcb2eae34423",
   "metadata": {},
   "source": [
    "## 연습문제\n",
    "input()함수를 통해 원하는 과일 이름을 입력하면 가격이 출력되는 프로그램을 구현한다 과일이름을(str) key로 만들고 가격을(int) value로  \n",
    "해서 딕셔너리 자료형을 만든다.  \n",
    "- 사과는 1000원, 바나나는 700원, 오렌지는 1500원, 파인애플은 2000원"
   ]
  },
  {
   "cell_type": "code",
   "execution_count": 53,
   "id": "0f6dd3f9-8978-4c70-b6bf-dbd86b066488",
   "metadata": {},
   "outputs": [
    {
     "name": "stdin",
     "output_type": "stream",
     "text": [
      "과일 이름을 입력하세요: 사과\n"
     ]
    },
    {
     "name": "stdout",
     "output_type": "stream",
     "text": [
      "사과의 가격은 1000원 입니다\n"
     ]
    },
    {
     "data": {
      "text/plain": [
       "\"\\nif fr == '사과':\\n    print('사과는',dict_c['사과'],'원 입니다')\\nif fr == '바나나':\\n    print('바나나는',dict_c['바나나'],'원 입니다')\\nif fr == '오렌지':\\n    print('오렌지는',dict_c['오렌지'],'원 입니다')\\nif fr == '파인애플':\\n    print('파인애플은',dict_c['파인애플'],'원 입니다')\\n\""
      ]
     },
     "execution_count": 53,
     "metadata": {},
     "output_type": "execute_result"
    }
   ],
   "source": [
    "dict_c = dict(사과=1000, 바나나=700, 오렌지=1500, 파인애플=2000)\n",
    "\n",
    "fr = input(\"과일 이름을 입력하세요:\")\n",
    "print(f\"{fr}의 가격은 {dict_c[fr]}원 입니다\")\n",
    "\"\"\"\n",
    "if fr == '사과':\n",
    "    print('사과는',dict_c['사과'],'원 입니다')\n",
    "if fr == '바나나':\n",
    "    print('바나나는',dict_c['바나나'],'원 입니다')\n",
    "if fr == '오렌지':\n",
    "    print('오렌지는',dict_c['오렌지'],'원 입니다')\n",
    "if fr == '파인애플':\n",
    "    print('파인애플은',dict_c['파인애플'],'원 입니다')\n",
    "\"\"\"\n"
   ]
  },
  {
   "cell_type": "markdown",
   "id": "ef157515-250c-411e-8db8-406e9d863413",
   "metadata": {},
   "source": [
    "## 연습문제\n",
    "input()를 통해 이름 값 여럿을 입력 받습니다. 이름을 입력 받고 난 후에 이름  \n",
    "순서와 개수를 동일하게 몸무게 값을 입력 받습니다.  \n",
    "이름(str)을 키(key)로 몸무게(float)를 값(value)으로 하는 딕셔너리 자료형을 만들고 스 결과를 출력하라\n"
   ]
  },
  {
   "cell_type": "code",
   "execution_count": 46,
   "id": "e45d0bdc-228b-4f66-8234-0d704f06ccc5",
   "metadata": {},
   "outputs": [
    {
     "name": "stdin",
     "output_type": "stream",
     "text": [
      "이름을 기입해 주세요 짱구 훈이 맹구 철수\n",
      "몸무게를 입력해 주세요 23 43 54 65\n"
     ]
    },
    {
     "name": "stdout",
     "output_type": "stream",
     "text": [
      "{'짱구': 23.0, '훈이': 43.0, '맹구': 54.0, '철수': 65.0}\n"
     ]
    }
   ],
   "source": [
    "name = list((input(\"이름을 기입해 주세요\").split()))\n",
    "weight = list(map(float,input(\"몸무게를 입력해 주세요\").split()))\n",
    "name_weight = dict(zip(name , weight))\n",
    "print(name_weight)"
   ]
  },
  {
   "cell_type": "code",
   "execution_count": 55,
   "id": "e7b520c8-c394-4a5a-8757-ab141acaa801",
   "metadata": {},
   "outputs": [
    {
     "name": "stdin",
     "output_type": "stream",
     "text": [
      "이름을 기입해 주세요 fr gr gt hu tt\n",
      "몸무게를 입력해 주세요 23 23 23 23 23\n"
     ]
    },
    {
     "name": "stdout",
     "output_type": "stream",
     "text": [
      "{'fr': 23.0, 'gr': 23.0, 'gt': 23.0, 'hu': 23.0, 'tt': 23.0}\n"
     ]
    }
   ],
   "source": [
    "name = list((input(\"이름을 기입해 주세요\").split()))\n",
    "weight = list(map(float,input(\"몸무게를 입력해 주세요\").split()))\n",
    "dict_mn = {}\n",
    "\n",
    "for i in range(len(name)):\n",
    "    dict_mn[name[i]] = weight[i]\n",
    "    \n",
    "print(dict_mn)"
   ]
  },
  {
   "cell_type": "markdown",
   "id": "defdf26e-377a-4290-8958-bd1323c6fe66",
   "metadata": {},
   "source": [
    "리스트 생성방법 list()함수 쓰거나 a = list(), []로 만든다 a = []"
   ]
  },
  {
   "cell_type": "markdown",
   "id": "7061351a-e31b-4fd0-b5b4-574962772ea8",
   "metadata": {},
   "source": [
    "## 리스트 컴프리헨션\n",
    "리스트 컴프리헨션은 대괄호 안에 표현식과 for문을 작성하여 사용할 수 있다.  \n",
    "list_variable = [expression for 변수 in literable] # :콤마는 없어도됨\n",
    "1. 반복가능한 객체로부터 값을 하나 꺼내와서 변수에 담는다\n",
    "2. 요소에 담은 변수를 활용해서 표련식을 실행한다(변수는 활용 안할 수도 있음)\n",
    "3. 표현식 결과 값을 리스트 요소에 넣는다\n"
   ]
  },
  {
   "cell_type": "code",
   "execution_count": 59,
   "id": "d420c13c-2e49-4391-85f7-a9e0b7f7bbca",
   "metadata": {},
   "outputs": [
    {
     "name": "stdout",
     "output_type": "stream",
     "text": [
      "[1, 4, 9, 16, 25, 36, 49, 64, 81]\n"
     ]
    }
   ],
   "source": [
    " # 0 ~ 9\n",
    " # _ --> _ = 0~9\n",
    "list_a = [_ ** 2 for _ in range(1,10)]\n",
    "print(list_a)"
   ]
  },
  {
   "cell_type": "code",
   "execution_count": 60,
   "id": "d5aba08d-e7ed-45cf-b13d-09f34c8adaad",
   "metadata": {},
   "outputs": [
    {
     "name": "stdout",
     "output_type": "stream",
     "text": [
      "hello world\n",
      "hello world\n",
      "hello world\n",
      "hello world\n",
      "hello world\n",
      "hello world\n",
      "hello world\n",
      "hello world\n",
      "hello world\n",
      "hello world\n"
     ]
    }
   ],
   "source": [
    "list_b = [print(\"hello world\") for _ in range(10)]"
   ]
  },
  {
   "cell_type": "markdown",
   "id": "efe209f1-c54e-456a-82ba-3a111c7e4a55",
   "metadata": {},
   "source": [
    "## 연습문제\n",
    "리스트 컴프리헨션을 활용해서 1부터 9까지의 제곱을 담는 리스트를 만들어보세요"
   ]
  },
  {
   "cell_type": "code",
   "execution_count": 62,
   "id": "612ede75-3c75-4939-a7ea-22bc69969b76",
   "metadata": {},
   "outputs": [
    {
     "name": "stdout",
     "output_type": "stream",
     "text": [
      "<class 'list'>\n",
      "[1, 4, 9, 16, 25, 36, 49, 64, 81]\n"
     ]
    }
   ],
   "source": [
    "prac_result = [_*_ for _ in range(1, 10)]\n",
    "print(type(prac_result))\n",
    "print(prac_result)"
   ]
  },
  {
   "cell_type": "code",
   "execution_count": null,
   "id": "4213a42c-020d-4e9a-af60-4c7ff6e90fd7",
   "metadata": {},
   "outputs": [],
   "source": []
  }
 ],
 "metadata": {
  "kernelspec": {
   "display_name": "Python 3 (ipykernel)",
   "language": "python",
   "name": "python3"
  },
  "language_info": {
   "codemirror_mode": {
    "name": "ipython",
    "version": 3
   },
   "file_extension": ".py",
   "mimetype": "text/x-python",
   "name": "python",
   "nbconvert_exporter": "python",
   "pygments_lexer": "ipython3",
   "version": "3.9.13"
  }
 },
 "nbformat": 4,
 "nbformat_minor": 5
}
