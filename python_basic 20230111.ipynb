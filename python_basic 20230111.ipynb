{
 "cells": [
  {
   "cell_type": "markdown",
   "id": "ab7a965e-d0a1-4d8e-8c5f-f32d1e7badcd",
   "metadata": {},
   "source": [
    "## 연습문제\n",
    "N명의 후보에 대해 투표한 결과가 들어있는 리스트 votes가 있다  \n",
    "예를 들어 5명의 후보에 대해 투표를 진행한 결과가 [2, 5, 3, 4, 1, 5, 1, 5, 5, 3]이라면  \n",
    "순서대로 [2번, 5번, 3번, 4번, 1번, 5번, 1번, 5번, 5번, 3번]후보에 투표했음을  \n",
    "나타냅니다 이따 가장 많은 표를 얻은 후보는 누구이며 몇 표를 얻었는지 아래와 같이 나타내는 프로그램을 작성하시오\n",
    "\n",
    "-candidates = [\"\", \"전정국\", \"김남준\", \"박지민\", \"정호석\", \"김태형\"]"
   ]
  },
  {
   "cell_type": "code",
   "execution_count": 36,
   "id": "257b0c17-898c-44e4-9980-7f36f592d0c1",
   "metadata": {},
   "outputs": [
    {
     "name": "stdout",
     "output_type": "stream",
     "text": [
      "박지민 후보가 총 5 표를 얻어 당선되었습니다\n"
     ]
    }
   ],
   "source": [
    "votes = [3, 3, 3, 4, 1, 3, 1, 5, 5, 3]\n",
    "candidates = [\"\", \"전정국\", \"김남준\", \"박지민\", \"정호석\", \"김태형\"]\n",
    "count = [0, 0, 0, 0, 0, 0]\n",
    "max = 0\n",
    "person_number = 0\n",
    "for i in votes:\n",
    "    count[i] += 1\n",
    "for j in count:\n",
    "    if j > max:\n",
    "        max = j\n",
    "    j += 1\n",
    "        \n",
    "print(candidates[j],'후보가','총',max,'표를 얻어 당선되었습니다')\n",
    "        "
   ]
  },
  {
   "cell_type": "code",
   "execution_count": 31,
   "id": "852c7926-4bb4-4036-b0b4-ce2485ccb29f",
   "metadata": {},
   "outputs": [
    {
     "name": "stdout",
     "output_type": "stream",
     "text": [
      "김태형 후보가 총 4 표를 얻어 당선되었습니다\n"
     ]
    }
   ],
   "source": [
    "votes = [2, 5, 3, 4, 1, 5, 1, 5, 5, 3]\n",
    "candidates = [\"\", \"전정국\", \"김남준\", \"박지민\", \"정호석\", \"김태형\"]\n",
    "count = [0]*len(candidates)\n",
    "i = 1\n",
    "max_count = 0\n",
    "person_n = 0\n",
    "for i in votes:\n",
    "    count[i] += 1\n",
    "while i < len(count):\n",
    "    if max_count < count[i]:\n",
    "        max_count = count[i]\n",
    "        person_n = i\n",
    "    i += 1\n",
    "print(candidates[person_n],'후보가','총',max_count,'표를 얻어 당선되었습니다')"
   ]
  },
  {
   "cell_type": "code",
   "execution_count": 42,
   "id": "0f258327-d72b-414f-9d21-e5317c77c5be",
   "metadata": {},
   "outputs": [
    {
     "name": "stdout",
     "output_type": "stream",
     "text": [
      "[1, 3, 5, 7, 9]\n"
     ]
    }
   ],
   "source": [
    "prac_result = [(i * 2) + 1 for i in range(5)]\n",
    "print(prac_result)"
   ]
  },
  {
   "cell_type": "code",
   "execution_count": 51,
   "id": "17b93ce2-1a56-4357-bab4-ba9123524fc5",
   "metadata": {},
   "outputs": [
    {
     "name": "stdout",
     "output_type": "stream",
     "text": [
      "['a', 'b', 'c', 'd', 'e', 'f', 'g', 'h', 'i', 'j', 'k', 'l', 'n', 'm', 'o', 'p', 'q', 'r', 's', 't', 'u', 'v', 'w', 'x', 'y', 'z']\n"
     ]
    }
   ],
   "source": [
    "prac_result2 = [i for i in 'abcdefghijklnmopqrstuvwxyz']\n",
    "print(prac_result2)"
   ]
  },
  {
   "cell_type": "markdown",
   "id": "70f6a619-a690-4301-b133-315cfec34845",
   "metadata": {},
   "source": [
    "## 연습문제\n",
    "리스트 컴프리헨션을 활용해서 2부터 10까지 숫자 리스트와 J,Q,K,A를 갖는 리스트를 만들어 합쳐보세요"
   ]
  },
  {
   "cell_type": "code",
   "execution_count": 92,
   "id": "7d1a7e5e-da7a-44f5-a557-3f79d5b59e33",
   "metadata": {},
   "outputs": [
    {
     "name": "stdout",
     "output_type": "stream",
     "text": [
      "[2, 3, 4, 5, 6, 7, 8, 9, 10, 'J', 'Q', 'K', 'A']\n"
     ]
    }
   ],
   "source": [
    "\n",
    "prac_result3 = [i for i in range(2, 11)]+[i  for i in 'JQKA']\n",
    "print(prac_result3)"
   ]
  },
  {
   "cell_type": "markdown",
   "id": "395d58c7-a482-4323-aec2-3df9d4e5531a",
   "metadata": {},
   "source": [
    "## 연습문제\n",
    "리스트 컴프리헨션을 활용해서 앞서 예제에서 만든 객체를 4개 요소로 갖는 리스트를 만들어보세요"
   ]
  },
  {
   "cell_type": "code",
   "execution_count": 93,
   "id": "81904faf-4df0-4ad7-9690-63eb425d3c69",
   "metadata": {},
   "outputs": [
    {
     "name": "stdout",
     "output_type": "stream",
     "text": [
      "[[2, 3, 4, 5, 6, 7, 8, 9, 10, 'J', 'Q', 'K', 'A'], [2, 3, 4, 5, 6, 7, 8, 9, 10, 'J', 'Q', 'K', 'A'], [2, 3, 4, 5, 6, 7, 8, 9, 10, 'J', 'Q', 'K', 'A'], [2, 3, 4, 5, 6, 7, 8, 9, 10, 'J', 'Q', 'K', 'A']]\n"
     ]
    }
   ],
   "source": [
    "prac_result5 = ([prac_result3]) * 4\n",
    "print(prac_result5)"
   ]
  },
  {
   "cell_type": "code",
   "execution_count": 94,
   "id": "8bd99b2d-a05e-4ad6-8fe3-bc1d939779e9",
   "metadata": {},
   "outputs": [
    {
     "name": "stdout",
     "output_type": "stream",
     "text": [
      "['two', 3, 4, 5, 6, 7, 8, 9, 10, 'J', 'Q', 'K', 'A']\n"
     ]
    }
   ],
   "source": [
    "prac_result3[0] = 'two'\n",
    "print(prac_result3)\n"
   ]
  },
  {
   "cell_type": "code",
   "execution_count": 95,
   "id": "c5ed05f6-3917-42b4-8f23-c436fbe0aadf",
   "metadata": {},
   "outputs": [
    {
     "name": "stdout",
     "output_type": "stream",
     "text": [
      "[['two', 3, 4, 5, 6, 7, 8, 9, 10, 'J', 'Q', 'K', 'A'], ['two', 3, 4, 5, 6, 7, 8, 9, 10, 'J', 'Q', 'K', 'A'], ['two', 3, 4, 5, 6, 7, 8, 9, 10, 'J', 'Q', 'K', 'A'], ['two', 3, 4, 5, 6, 7, 8, 9, 10, 'J', 'Q', 'K', 'A']]\n"
     ]
    }
   ],
   "source": [
    "print(prac_result5)"
   ]
  },
  {
   "cell_type": "markdown",
   "id": "19644690-cb63-4846-890d-dbe20631360f",
   "metadata": {},
   "source": [
    "메모리를 효율적으로 활용하기 위해선 주소값을 이용해야 한다.  \n",
    "객체가 작은 문자나 숫자 부울형태는 객체 자체를 불러와서 사용할 수 있지만.  \n",
    "값이 커지면 주소값을 불러와서 사용해야한다"
   ]
  },
  {
   "cell_type": "markdown",
   "id": "1ca16983-5a3b-4838-9280-f925207d43c7",
   "metadata": {},
   "source": [
    "## id()내장함수\n",
    "객체마다 구분할 수 있는 고유한 정수 값(메모리 주소)을 갖습니다 그걸 조회하는 게  \n",
    "id()내장함수입니다 죽 id()로 가져온 정수 값이 갗다면 같은 객체라는 의미입니다.  \n",
    "prac_result4와 prac_result5를 구성하는 모든 요소들의 id() 반환값이 같다  \n",
    "즉 변수와 모든 요소들이 같은 메모리상의 객체를 바라본다는 의미이다."
   ]
  },
  {
   "cell_type": "code",
   "execution_count": 98,
   "id": "54e90dbd-2be8-4271-a4b6-322e8e42bc44",
   "metadata": {},
   "outputs": [
    {
     "name": "stdout",
     "output_type": "stream",
     "text": [
      "prac_result3의 id: 2635550043072\n",
      "prac_result6[0]:2635550924608\n",
      "prac_result6[1]:2635550906304\n",
      "prac_result6[2]:2635549895616\n",
      "prac_result6[3]:2635550921664\n"
     ]
    }
   ],
   "source": [
    "prac_result6 = [prac_result3[:] for _ in range(4)]\n",
    "\n",
    "print(\"prac_result3의 id:\",id(prac_result3))\n",
    "for i, v in enumerate(prac_result6):\n",
    "    print(\"prac_result6[\",i,\"]:\", id(v), sep = '')"
   ]
  },
  {
   "cell_type": "markdown",
   "id": "d238ca2a-c476-4709-a301-b45835a356e4",
   "metadata": {},
   "source": [
    "리스트를 슬라이싱을 통해 전체 범위를 반환받았을 때 그 리스트는 원래의 리스트와 주소값이 다르다"
   ]
  },
  {
   "cell_type": "markdown",
   "id": "b1e0488d-abb9-4db0-9165-2e55684b3155",
   "metadata": {},
   "source": [
    "## 연습문제\n",
    "old_list 리스트를 만들어 변수에 담는다. 슬라이싱을 통해 old_list 객체 전체를 그대로  \n",
    "복사해서 새로운 변수 new_list에 담아보세요 그리고 그 둘의 id()를 비교해보고 is  \n",
    "연산자를 통해 객체 간 비교를 해보고 == 연산자를 통해 비교한 결과를 확인해보시오"
   ]
  },
  {
   "cell_type": "code",
   "execution_count": 100,
   "id": "d3a96af8-4f49-4231-9695-1e889f661465",
   "metadata": {},
   "outputs": [
    {
     "name": "stdout",
     "output_type": "stream",
     "text": [
      "2635549895168\n",
      "2635549790464\n",
      "False\n",
      "True\n"
     ]
    }
   ],
   "source": [
    "old_list = list(range(10))\n",
    "new_list = old_list[:]\n",
    "\n",
    "print(id(old_list))\n",
    "print(id(new_list))\n",
    "print(old_list is new_list)\n",
    "print(old_list == new_list)\n",
    "# 문자열이나 튜플은 변하지 않는 성질이 있어서 주소값이 복사해도 동일하다"
   ]
  },
  {
   "cell_type": "markdown",
   "id": "52cee644-8104-42af-9fea-5f5a69e14388",
   "metadata": {},
   "source": [
    "리스트 컴프리헨션은 대괄호([]) 방식이 더 좋다 list()방식은 C언어 스타일이기에 대괄호 방식이 파이썬 다운 코드이다"
   ]
  },
  {
   "cell_type": "markdown",
   "id": "a4baf90c-2f53-4fe8-8e15-c4fb608a3d4a",
   "metadata": {},
   "source": [
    "### 리스트 변수를 할당해서 복사하는 경우\n",
    "리스트 객체를 담고 있는 변수는 메모리 주소 정보를 담고 있다. 그리고 그 변수를  \n",
    "다른 변수에 대입하면 메모리 주소 정보를 복사한다. 즉 그 두 변수는 동일한 객체를 바라보게된다"
   ]
  },
  {
   "cell_type": "markdown",
   "id": "e3adcb88-0afa-427e-ab17-bf9713207a2e",
   "metadata": {},
   "source": [
    "## 연습문제\n",
    "<순환하는 광고판 만들기>"
   ]
  },
  {
   "cell_type": "code",
   "execution_count": 74,
   "id": "0e3eb7ea-6ed0-45a7-930f-1ca7587c647e",
   "metadata": {},
   "outputs": [
    {
     "name": "stdin",
     "output_type": "stream",
     "text": [
      "숫자를 입력하세요 10\n"
     ]
    },
    {
     "name": "stdout",
     "output_type": "stream",
     "text": [
      "[1, 2, 3, 4, 5, 6, 7, 8, 9, 10]\t\n",
      "[2, 3, 4, 5, 6, 7, 8, 9, 10, 1]\t\n",
      "[3, 4, 5, 6, 7, 8, 9, 10, 1, 2]\t\n",
      "[4, 5, 6, 7, 8, 9, 10, 1, 2, 3]\t\n",
      "[5, 6, 7, 8, 9, 10, 1, 2, 3, 4]\t\n",
      "[6, 7, 8, 9, 10, 1, 2, 3, 4, 5]\t\n",
      "[7, 8, 9, 10, 1, 2, 3, 4, 5, 6]\t\n",
      "[8, 9, 10, 1, 2, 3, 4, 5, 6, 7]\t\n",
      "[9, 10, 1, 2, 3, 4, 5, 6, 7, 8]\t\n",
      "[10, 1, 2, 3, 4, 5, 6, 7, 8, 9]\t\n"
     ]
    }
   ],
   "source": [
    "a = int(input(\"숫자를 입력하세요\"))\n",
    "ad = list(range(1,a+1))\n",
    "for i in range(len(ad)):\n",
    "    print(ad[i:]+ad[:i], end = '\\t')\n",
    "    print()"
   ]
  },
  {
   "cell_type": "markdown",
   "id": "da9452c7-3cc7-4f64-8c91-336d6c159708",
   "metadata": {},
   "source": [
    "## 리스트 복사(copy() 메서드)\n",
    "리스트.copy()메서드는 리스트 객체를 새롭게 복사합니다. 이 반환 값은 새로운 객체가 됩니다.  "
   ]
  },
  {
   "cell_type": "code",
   "execution_count": 28,
   "id": "a009326f-db3d-455c-b0bc-30612e9402c5",
   "metadata": {},
   "outputs": [
    {
     "name": "stdout",
     "output_type": "stream",
     "text": [
      "2826033654144\n",
      "2826033645696\n",
      "False\n"
     ]
    }
   ],
   "source": [
    "list_g = list(range(10))\n",
    "list_h = list_g.copy()\n",
    "print(id(list_g))\n",
    "print(id(list_h))\n",
    "print(list_g is list_h)"
   ]
  },
  {
   "cell_type": "code",
   "execution_count": 29,
   "id": "b1880047-5e93-45b4-8141-588d2644c917",
   "metadata": {},
   "outputs": [
    {
     "name": "stdout",
     "output_type": "stream",
     "text": [
      "[999, 1, 2, 3, 4, 5, 6, 7, 8, 9]\n",
      "[0, 1, 2, 3, 4, 5, 6, 7, 8, 9]\n"
     ]
    }
   ],
   "source": [
    "list_g[0] = 999\n",
    "print(list_g)\n",
    "print(list_h)"
   ]
  },
  {
   "cell_type": "code",
   "execution_count": 30,
   "id": "5fa2c83e-2aeb-4bdf-9fb5-5bdff9b52103",
   "metadata": {},
   "outputs": [
    {
     "name": "stdout",
     "output_type": "stream",
     "text": [
      "[[0], [0], [0]]\n"
     ]
    }
   ],
   "source": [
    "list_i = [[0]] * 3\n",
    "print(list_i)"
   ]
  },
  {
   "cell_type": "code",
   "execution_count": 34,
   "id": "4975937b-d4d5-4308-ab75-523e26221743",
   "metadata": {},
   "outputs": [
    {
     "name": "stdout",
     "output_type": "stream",
     "text": [
      "[[999], [999], [999]]\n"
     ]
    }
   ],
   "source": [
    "list_i[0][0] = 999\n",
    "print(list_i)"
   ]
  },
  {
   "cell_type": "code",
   "execution_count": 35,
   "id": "f8e081a0-de5b-4ba7-8d50-d31e81466274",
   "metadata": {},
   "outputs": [
    {
     "ename": "SyntaxError",
     "evalue": "invalid syntax (897286136.py, line 1)",
     "output_type": "error",
     "traceback": [
      "\u001b[1;36m  File \u001b[1;32m\"C:\\Users\\Playdata\\AppData\\Local\\Temp\\ipykernel_16872\\897286136.py\"\u001b[1;36m, line \u001b[1;32m1\u001b[0m\n\u001b[1;33m    list_{[ = [{1, 3}, [3.4]}]\u001b[0m\n\u001b[1;37m         ^\u001b[0m\n\u001b[1;31mSyntaxError\u001b[0m\u001b[1;31m:\u001b[0m invalid syntax\n"
     ]
    }
   ],
   "source": [
    "list_[[ = [{1, 3}, [3.4]]]"
   ]
  },
  {
   "cell_type": "code",
   "execution_count": 42,
   "id": "1a4e4571-d15c-44c2-ae24-683bb348e8c9",
   "metadata": {},
   "outputs": [
    {
     "name": "stdout",
     "output_type": "stream",
     "text": [
      "[[1, 2], [3, 4]]\n",
      "[[1, 2], [3, 4]]\n"
     ]
    }
   ],
   "source": [
    "list_j = [[1,2], [3,4]]\n",
    "list_k = list_j[:]\n",
    "print(list_j)\n",
    "print(list_k)"
   ]
  },
  {
   "cell_type": "markdown",
   "id": "c3c63918-d2e0-4218-9852-8a208f527dad",
   "metadata": {},
   "source": [
    "## 깊은 복사 (Deep copy)\n",
    "리스트 내 요소가 메모리 주소를 담고있는 객체더라도 객체를 완전하게 깊이에 상관없이  \n",
    "다 새롭게 복사해서 만듭니다 전혀 다른 메모리 공간을 차지하는 완전한 리스트로 복사한다. 두 리스트 간에 값은 겉으나"
   ]
  },
  {
   "cell_type": "code",
   "execution_count": 46,
   "id": "0a875798-3c01-40e8-9b81-e83e34d780eb",
   "metadata": {},
   "outputs": [
    {
     "name": "stdout",
     "output_type": "stream",
     "text": [
      "False\n"
     ]
    }
   ],
   "source": [
    "import copy\n",
    "list_n = [[9, 10],[11, 12]]\n",
    "list_o = copy.deepcopy(list_n)\n",
    "print(list_n[0] is list_o)"
   ]
  },
  {
   "cell_type": "code",
   "execution_count": 47,
   "id": "e628bb08-bbe4-4e42-84f4-43d31ff7b445",
   "metadata": {},
   "outputs": [
    {
     "name": "stdout",
     "output_type": "stream",
     "text": [
      "[[9, 999], [11, 12]]\n",
      "[[9, 10], [11, 12]]\n"
     ]
    }
   ],
   "source": [
    "list_n[0][1] = 999\n",
    "print(list_n)\n",
    "print(list_o)"
   ]
  },
  {
   "cell_type": "code",
   "execution_count": 49,
   "id": "0f17e611-b728-4274-a4e7-26a1fdcae1f3",
   "metadata": {},
   "outputs": [
    {
     "name": "stdout",
     "output_type": "stream",
     "text": [
      "[0, 3, 6, 9]\n"
     ]
    }
   ],
   "source": [
    "list_p = [i for i in range(10) if i % 3 == 0] # 반복가능한 객체를 꺼내 조건문에 부합하는 것만 변수에 담아 표현식의 결과를 리스트의 요소에 담아\n",
    "                                              # list_p변수에 담았습니다\n",
    "print(list_p)"
   ]
  },
  {
   "cell_type": "code",
   "execution_count": 50,
   "id": "ad21b87c-dde2-4270-b251-8fa57addf9a1",
   "metadata": {},
   "outputs": [
    {
     "name": "stdout",
     "output_type": "stream",
     "text": [
      "1\n",
      "2\n",
      "3\n",
      "4\n",
      "5\n",
      "3\n",
      "4\n"
     ]
    }
   ],
   "source": [
    "easy_list = [[1,2,3,4,5],[3,4]]\n",
    "for item in easy_list:\n",
    "    for i in item:\n",
    "        print(i)"
   ]
  },
  {
   "cell_type": "code",
   "execution_count": 52,
   "id": "6c308b4c-fcaf-48e6-a585-a001bdf17142",
   "metadata": {},
   "outputs": [
    {
     "name": "stdout",
     "output_type": "stream",
     "text": [
      "1\n",
      "2\n",
      "3\n",
      "4\n",
      "5\n",
      "3\n",
      "4\n"
     ]
    }
   ],
   "source": [
    "easy_list = [[1,2,3,4,5],[3,4]]\n",
    "i = 0\n",
    "while i < len(easy_list):\n",
    "    j = 0\n",
    "    while j < len(easy_list[i]):\n",
    "        print(easy_list[i][j])\n",
    "        j += 1\n",
    "    i += 1"
   ]
  },
  {
   "cell_type": "markdown",
   "id": "2ba7b994-de2e-456e-ad21-8d9c73400b4b",
   "metadata": {},
   "source": [
    "### 제너레이터 컴프리헨션  \n",
    "generator_variable = (expression for 변수 in iterable) # 소괄호만 만들어서 튜플의 컴프리헨션은 만들지 못한다."
   ]
  },
  {
   "cell_type": "code",
   "execution_count": 57,
   "id": "a132b183-33f3-4187-baea-abe65694d43c",
   "metadata": {},
   "outputs": [
    {
     "ename": "NameError",
     "evalue": "name 'generator_variable' is not defined",
     "output_type": "error",
     "traceback": [
      "\u001b[1;31m---------------------------------------------------------------------------\u001b[0m",
      "\u001b[1;31mNameError\u001b[0m                                 Traceback (most recent call last)",
      "\u001b[1;32m~\\AppData\\Local\\Temp\\ipykernel_16872\\1984637220.py\u001b[0m in \u001b[0;36m<module>\u001b[1;34m\u001b[0m\n\u001b[1;32m----> 1\u001b[1;33m \u001b[0mhasattr\u001b[0m\u001b[1;33m(\u001b[0m\u001b[0mgenerator_variable\u001b[0m\u001b[1;33m,\u001b[0m \u001b[1;34m\"__iter__\"\u001b[0m\u001b[1;33m)\u001b[0m\u001b[1;33m\u001b[0m\u001b[1;33m\u001b[0m\u001b[0m\n\u001b[0m",
      "\u001b[1;31mNameError\u001b[0m: name 'generator_variable' is not defined"
     ]
    }
   ],
   "source": [
    "hasattr(generator_variable, \"__iter__\")"
   ]
  },
  {
   "cell_type": "markdown",
   "id": "564675bc-6275-4c75-986c-e9e5b274b94c",
   "metadata": {},
   "source": [
    "## 연습문제\n",
    "리스트 중에서 특정 요소만 뽑아내기  \n",
    "다음 소스코드를 완성하여 리스트 a에 들어있는 문자열 중에서 길이가 5인것들만 리슽트 형태로 출력되게 만드세요"
   ]
  },
  {
   "cell_type": "code",
   "execution_count": 65,
   "id": "38e4bc22-f48d-471a-a99f-cd8bb2dfadd4",
   "metadata": {},
   "outputs": [
    {
     "name": "stdout",
     "output_type": "stream",
     "text": [
      "['alpha', 'bravo', 'delta', 'hotel', 'india']\n"
     ]
    }
   ],
   "source": [
    "a = ['alpha', 'bravo', 'charlie', 'delta', 'echo', 'foxtrot', 'golf', 'hotel', 'india']\n",
    "b = [i for i in a if len(i) == 5]\n",
    "print(b)"
   ]
  },
  {
   "cell_type": "markdown",
   "id": "2b0e6c75-5531-483d-9814-e7177417d4c5",
   "metadata": {},
   "source": [
    "## 연습문제\n",
    "사용자가 공백응 구분자로 정수 두 개를 입력합니다. 첫 번째 입력 값의 범위는 1 ~ 20  \n",
    "두 번째 입력 값의 범위는 10 ~ 30이며 첫 번째 입력 값은 두 번째 입력 값보다 항상 작습니다.  \n",
    "  \n",
    "첫 번째 정수부터 두 번째 정수까지를 지수로 하는 2의 거듭제곱 리스트를 출력하는  \n",
    "프로그램을 만드세요. 단, 첫 번째 입력값은 두 번째 입력 값보다 작아야 합니다."
   ]
  },
  {
   "cell_type": "code",
   "execution_count": 1,
   "id": "3d92bd8b-a3cc-49eb-8c31-e6f598c72d23",
   "metadata": {},
   "outputs": [
    {
     "name": "stdin",
     "output_type": "stream",
     "text": [
      " 20 30\n"
     ]
    },
    {
     "name": "stdout",
     "output_type": "stream",
     "text": [
      "[1048576, 2097152, 4194304, 8388608, 16777216, 33554432, 67108864, 134217728, 268435456, 536870912, 1073741824] "
     ]
    }
   ],
   "source": [
    "num1, num2 = map(int,input().split(' '))\n",
    "#t = []*(num2-num1)\n",
    "nums = [2**i for i in range(num1,(num2)+1)]\n",
    "for i in range(num1,(num2)+1):\n",
    "    if num1 > num2:\n",
    "        print(\"첫 번째 값은 두 번째 값보다 작게 입력하세요\")\n",
    "        \n",
    "    if not(1 <= num1) and not(num1 <= 20):\n",
    "        print(\"첫 번째 값의 범위는 1 ~ 20 입니다\")\n",
    "        \n",
    "    if not(10 <= num2) and not(num2 <= 30):\n",
    "        print(\"두 번째 값의 범위는 10 ~ 30 입니다\")\n",
    "        \n",
    "    #i += 1\n",
    "    #print(2**i, end = ' ')\n",
    "print(nums, end = ' ')\n"
   ]
  },
  {
   "cell_type": "code",
   "execution_count": null,
   "id": "4ca782ca-42c1-4d47-a4ed-4bec299246f9",
   "metadata": {},
   "outputs": [],
   "source": [
    "\n",
    "\n",
    "\n",
    "while True:\n",
    "    num1, num2 = map(int,input().split(' '))\n",
    "    if num1 > num2:\n",
    "        print(\"첫 번째 값은 두 번째 값보다 작게 입력하세요\")\n",
    "        continue\n",
    "    if not(1 <= num1) and not(num1 <= 20):\n",
    "        print(\"첫 번째 값의 범위는 1 ~ 20 입니다\")\n",
    "        continue\n",
    "    if not(10 <= num2) and not(num2 <= 30):\n",
    "        print(\"두 번째 값의 범위는 10 ~ 30 입니다\")\n",
    "        continue\n",
    "    else:\n",
    "        break\n",
    "nums = [2**i for i in range(num1,num2+1)]\n",
    "nums.pop(1)\n",
    "nums.pop(-2)\n",
    "print(nums)\n",
    "\n",
    "#print([2**i for i in range(num1,num2+1) if not (i == (num1+1) or i == (num2-1))]) 다른 예\n",
    "    \n"
   ]
  },
  {
   "cell_type": "code",
   "execution_count": 1,
   "id": "ad436503-15ef-4e6e-b408-ba0b6f6f152c",
   "metadata": {},
   "outputs": [
    {
     "name": "stdout",
     "output_type": "stream",
     "text": [
      "- 1 + 4 - 9 + 16 - 25 + 36 - 49 + 64 - 81 + 100 \n",
      "- 121 + 144 - 169 + 196 - 225 + 256 - 289 + 324 - 361 + 400 \n",
      "- 441 + 484 - 529 + 576 - 625 + 676 - 729 + 784 - 841 + 900 \n",
      "- 961 + 1024 - 1089 + 1156 - 1225 + 1296 - 1369 + 1444 - 1521 + 1600 \n",
      "- 1681 + 1764 - 1849 + 1936 - 2025 + 2116 - 2209 + 2304 - 2401 + 2500 \n",
      "- 2601 + 2704 - 2809 + 2916 - 3025 + 3136 - 3249 + 3364 - 3481 + 3600 \n",
      "- 3721 + 3844 - 3969 + 4096 - 4225 + 4356 - 4489 + 4624 - 4761 + 4900 \n",
      "- 5041 + 5184 - 5329 + 5476 - 5625 + 5776 - 5929 + 6084 - 6241 + 6400 \n",
      "- 6561 + 6724 - 6889 + 7056 - 7225 + 7396 - 7569 + 7744 - 7921 + 8100 \n",
      "- 8281 + 8464 - 8649 + 8836 - 9025 + 9216 - 9409 + 9604 - 9801 + 10000 \n",
      "= 5050 입니다.\n"
     ]
    }
   ],
   "source": [
    "## 연습문제\n",
    "#홀수의 제곱은 감산하고 짝수의 제곱은 가산하는 프로그램을 while문으로 구현해보세요\n",
    "i = 1\n",
    "total = 0\n",
    "line = 0\n",
    "while i <= 100:\n",
    "    if i % 2 == 0:\n",
    "        total += i * i\n",
    "        print('+',i * i, end = ' ')\n",
    "    else:\n",
    "        total -= i * i\n",
    "        print('-',i * i, end = ' ')\n",
    "    i += 1\n",
    "    line += 1\n",
    "    if line == 10:\n",
    "        line = 0\n",
    "        print()\n",
    "print(\"=\", total, \"입니다.\")\n",
    "    "
   ]
  },
  {
   "cell_type": "code",
   "execution_count": null,
   "id": "a51e21ec-2608-415e-a252-34a17166b479",
   "metadata": {},
   "outputs": [],
   "source": []
  }
 ],
 "metadata": {
  "kernelspec": {
   "display_name": "Python 3 (ipykernel)",
   "language": "python",
   "name": "python3"
  },
  "language_info": {
   "codemirror_mode": {
    "name": "ipython",
    "version": 3
   },
   "file_extension": ".py",
   "mimetype": "text/x-python",
   "name": "python",
   "nbconvert_exporter": "python",
   "pygments_lexer": "ipython3",
   "version": "3.9.13"
  }
 },
 "nbformat": 4,
 "nbformat_minor": 5
}
