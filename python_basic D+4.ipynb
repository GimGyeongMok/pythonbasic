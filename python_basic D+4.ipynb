{
 "cells": [
  {
   "cell_type": "code",
   "execution_count": 71,
   "id": "55d3babd-7617-46aa-b493-5f0db888f72d",
   "metadata": {},
   "outputs": [
    {
     "name": "stdin",
     "output_type": "stream",
     "text": [
      "현재 시간을 입력하세요 -3:22\n"
     ]
    },
    {
     "name": "stdout",
     "output_type": "stream",
     "text": [
      "정각이 아닙니다\n"
     ]
    }
   ],
   "source": [
    "times = input(\"현재 시간을 입력하세요\").split(\":\")\n",
    "\n",
    "if times[1] != '0' and times[1] != '00':\n",
    "    print(\"정각이 아닙니다\")\n",
    "else:\n",
    "    print(\"정각입니다\")"
   ]
  },
  {
   "cell_type": "code",
   "execution_count": 24,
   "id": "0955c5df-4e8d-4751-a150-588fb99a9dd2",
   "metadata": {},
   "outputs": [
    {
     "name": "stdout",
     "output_type": "stream",
     "text": [
      "('P', 't')\n"
     ]
    }
   ],
   "source": [
    "language = 'Python'\n",
    "print((language[0], language[2]), sep=\"\")"
   ]
  },
  {
   "cell_type": "code",
   "execution_count": 62,
   "id": "ce83e47d-79a1-410b-986d-927b1ba23b8b",
   "metadata": {},
   "outputs": [
    {
     "name": "stdout",
     "output_type": "stream",
     "text": [
      "[1, 2, '짝', 4, 5, '짝', 7, 8, '짝', 10]\n"
     ]
    }
   ],
   "source": [
    "list_a = [1, 2, 3, 4, 5, 6, 7, 8, 9, 10] #[1, 2, '짝', 4, 5, '짝', 7, 8, '짝', 10]\n",
    "list_a[2::3] = ['짝'] * len(list_a[2::3]) # 슬라이싱으로 추가할땐 개수가 딱 맞아야 한다.\n",
    "\n",
    "print(list_a)"
   ]
  },
  {
   "cell_type": "code",
   "execution_count": 53,
   "id": "420e3f1f-2f2c-4d17-863c-f5b256ea6180",
   "metadata": {},
   "outputs": [
    {
     "name": "stdout",
     "output_type": "stream",
     "text": [
      "1부터 10까지 홀수의 합은 25 입니다\n"
     ]
    }
   ],
   "source": [
    "sum = 0\n",
    "for i in range(11):\n",
    "    if (i%2) != 0:\n",
    "        sum += i\n",
    "print(\"1부터 10까지 홀수의 합은\", sum,\"입니다\")"
   ]
  },
  {
   "cell_type": "code",
   "execution_count": 35,
   "id": "5963e55b-4e6e-42fd-a2c4-6e6fc849b060",
   "metadata": {},
   "outputs": [
    {
     "name": "stdout",
     "output_type": "stream",
     "text": [
      "(-10, -7, -4, -1, 2, 5, 8)\n"
     ]
    }
   ],
   "source": [
    "a = tuple(range(-10, 10, 3))\n",
    "print(a)"
   ]
  },
  {
   "cell_type": "code",
   "execution_count": 52,
   "id": "e5b9ecb1-0750-438a-8ccf-b399b4826d50",
   "metadata": {},
   "outputs": [
    {
     "name": "stdout",
     "output_type": "stream",
     "text": [
      "['10', '9', '8', '7']\n"
     ]
    }
   ],
   "source": [
    "a = '10 9 8 7'.split()\n",
    "print(a)"
   ]
  },
  {
   "cell_type": "code",
   "execution_count": 106,
   "id": "7a71c830-8d80-4083-b7d2-027f93dd252a",
   "metadata": {},
   "outputs": [
    {
     "name": "stdout",
     "output_type": "stream",
     "text": [
      "*****\n",
      "*****\n",
      "*****\n",
      "*****\n",
      "*****\n"
     ]
    }
   ],
   "source": [
    "for i in range(5):\n",
    "    for j in range(5):\n",
    "        print('*', end = '')\n",
    "    print() # 칸 바꿀거면 들여쓰기 해서 이거 잊지말자"
   ]
  },
  {
   "cell_type": "markdown",
   "id": "e16d74dc-d55f-4454-82da-79dd42dae049",
   "metadata": {},
   "source": [
    "while문\n",
    "while 반복문은 조건식으로만 동작한다.\n",
    "while문의 실행 순서\n",
    "1. 조건식을 판별한다\n",
    "2. 조건식이 True인 동안 내내 while문의 바디를 실행한다.\n",
    "3. 조건식이 False이면 while문을 빠져나간다"
   ]
  },
  {
   "cell_type": "code",
   "execution_count": 5,
   "id": "453ad5dd-99e7-4063-bb4a-59bc77e8d47e",
   "metadata": {},
   "outputs": [
    {
     "name": "stdout",
     "output_type": "stream",
     "text": [
      "hello\n",
      "hello\n",
      "hello\n",
      "hello\n",
      "hello\n"
     ]
    }
   ],
   "source": [
    "i = 0 # 초기식\n",
    "while i < 5: # 초기식\n",
    "    print('hello')\n",
    "    i += 1 # 변화식"
   ]
  },
  {
   "cell_type": "code",
   "execution_count": 1,
   "id": "6c60978f-c455-4a12-ad71-74e27db04edb",
   "metadata": {},
   "outputs": [
    {
     "name": "stdin",
     "output_type": "stream",
     "text": [
      "반복할 횟수를 입력하라 : 3\n"
     ]
    },
    {
     "name": "stdout",
     "output_type": "stream",
     "text": [
      "Hello 3\n",
      "Hello 2\n",
      "Hello 1\n"
     ]
    }
   ],
   "source": [
    "count = int(input(\"반복할 횟수를 입력하라 :\"))\n",
    "\n",
    "while count > 0:\n",
    "    print(\"Hello\", count)\n",
    "    count -= 1"
   ]
  },
  {
   "cell_type": "markdown",
   "id": "4f660c5c-ca6f-4852-82ea-056c88491804",
   "metadata": {},
   "source": [
    "## 연습문제\n",
    "while문을 사용하여 1이상 100 이하의 짝수를 '\\t' 를 구분자로 해서 출력하라"
   ]
  },
  {
   "cell_type": "code",
   "execution_count": 2,
   "id": "4bf766ba-397f-4273-878d-305d18af13c4",
   "metadata": {},
   "outputs": [
    {
     "name": "stdout",
     "output_type": "stream",
     "text": [
      "2\t4\t6\t8\t10\t12\t14\t16\t18\t20\t22\t24\t26\t28\t30\t32\t34\t36\t38\t40\t42\t44\t46\t48\t50\t52\t54\t56\t58\t60\t62\t64\t66\t68\t70\t72\t74\t76\t78\t80\t82\t84\t86\t88\t90\t92\t94\t96\t98\t100\t"
     ]
    }
   ],
   "source": [
    "numbers = 1\n",
    "while numbers <= 50:\n",
    "    print(numbers * 2, end = '\\t')\n",
    "    numbers += 1"
   ]
  },
  {
   "cell_type": "markdown",
   "id": "65210b5e-9338-4502-bcdb-e607d2c87168",
   "metadata": {},
   "source": [
    "## 연습문제\n",
    "사용자로부터 자연수를 입력받고 그 숫자의 구구단을 출력하라(while문으로)"
   ]
  },
  {
   "cell_type": "code",
   "execution_count": 2,
   "id": "cab1e8d0-498b-4ec2-929f-d1aebce5a1ff",
   "metadata": {},
   "outputs": [
    {
     "name": "stdin",
     "output_type": "stream",
     "text": [
      "자연수를 입력하라 : 4\n"
     ]
    },
    {
     "name": "stdout",
     "output_type": "stream",
     "text": [
      "4 * 1 : 4\n",
      "4 * 2 : 8\n",
      "4 * 3 : 12\n",
      "4 * 4 : 16\n",
      "4 * 5 : 20\n",
      "4 * 6 : 24\n",
      "4 * 7 : 28\n",
      "4 * 8 : 32\n",
      "4 * 9 : 36\n"
     ]
    }
   ],
   "source": [
    "count = int(input(\"자연수를 입력하라 :\"))\n",
    "n = 1\n",
    "while n <= 9:\n",
    "    print(count, '*', n,':', count * n)\n",
    "    n += 1"
   ]
  },
  {
   "cell_type": "markdown",
   "id": "947cd53b-bafe-44b7-b293-248fcd6e1c16",
   "metadata": {},
   "source": [
    "## 연습문제\n",
    "사용자로부터 학생의 숫자와 학생 성적을 입력 받습니다. 학생 성적 평균을 구하는 프로그램을 while문으로 구현하라"
   ]
  },
  {
   "cell_type": "code",
   "execution_count": 3,
   "id": "5d8771c4-a932-4d11-912c-6c5d986cf6d2",
   "metadata": {},
   "outputs": [
    {
     "name": "stdin",
     "output_type": "stream",
     "text": [
      "학생의 수 4\n",
      "1번 학생의 점수 123\n",
      "2번 학생의 점수 123\n",
      "3번 학생의 점수 123\n",
      "4번 학생의 점수 123\n"
     ]
    },
    {
     "name": "stdout",
     "output_type": "stream",
     "text": [
      "평균 : 123.0\n"
     ]
    }
   ],
   "source": [
    "students = int(input(\"학생의 수\"))\n",
    "n = 1\n",
    "sum = 0\n",
    "avg = 0\n",
    "while n <= students:\n",
    "    score = int(input(str(n)+\"번 학생의 점수\"))\n",
    "    sum += score\n",
    "    n += 1\n",
    "avg = sum/students\n",
    "print(\"평균 :\", avg)\n"
   ]
  },
  {
   "cell_type": "code",
   "execution_count": 6,
   "id": "cec8aeaf-97fd-454d-95cf-5e35c560de94",
   "metadata": {},
   "outputs": [
    {
     "name": "stdout",
     "output_type": "stream",
     "text": [
      "97\n",
      "100\n",
      "77\n"
     ]
    }
   ],
   "source": [
    "scores = (97, 100, 77) # while문과 len()함수를 같이 사용하면 시퀀스 객체의 요소들을 인덱스들로 이터레이트 할 수 있다\n",
    "i = 0\n",
    "while i < len(scores): # 0부터 len(scores) - 1 이니까 len(scores)랑 같음 부등호가 < 니까 맨끝 인덱스는 빼니까\n",
    "    print(scores[i])\n",
    "    i += 1"
   ]
  },
  {
   "cell_type": "markdown",
   "id": "4fd511a8-3da4-474d-9135-2ef7f04ec05f",
   "metadata": {},
   "source": [
    "## 연습문제\n",
    "A학급의 수학 점수가 다음과 같을 때 while문 조건식에 len()함수를 사용하여 이 학급의 평균 점수를 구하는 프로그램을 구현해보세요.  \n",
    "class_a = (70, 60, 55, 75, 95, 90, 80, 80, 85, 100)"
   ]
  },
  {
   "cell_type": "code",
   "execution_count": 14,
   "id": "abbda9b4-a702-4308-8152-1ca165c44133",
   "metadata": {},
   "outputs": [
    {
     "name": "stdout",
     "output_type": "stream",
     "text": [
      "79.0\n"
     ]
    }
   ],
   "source": [
    "class_a = (70, 60, 55, 75, 95, 90, 80, 80, 85, 100)\n",
    "i = 0\n",
    "sum = 0\n",
    "while i < len(class_a):\n",
    "    sum += class_a[i]\n",
    "    i += 1\n",
    "print(sum/len(class_a))"
   ]
  },
  {
   "cell_type": "markdown",
   "id": "0dc4aca4-299d-4ae7-8ce5-47490cdc67bf",
   "metadata": {},
   "source": [
    "## break문\n",
    "break문 for, while 문에서 break는 해당 반복문은 완전히 빠져나갑니다. 보통은 반복문 안에서 특정 조선에 부합할 때  \n",
    "해당 반복문을 빠져나가기 위해 씁니다 그래서 break는 if문과 함께 쓰이는게 보통이다."
   ]
  },
  {
   "cell_type": "code",
   "execution_count": 1,
   "id": "e8375269-a7b5-4d6a-ac48-82950a880ad0",
   "metadata": {},
   "outputs": [
    {
     "name": "stdout",
     "output_type": "stream",
     "text": [
      "hello\n",
      "hello\n",
      "hello\n",
      "hello\n",
      "hello\n",
      "hello\n",
      "hello\n",
      "hello\n",
      "hello\n",
      "hello\n"
     ]
    }
   ],
   "source": [
    "i = 0\n",
    "while True:\n",
    "    print('hello')\n",
    "    i += 1\n",
    "    if i == 10:\n",
    "        break"
   ]
  },
  {
   "cell_type": "markdown",
   "id": "58bdfdb9-d8f0-4992-8b3f-e8801bcee2c4",
   "metadata": {},
   "source": [
    "## 연습문제\n",
    "0부터 100까지 자연수의 총합을 구하는 프로그램을 구현해 보세요"
   ]
  },
  {
   "cell_type": "code",
   "execution_count": 1,
   "id": "a17248a2-272f-4233-868e-2ed10c9f7b73",
   "metadata": {},
   "outputs": [
    {
     "name": "stdout",
     "output_type": "stream",
     "text": [
      "5050\n"
     ]
    }
   ],
   "source": [
    "i = 0\n",
    "total = 0\n",
    "while True:\n",
    "    total += i\n",
    "    i += 1\n",
    "    if i > 100:\n",
    "        break\n",
    "print(total)"
   ]
  },
  {
   "cell_type": "code",
   "execution_count": 5,
   "id": "11fd69f1-f351-44c0-919a-1fbddaa61e30",
   "metadata": {},
   "outputs": [
    {
     "name": "stdin",
     "output_type": "stream",
     "text": [
      "q를 입력하면 종료됩니다. as\n",
      "q를 입력하면 종료됩니다. q\n"
     ]
    },
    {
     "name": "stdout",
     "output_type": "stream",
     "text": [
      "프로그램을 종료합니다\n"
     ]
    }
   ],
   "source": [
    "while True:\n",
    "    input_value = input(\"q를 입력하면 종료됩니다.\") # 무한루프의 활용, 원하는 값을 받을 때까지 입력을 받는다\n",
    "    if input_value == 'q':break\n",
    "print(\"프로그램을 종료합니다\")"
   ]
  },
  {
   "cell_type": "markdown",
   "id": "4d101809-eb47-4090-8091-b77fbedff041",
   "metadata": {},
   "source": [
    "## 연습문제\n",
    "아래 소스 코드를 완성하여 0부터 100사이의 숫자 중 3으로 끝나는 숫자만 출력되게 만드세요"
   ]
  },
  {
   "cell_type": "code",
   "execution_count": 3,
   "id": "7f64c92b-6b97-4b2d-9c76-c8310f7f1eef",
   "metadata": {},
   "outputs": [
    {
     "name": "stdout",
     "output_type": "stream",
     "text": [
      "3 13 23 33 43 53 63 73 83 93 "
     ]
    }
   ],
   "source": [
    "i = 0\n",
    "while True:\n",
    "    if i % 10 != 3:\n",
    "        i += 1\n",
    "        continue\n",
    "    \n",
    "    if i > 100:\n",
    "        break\n",
    "        \n",
    "    print(i, end=' ')\n",
    "    i += 1\n",
    "   "
   ]
  },
  {
   "cell_type": "markdown",
   "id": "d0c22be8-6785-4b78-b796-4b7366a2e63d",
   "metadata": {},
   "source": [
    "continue문\n",
    "반복문 안에서 특정 조건에 부합할 때 해당 반복 회차만 빠져나가기 위해 쓴다 continue문은 if문과 함깨 쓰이는게 보통이다"
   ]
  },
  {
   "cell_type": "markdown",
   "id": "83554856-0365-407e-8295-54e35af0f479",
   "metadata": {},
   "source": [
    "## 연습문제\n",
    "1부터 10까지의 순서대로 줄을 바꾸지 않고 출력 값마다 뒤에 공백을 표시한다"
   ]
  },
  {
   "cell_type": "code",
   "execution_count": 2,
   "id": "a43a1d00-d207-48e6-b37b-119f45481777",
   "metadata": {},
   "outputs": [
    {
     "name": "stdout",
     "output_type": "stream",
     "text": [
      "1 2 3 4 5 6 7 8 9 10 "
     ]
    }
   ],
   "source": [
    "for i in range(1,11):\n",
    "    print(i, end=' ')"
   ]
  },
  {
   "cell_type": "code",
   "execution_count": 1,
   "id": "f857a98b-108d-4c31-b6e4-7725870945e0",
   "metadata": {},
   "outputs": [
    {
     "name": "stdout",
     "output_type": "stream",
     "text": [
      "1 2 3 4 5 6 7 8 9 10 "
     ]
    }
   ],
   "source": [
    "i = 1\n",
    "while i < 11:\n",
    "    \n",
    "    print(i, end=' ')\n",
    "    i += 1"
   ]
  },
  {
   "cell_type": "markdown",
   "id": "9221846f-49ad-48df-aa6c-173ec50f74cf",
   "metadata": {},
   "source": [
    "## 연습문제\n",
    "두 자연수 n부터 m을 입력받고, n부터m까지의 합을 구하는 프로그램을 작성하세요"
   ]
  },
  {
   "cell_type": "code",
   "execution_count": 2,
   "id": "963d7cd4-2270-4de7-85c4-46cf559dda5c",
   "metadata": {},
   "outputs": [
    {
     "name": "stdin",
     "output_type": "stream",
     "text": [
      "시작하는 정수 1\n",
      "끝나는 정수 100\n"
     ]
    },
    {
     "name": "stdout",
     "output_type": "stream",
     "text": [
      "1부터 100까지의 합은 5050입니다.\n"
     ]
    }
   ],
   "source": [
    "n = int(input(\"시작하는 정수\"))\n",
    "m = int(input(\"끝나는 정수\"))\n",
    "i = n\n",
    "total = 0\n",
    "\n",
    "while i <= m:\n",
    "    total += i\n",
    "    i += 1\n",
    "    \n",
    "print(f'{n}부터 {m}까지의 합은 {total}입니다.')"
   ]
  },
  {
   "cell_type": "code",
   "execution_count": 20,
   "id": "2eb47764-3be6-402c-82a6-b4fe94cdfbe4",
   "metadata": {},
   "outputs": [
    {
     "name": "stdin",
     "output_type": "stream",
     "text": [
      "시작하는 정수 1\n",
      "끝나는 정수 10\n"
     ]
    },
    {
     "name": "stdout",
     "output_type": "stream",
     "text": [
      "1부터 10까지의 합은 55입니다.\n"
     ]
    }
   ],
   "source": [
    "n = int(input(\"시작하는 정수\"))\n",
    "m = int(input(\"끝나는 정수\"))\n",
    "total = 0\n",
    "for i in range(n, m+1):\n",
    "    total += i\n",
    "    i += 1\n",
    "print(f'{n}부터 {m}까지의 합은 {total}입니다.')"
   ]
  },
  {
   "cell_type": "markdown",
   "id": "0a73401c-4433-4bff-80bc-2b10f7aeca1f",
   "metadata": {},
   "source": [
    "## 연습문제\n",
    "두 자연수 n부터 m을 입력받고, n부터 m까지의 수 중 짝수들의 제곱의 합을 구하세요"
   ]
  },
  {
   "cell_type": "code",
   "execution_count": 5,
   "id": "63da51b4-db9c-427f-b8ce-48c4c1f06246",
   "metadata": {},
   "outputs": [
    {
     "name": "stdin",
     "output_type": "stream",
     "text": [
      "시작하는 정수 4\n",
      "끝나는 정수 7\n"
     ]
    },
    {
     "name": "stdout",
     "output_type": "stream",
     "text": [
      "52\n"
     ]
    }
   ],
   "source": [
    "n = int(input(\"시작하는 정수\"))\n",
    "m = int(input(\"끝나는 정수\"))\n",
    "i = n\n",
    "total = 0\n",
    "while i <= m:\n",
    "    if i % 2 == 0:\n",
    "        total += (i*i)\n",
    "    i += 1\n",
    "print(total)\n"
   ]
  },
  {
   "cell_type": "code",
   "execution_count": 1,
   "id": "ec7d564a-dd9d-4284-84d8-a7bfbfd2b419",
   "metadata": {},
   "outputs": [
    {
     "name": "stdin",
     "output_type": "stream",
     "text": [
      "시작하는 정수 4\n",
      "끝나는 정수 7\n"
     ]
    },
    {
     "name": "stdout",
     "output_type": "stream",
     "text": [
      "52\n"
     ]
    }
   ],
   "source": [
    "n = int(input(\"시작하는 정수\"))\n",
    "m = int(input(\"끝나는 정수\"))\n",
    "\n",
    "total = 0\n",
    "for i in range(n,m+1):\n",
    "    if i % 2 == 0:\n",
    "        total += (i*i)\n",
    "        \n",
    "print(total)"
   ]
  },
  {
   "cell_type": "markdown",
   "id": "b36e7cb0-b7a3-4c6b-a08f-5a2a5169cfa0",
   "metadata": {},
   "source": [
    "## 연습문제\n",
    "어떤 학습의 국어 점수가 다음과 같을 때 반복문을 이용하여 A학급의 평균 점수 구하기.  \n",
    "Kor = [70, 60, 55, 75, 95, 90, 80, 80, 85, 100]"
   ]
  },
  {
   "cell_type": "code",
   "execution_count": 7,
   "id": "d130eafe-7f3e-4b80-9e83-226e81773581",
   "metadata": {},
   "outputs": [
    {
     "name": "stdout",
     "output_type": "stream",
     "text": [
      "79.0\n"
     ]
    }
   ],
   "source": [
    "class_a = [70, 60, 55, 75, 95, 90, 80, 80, 85, 100]\n",
    "i = 0\n",
    "sum = 0\n",
    "while i < len(class_a):\n",
    "    sum += class_a[i]\n",
    "    i += 1\n",
    "print(sum/len(class_a))"
   ]
  },
  {
   "cell_type": "code",
   "execution_count": null,
   "id": "dc5066f9-f80f-44d2-b7ae-55cb50016ea6",
   "metadata": {},
   "outputs": [],
   "source": [
    "class_a = [70, 60, 55, 75, 95, 90, 80, 80, 85, 100]\n",
    "sum = 0\n",
    "for i in range(len(class_a)):\n",
    "    sum += class_a[i]\n",
    "    i += 1\n",
    "print(sum/len(class_a))"
   ]
  },
  {
   "cell_type": "markdown",
   "id": "35ff550d-f586-4504-91f8-3fe8b6d95a86",
   "metadata": {},
   "source": [
    "## 연습문제\n",
    "10미만의 자연수에서 3과 5의 배수를 구하면 3, 5, 6, 9이다  \n",
    "이들의 총합은 23이다  \n",
    "1000미만의 자연수에서 3의 배수와 5의 배수의 총합을 구해라"
   ]
  },
  {
   "cell_type": "code",
   "execution_count": 5,
   "id": "ebeb6052-3a2d-4f25-95d5-584f8889c2f9",
   "metadata": {},
   "outputs": [
    {
     "name": "stdout",
     "output_type": "stream",
     "text": [
      "233168\n"
     ]
    }
   ],
   "source": [
    "i = 1\n",
    "total = 0\n",
    "while i < 1000:\n",
    "    if i % 3 == 0 or i % 5 == 0:\n",
    "        total += i\n",
    "    i += 1\n",
    "print(total)"
   ]
  },
  {
   "cell_type": "code",
   "execution_count": 7,
   "id": "662f3fe9-d11c-4198-a4b7-26ed718aab1a",
   "metadata": {},
   "outputs": [
    {
     "name": "stdout",
     "output_type": "stream",
     "text": [
      "233168\n"
     ]
    }
   ],
   "source": [
    "total = 0\n",
    "for i in range(1,1000):\n",
    "    if i % 3 == 0 or i % 5 == 0:\n",
    "        total += i\n",
    "    i += 1\n",
    "print(total)"
   ]
  },
  {
   "cell_type": "code",
   "execution_count": null,
   "id": "6ab5961c-bdab-46dd-9f3c-a6ce42dc2ca8",
   "metadata": {},
   "outputs": [],
   "source": []
  }
 ],
 "metadata": {
  "kernelspec": {
   "display_name": "Python 3 (ipykernel)",
   "language": "python",
   "name": "python3"
  },
  "language_info": {
   "codemirror_mode": {
    "name": "ipython",
    "version": 3
   },
   "file_extension": ".py",
   "mimetype": "text/x-python",
   "name": "python",
   "nbconvert_exporter": "python",
   "pygments_lexer": "ipython3",
   "version": "3.9.13"
  }
 },
 "nbformat": 4,
 "nbformat_minor": 5
}
