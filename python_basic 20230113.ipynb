{
 "cells": [
  {
   "cell_type": "markdown",
   "id": "cb334568-c7ad-4d58-86cc-97cf865a984e",
   "metadata": {},
   "source": [
    "# 20230113"
   ]
  },
  {
   "cell_type": "code",
   "execution_count": 1,
   "id": "9ca3e42a-6301-4f8a-8ee6-7fde394f4d8e",
   "metadata": {},
   "outputs": [
    {
     "name": "stdout",
     "output_type": "stream",
     "text": [
      "[0, 1, 2, 3, 4, 5, 6, 7, 8, 9]\n"
     ]
    },
    {
     "ename": "TypeError",
     "evalue": "sequence item 0: expected str instance, int found",
     "output_type": "error",
     "traceback": [
      "\u001b[1;31m---------------------------------------------------------------------------\u001b[0m",
      "\u001b[1;31mTypeError\u001b[0m                                 Traceback (most recent call last)",
      "\u001b[1;32m~\\AppData\\Local\\Temp\\ipykernel_3100\\2402303854.py\u001b[0m in \u001b[0;36m<module>\u001b[1;34m\u001b[0m\n\u001b[0;32m      1\u001b[0m \u001b[0mlist_strs\u001b[0m \u001b[1;33m=\u001b[0m \u001b[1;33m[\u001b[0m\u001b[0m_\u001b[0m \u001b[1;32mfor\u001b[0m \u001b[0m_\u001b[0m \u001b[1;32min\u001b[0m \u001b[0mrange\u001b[0m\u001b[1;33m(\u001b[0m\u001b[1;36m10\u001b[0m\u001b[1;33m)\u001b[0m\u001b[1;33m]\u001b[0m \u001b[1;31m#문자열 메서드 join() 문자열과 뭄ㄴ자열 사이에 채울 문자 값.join(문자로 만들리스트)\u001b[0m\u001b[1;33m\u001b[0m\u001b[1;33m\u001b[0m\u001b[0m\n\u001b[0;32m      2\u001b[0m \u001b[0mprint\u001b[0m\u001b[1;33m(\u001b[0m\u001b[0mlist_strs\u001b[0m\u001b[1;33m)\u001b[0m\u001b[1;33m\u001b[0m\u001b[1;33m\u001b[0m\u001b[0m\n\u001b[1;32m----> 3\u001b[1;33m \u001b[0mwhole_str\u001b[0m \u001b[1;33m=\u001b[0m \u001b[1;34m','\u001b[0m\u001b[1;33m.\u001b[0m\u001b[0mjoin\u001b[0m\u001b[1;33m(\u001b[0m\u001b[0mlist_strs\u001b[0m\u001b[1;33m)\u001b[0m\u001b[1;33m\u001b[0m\u001b[1;33m\u001b[0m\u001b[0m\n\u001b[0m\u001b[0;32m      4\u001b[0m \u001b[0mprint\u001b[0m\u001b[1;33m(\u001b[0m\u001b[1;34mf\"\\nwhole+str = {whole_str}\"\u001b[0m\u001b[1;33m)\u001b[0m\u001b[1;33m\u001b[0m\u001b[1;33m\u001b[0m\u001b[0m\n",
      "\u001b[1;31mTypeError\u001b[0m: sequence item 0: expected str instance, int found"
     ]
    }
   ],
   "source": [
    "list_strs = [_ for _ in range(10)] #문자열 메서드 join() 문자열과 뭄ㄴ자열 사이에 채울 문자 값.join(문자로 만들리스트)\n",
    "print(list_strs)\n",
    "whole_str = ','.join(list_strs)\n",
    "print(f\"\\nwhole+str = {whole_str}\")"
   ]
  },
  {
   "cell_type": "markdown",
   "id": "12360a52-6b06-440c-a9b3-f4592382e045",
   "metadata": {},
   "source": [
    "## 연습문제\n",
    "1부터 100까지 업다운 게임을 완성해보세요.  \n",
    "1. 게임을 시작할 떼 랜덤하게 숫자를 만듭니다(PSL의 random.ranint())활용  \n",
    "2. 사용자로부터 값을 입력받는다  \n",
    " 입력받은 값이 랜덤숫자보다 크면 그보다 작습니다 출력  \n",
    " 입력받은 값이 랜덤숫자보다 작으면 그보다 큽니다 출력  \n",
    " 범위를 벗어난 값을 입력하면 1~100사이의 숫자를 입려갛세요 출력  \n",
    " 입력받은 값과 랜덤 숫자가 같다면 맞췄습니다 출력    \n",
    "3. 몇번만에 맞췄는지 출력  \n",
    "4. 그동안 입력했던 숫자 출력  \n",
    " 입력한 숫자는 다음과 같습니다 -1, 101, 50, 10, 5, 3(str.join(list)활용)"
   ]
  },
  {
   "cell_type": "code",
   "execution_count": null,
   "id": "1b3fd14b-483f-4117-b002-b7c39855ca5b",
   "metadata": {},
   "outputs": [],
   "source": [
    "import random\n",
    "i = 0\n",
    "random_num = random.randint(1, 100)\n",
    "numbers = []\n",
    "while True:\n",
    "    number = int(input(\"값을 입력해 주세요\"))\n",
    "    i += 1\n",
    "    if number > 100 or number < 1:\n",
    "            print(\"1~100사이의 숫자를 입력하세요\")\n",
    "            numbers.append(number)\n",
    "    elif number > random_num:\n",
    "        print(\"그보다 작습니다\")\n",
    "        numbers.append(number)\n",
    "    elif number < random_num:\n",
    "        print(\"그보다 큽니다\")\n",
    "        numbers.append(number)\n",
    "    \n",
    "    elif number == random_num:\n",
    "        print(\"맞췄습니다\")\n",
    "        break\n",
    "whole_str = ','.join(str(j) for j in numbers)\n",
    "print(i,\"번 만에 맞추었습니다\", sep = \"\")\n",
    "print(str(whole_str))\n",
    "    \n",
    "    "
   ]
  },
  {
   "cell_type": "markdown",
   "id": "dfa1289f-5f49-4107-8958-9d1d5c472c1c",
   "metadata": {},
   "source": [
    "## 연습문제\n",
    "화씨를 섭씨 온도로 변경하는 함수를 만들어 보세요  \n",
    "- C = (F=32) x 5/9\n",
    "- 함수명(to_celsius)\n",
    "- 인자: tahrenheit\n",
    "- 반환: 섭씨온도"
   ]
  },
  {
   "cell_type": "code",
   "execution_count": 31,
   "id": "98e039b8-cd2f-4e79-9c59-5bf39af8b303",
   "metadata": {},
   "outputs": [],
   "source": [
    "def to_celsius(tahrenheit):\n",
    "    C = (tahrenheit - 32) * 5/9\n",
    "    return C"
   ]
  },
  {
   "cell_type": "code",
   "execution_count": 33,
   "id": "1159bd99-e722-41dd-baba-a4298ef7f480",
   "metadata": {},
   "outputs": [
    {
     "name": "stdout",
     "output_type": "stream",
     "text": [
      "21.11111111111111\n"
     ]
    }
   ],
   "source": [
    "print(to_celsius(70))"
   ]
  },
  {
   "cell_type": "markdown",
   "id": "336feac9-589f-4187-ba3a-0b967b77450d",
   "metadata": {},
   "source": [
    "## 연습문제\n",
    "자연수를 인수로 전달하면 짝수일 때 \"짝수\"라는 문자열을, 홀수일 때 \"홀수\"라는  \n",
    "문자열을 반환하는 함수를 만들어보세요  \n",
    "-자연수에 대해서만 짝수, 홀수 반환한다  \n",
    "-자연수가 아닌 값이 들어왔을 때 반환값 없이 함수를 즉시 종료한다"
   ]
  },
  {
   "cell_type": "code",
   "execution_count": 72,
   "id": "fb716704-2bed-4426-99d4-dbced3f15793",
   "metadata": {},
   "outputs": [],
   "source": [
    "def odd_even(n):\n",
    "    \"\"\"number가 짝수면 \"짝수\", 홀수면 \"홀수\"를 반환한다 \"\"\"\n",
    "    \n",
    "  \n",
    "    if int != type(n) or 0 > n: # n의 타입이 정수형이 아니거나 0보다 작으면,\n",
    "        return None # None을 안쓰고 아무것도 없어도 None이 찍힌다\n",
    "    elif n % 2 == 0:\n",
    "        return '짝수'# a = '짝수' 처럼 변수로 안해도 바로 문자열로 리턴될 수 있다\n",
    "    elif n % 2 != 0:\n",
    "        return '홀수'"
   ]
  },
  {
   "cell_type": "code",
   "execution_count": 73,
   "id": "84531442-5f20-47fc-9376-16001a04600e",
   "metadata": {},
   "outputs": [
    {
     "name": "stdout",
     "output_type": "stream",
     "text": [
      "number가 짝수면 \"짝수\", 홀수면 \"홀수\"를 반환한다 \n"
     ]
    }
   ],
   "source": [
    "print(odd_even.__doc__)"
   ]
  },
  {
   "cell_type": "markdown",
   "id": "92d471ea-d5da-4fb5-b278-75a598d0d224",
   "metadata": {},
   "source": [
    "## 연습문제\n",
    "인수로 연도 값을 입력 받습니다. 윤년을 나타나는 연도가 입력되면 윤년이라는 문자열을  \n",
    "반환하고, 그렇지 않은 수가 입력되면 평년이라는 문자열을 반환하는 함수를  \n",
    "만들어보세요  \n",
    "-윤년은 기본적으로 4로 나누어진다  \n",
    "-100으로 나눠지면서 400으로 나눠지지 않는 연도는 평년이다  "
   ]
  },
  {
   "cell_type": "code",
   "execution_count": 80,
   "id": "25cc64be-dd1c-4a21-8613-a3c4c7f5ee29",
   "metadata": {},
   "outputs": [],
   "source": [
    "def check_leap_year(year):\n",
    "    if (year % 4) != 0 or ((year % 100) == 0 and (year % 400) != 0):\n",
    "        return '평년'\n",
    "    else:\n",
    "        return '윤년'"
   ]
  },
  {
   "cell_type": "code",
   "execution_count": 178,
   "id": "7f3d3ac7-58ae-4439-9b6c-452b434cc979",
   "metadata": {},
   "outputs": [
    {
     "name": "stdout",
     "output_type": "stream",
     "text": [
      "윤년\n"
     ]
    }
   ],
   "source": [
    "print(check_leap_year(2000))"
   ]
  },
  {
   "cell_type": "markdown",
   "id": "52120348-003e-4539-a8a6-e84292deb2db",
   "metadata": {},
   "source": [
    "## 연습문제\n",
    "연도가 평년일 때 1월, 3월, 5월, 7월, 8월, 10월, 12월은 31일  \n",
    "4월, 6월, 9월, 11월은 30일, 2월은 28일이다, 월을 나타내는 숫자를 인수로 전달하면 그달의 날짜 개수를  \n",
    "반환하는 함수 days를 만들어보세요"
   ]
  },
  {
   "cell_type": "code",
   "execution_count": 139,
   "id": "6ec64959-c557-4ef4-b574-8b8c6ba02499",
   "metadata": {},
   "outputs": [],
   "source": [
    "def days(month):\n",
    "    if month in (1,3,5,7,8,10,12):\n",
    "        return 31\n",
    "    elif month in (4,6,9,11):\n",
    "        return 30\n",
    "    else: \n",
    "        return 28\n",
    "    \n",
    "    "
   ]
  },
  {
   "cell_type": "code",
   "execution_count": 141,
   "id": "0f9c4ef8-7f18-4e03-8a53-57f1563e9443",
   "metadata": {},
   "outputs": [
    {
     "data": {
      "text/plain": [
       "28"
      ]
     },
     "execution_count": 141,
     "metadata": {},
     "output_type": "execute_result"
    }
   ],
   "source": [
    "days(2)"
   ]
  },
  {
   "cell_type": "code",
   "execution_count": 199,
   "id": "2bcadf3e-6f33-490c-bc0c-e8936626e8d8",
   "metadata": {},
   "outputs": [],
   "source": [
    "def days(year, month):\n",
    "    if check_leap_year(year) == '평년' and month in (1,3,5,7,8,10,12):\n",
    "        return 31 or 30 * (month in (4,6,9,11)) or (28 * month in (2))\n",
    "    elif check_leap_year(year) == '윤년' and month in (1,3,5,7,8,10,12):\n",
    "        return 31 or 30 * (month in (4,6,9,11)) or (29 * month in (2))"
   ]
  },
  {
   "cell_type": "code",
   "execution_count": 200,
   "id": "0e0d0364-5072-45eb-b1f3-a76e5b5f2895",
   "metadata": {},
   "outputs": [],
   "source": [
    "days(2004, 2)"
   ]
  },
  {
   "cell_type": "code",
   "execution_count": 197,
   "id": "353a725c-0642-4909-9b05-f19267cc0a8e",
   "metadata": {},
   "outputs": [],
   "source": [
    "def days(year, month):\n",
    "    if (year % 4) != 0 or ((year % 100) == 0 and (year % 400) != 0):\n",
    "        if month in (1,3,5,7,8,10,12):\n",
    "            return 31 \n",
    "        elif month in (4,6,9,11):\n",
    "            return 30\n",
    "        else: \n",
    "            return 28\n",
    "    else:\n",
    "        if month in (1,3,5,7,8,10,12):\n",
    "            return 31\n",
    "        elif month in (4,6,9,11):\n",
    "            return 30\n",
    "        else: \n",
    "            return 29"
   ]
  },
  {
   "cell_type": "code",
   "execution_count": 198,
   "id": "4f00fa6a-6343-4526-a9a3-51e421f564c0",
   "metadata": {},
   "outputs": [
    {
     "data": {
      "text/plain": [
       "30"
      ]
     },
     "execution_count": 198,
     "metadata": {},
     "output_type": "execute_result"
    }
   ],
   "source": [
    "days(1900,11)"
   ]
  },
  {
   "cell_type": "markdown",
   "id": "30d42f86-beb8-4d60-b5d4-09137e2e077a",
   "metadata": {},
   "source": [
    "## 연습문제\n",
    " # 소스코드\n",
    "x = 10  \n",
    "y = 3  \n",
    "\n",
    "quitient, remainder = get_quotient_remainder(x, y)  \n",
    "\n",
    "print(f'몫: {quitiend}, 나머지: {remainder}')  "
   ]
  },
  {
   "cell_type": "code",
   "execution_count": 4,
   "id": "2e24bd05-6aed-4ee4-8a64-bca7b4336d87",
   "metadata": {},
   "outputs": [],
   "source": [
    "def get_quotient_remainder(a, b):\n",
    "        return a // b, a % b\n",
    "    \n",
    "    "
   ]
  },
  {
   "cell_type": "code",
   "execution_count": 5,
   "id": "cd0da37c-0134-465c-912a-6b60cc798acb",
   "metadata": {},
   "outputs": [
    {
     "name": "stdout",
     "output_type": "stream",
     "text": [
      "몫: 3, 나머지: 1\n"
     ]
    }
   ],
   "source": [
    "x = 10  \n",
    "y = 3  \n",
    "\n",
    "quitient, remainder = get_quotient_remainder(x, y)  \n",
    "\n",
    "print(f'몫: {quitient}, 나머지: {remainder}')  "
   ]
  },
  {
   "cell_type": "markdown",
   "id": "37fa93fc-eedc-4ef3-ab5a-276a23988033",
   "metadata": {},
   "source": [
    "### 변수의 범위 -  전역 변수\n",
    "제일 바깥 영역에서 변수를 선언하고 활용하면 전역 범위에서 선언했기 때문에 그 변수를 스크립트 전체에서 접근할 수 있다  \n",
    "그 변수를 전역 변수라고 부른다\n",
    "### 변수의 범위 -  지역 변수\n",
    "함수 바디에서 선언된 변수는 바깥에서 접근이 불가능 하다 지역 변수는 변수를 만든 함수 안에서만 접근이 가능하다  \n"
   ]
  },
  {
   "cell_type": "code",
   "execution_count": 10,
   "id": "ab352e9b-5230-4347-8a4e-eb271e97e522",
   "metadata": {},
   "outputs": [
    {
     "name": "stdout",
     "output_type": "stream",
     "text": [
      "중꺾마\n"
     ]
    }
   ],
   "source": [
    "important_is_an_unbroken_heart = \"중꺾마\"\n",
    "\n",
    "def trials_and_tribulations():\n",
    "    important_is_an_unbroken_heart = \"흔들흔들\"\n",
    "\n",
    "trials_and_tribulations()\n",
    "print(important_is_an_unbroken_heart)"
   ]
  },
  {
   "cell_type": "code",
   "execution_count": 11,
   "id": "e33cc9f8-b811-4d6f-b26b-abb400da0118",
   "metadata": {},
   "outputs": [
    {
     "name": "stdout",
     "output_type": "stream",
     "text": [
      "키워드 활용해서 변경 완료\n"
     ]
    }
   ],
   "source": [
    "global_variable = \"변경이 됩니까?\"\n",
    "\n",
    "def heartbreaker():\n",
    "    global global_variable # 지역 범위에서 전역 변수를 변경하려면 global키워드를 사용해야 한다.\n",
    "    global_variable = \"키워드 활용해서 변경 완료\"\n",
    "heartbreaker()\n",
    "print(global_variable)"
   ]
  },
  {
   "cell_type": "code",
   "execution_count": 13,
   "id": "525f29ac-2173-40eb-b129-5ae16dd6a5cf",
   "metadata": {},
   "outputs": [],
   "source": [
    "# 함수 바디에 함수를 중첩해서 만들기\n",
    "def level1():\n",
    "    message = \"Level 1\"\n",
    "    def level2():\n",
    "        print(message)\n",
    "    level2()"
   ]
  },
  {
   "cell_type": "code",
   "execution_count": 14,
   "id": "efb8319c-503c-49ef-a717-1a44eb5cedd5",
   "metadata": {},
   "outputs": [
    {
     "name": "stdout",
     "output_type": "stream",
     "text": [
      "Level 1\n"
     ]
    }
   ],
   "source": [
    "level1()"
   ]
  },
  {
   "cell_type": "code",
   "execution_count": 1,
   "id": "d00c3984-b0d2-4667-80ea-63ee7cd9deee",
   "metadata": {},
   "outputs": [],
   "source": [
    "# 안쪽 함수에서 바깥쪽 함수의 변수 변경해보가\n",
    "def level3():\n",
    "    message = '중꺾마'\n",
    "    def level4():\n",
    "        message = '중요한 것은 꺾이지 않는 마음' # 값을 변경하는데 실패했다\n",
    "    level4()\n",
    "    print(message)"
   ]
  },
  {
   "cell_type": "code",
   "execution_count": 2,
   "id": "29c7cb12-130c-4c0c-b2c7-dd69a69f7a15",
   "metadata": {},
   "outputs": [
    {
     "name": "stdout",
     "output_type": "stream",
     "text": [
      "중꺾마\n"
     ]
    }
   ],
   "source": [
    "level3()"
   ]
  },
  {
   "cell_type": "code",
   "execution_count": 3,
   "id": "f8c13146-2c3a-488a-bb75-9ca7a7a24e9d",
   "metadata": {},
   "outputs": [],
   "source": [
    "# 안쪽 함수에서 바깥쪽 함수의 변수 변경해보가\n",
    "def level3():\n",
    "    message = '중꺾마'\n",
    "    def level4():\n",
    "        nonlocal message #nonlocal키워드를 통해 바깥 영역의 변수를 사용하겠다고 설정\n",
    "        message = '중요한 것은 꺾이지 않는 마음' # 값을 변경하는데 성공했다\n",
    "    level4()\n",
    "    print(message)"
   ]
  },
  {
   "cell_type": "code",
   "execution_count": 4,
   "id": "b4b43283-1b03-42e6-a072-23bd40ca9692",
   "metadata": {},
   "outputs": [
    {
     "name": "stdout",
     "output_type": "stream",
     "text": [
      "중요한 것은 꺾이지 않는 마음\n"
     ]
    }
   ],
   "source": [
    "level3()"
   ]
  },
  {
   "cell_type": "markdown",
   "id": "feab0809-e69b-4e32-afba-ecfb98b25590",
   "metadata": {},
   "source": [
    "global, nonlocal 특징과 권장사항  \n",
    "-global은 함수의 중첩된 정도와 상관없이 전역변수를 매칭한다  \n",
    "-중첩된 함수마다 같은 이름의 변수가 있다면 nonlocal키워드는 제일 가까운 바깥 변수를 매칭한다  \n",
    "-가급적이면 함수마다 같은 이름의 변수보다 다른 변수명을 사용하는 게 좋다  "
   ]
  },
  {
   "cell_type": "markdown",
   "id": "e4a44501-bdef-48ae-b398-24e744e56dcc",
   "metadata": {},
   "source": [
    "#### 변수 범위 정리  \n",
    "1. 함수 안에서 선언한 변수는 함수를 호출해 실행되는 동안만 사용  \n",
    "2. 범위마다 같은 아름의 변수를 사용해도 각각 독립적으로 동작  \n",
    "3. 지역 변수를 저장하는 이름을 지역영역  \n",
    "4. 전역 변수를 저장하는 이름 공간을 전역 영역  \n",
    "5. 파이썬 자체에서 정의한 이름 공간을 내장 영역이라고 한다  \n",
    "6. 함수에서 변수를 호출하면 지역 영역 -> 전역 영역 -> 내장 영역 순으로 해당하는 변수를 확인한다  "
   ]
  },
  {
   "cell_type": "code",
   "execution_count": 6,
   "id": "f23245b7-657b-4f71-ab38-399fbe3e52b0",
   "metadata": {},
   "outputs": [
    {
     "name": "stdout",
     "output_type": "stream",
     "text": [
      "전역 변수 입니다\n"
     ]
    }
   ],
   "source": [
    "# 지역 범위(local scope) 전역 변수(global scope)에 접근 출력(변경 x)\n",
    "global_v = '전역 변수 입니다'\n",
    "\n",
    "def local_scope():\n",
    "    print(global_v)\n",
    "local_scope()"
   ]
  },
  {
   "cell_type": "code",
   "execution_count": 9,
   "id": "8c208423-e829-40b5-a94b-fa5edf665375",
   "metadata": {},
   "outputs": [
    {
     "name": "stdout",
     "output_type": "stream",
     "text": [
      "전역 변수 입니다\n"
     ]
    }
   ],
   "source": [
    "# 지역 범위(local scope) 전역 변수(global scope)에 접근 후 재할당\n",
    "global_v2 = '전역 변수 입니다'\n",
    "\n",
    "def local_scope2():\n",
    "    global_v2 = \"지역 범위입니다.\"\n",
    "local_scope2()\n",
    "print(global_v2)\n",
    "# 사실은 전역 범위에서 변수를 만들어 할당한 것과\n",
    "# 로컬 범위에서 변수를 만들어 할당한 것 두 가지 일을 각각 독립적으로 실행한 결과를 확인"
   ]
  },
  {
   "cell_type": "code",
   "execution_count": 16,
   "id": "db548551-541d-47aa-a3be-ce75a0430009",
   "metadata": {},
   "outputs": [
    {
     "name": "stdout",
     "output_type": "stream",
     "text": [
      "전역 변수 입니다\n"
     ]
    }
   ],
   "source": [
    "# 지역 범위(local scope) 전역 변수(global scope)에 접근 후 재할당\n",
    "global_v3 = '전역 변수 입니다'\n",
    "\n",
    "def local_scope3():\n",
    "    global gloval_v3 # 전역 범위에 있는 전역 변수인 global_v3를 사용하겠다\n",
    "    global_v3 = \"지역 범위입니다.\"\n",
    "local_scope3()\n",
    "print(global_v3)\n",
    "# global 키워드를 활용하면 지역 범위에 있어도\n",
    "# 전역 변수에 대한 변경이 가능하도록 할 수 있다"
   ]
  },
  {
   "cell_type": "code",
   "execution_count": 17,
   "id": "2884d7da-de43-4699-b8bf-5192f052c04a",
   "metadata": {},
   "outputs": [
    {
     "name": "stdout",
     "output_type": "stream",
     "text": [
      "바깥 지역 범위입니다.\n"
     ]
    }
   ],
   "source": [
    "# 지역 범위(local scope) 안에 지역 범위가 중첩되어 있을 경우\n",
    "# 비교적 바껕에 있는 지역 범위의 지역 변수에 접근하여 출력\n",
    "\n",
    "def local_scope4():\n",
    "    global_v4 = \"바깥 지역 범위입니다.\"\n",
    "    def local_scope5():\n",
    "        print(global_v4)\n",
    "    local_scope5()\n",
    "#print(global_v4) # 접근 불가. 없음.\n",
    "# 지역 범위 안에 있는 지역 변수는 그 함수 실행과 반환 사이동안만 살아 있었다.\n",
    "local_scope4()"
   ]
  },
  {
   "cell_type": "code",
   "execution_count": 22,
   "id": "118f21f1-72c3-4649-8e89-44ab33d6dd7f",
   "metadata": {},
   "outputs": [
    {
     "name": "stdout",
     "output_type": "stream",
     "text": [
      "바깥 지역 범위입니다.\n"
     ]
    }
   ],
   "source": [
    "# 지역 범위(local scope) 안에 지역 범위가 중첩되어 있을 경우\n",
    "# 비교적 바껕에 있는 지역 범위의 지역 변수에 접근하여 출력\n",
    "\n",
    "def local_scope6():\n",
    "    global_v5 = \"바깥 지역 범위입니다.\" # 더 넓은 범위의 로컬 변수로 선언\n",
    "    def local_scope7():\n",
    "        global_v5 = \"안쪽 지역 범위입니다.\" # 더 좁은 범위의 로컬 변수로 선언\n",
    "    local_scope7()\n",
    "    print(global_v5)\n",
    "\n",
    "local_scope6()\n",
    "\n",
    "# 그래서 local_scope6 범위의 global_v5는\n",
    "# local_scope7 범위의 global_v5와 각각 독립적으로 생성이 된것을 확인"
   ]
  },
  {
   "cell_type": "code",
   "execution_count": 21,
   "id": "96045a69-2658-49e5-a27a-2205184804ac",
   "metadata": {},
   "outputs": [
    {
     "name": "stdout",
     "output_type": "stream",
     "text": [
      "안쪽 지역 범위입니다.\n"
     ]
    }
   ],
   "source": [
    "def local_scope7():\n",
    "    global_v6 = \"바깥 지역 범위입니다.\" # 더 넓은 범위의 로컬 변수로 선언\n",
    "    def local_scope8():\n",
    "        nonlocal global_v6 # 지금의 영역 바깥의 변수 global_v6를 찾아 그 변수를 사용하겠다\n",
    "        global_v6 = \"안쪽 지역 범위입니다.\" # 더 좁은 범위의 로컬 변수로 선언\n",
    "    local_scope8()\n",
    "    print(global_v6)\n",
    "\n",
    "local_scope7()"
   ]
  },
  {
   "cell_type": "markdown",
   "id": "bceba0ef-2df3-4e66-a980-082d840efd4b",
   "metadata": {},
   "source": [
    "## 람다(Lambda)\n",
    "호출될 때 값이 구해지는 하나의 표현식, 또 이름이 없는 인라인 함수  \n",
    "lambda[parameters]:expression  \n",
    "  \n",
    "def func_name(parameter):  \n",
    "    return expression  # 일반 함수 정의절"
   ]
  },
  {
   "cell_type": "code",
   "execution_count": 27,
   "id": "258bbbed-135b-48fd-932a-496c528ec6ee",
   "metadata": {},
   "outputs": [
    {
     "name": "stdout",
     "output_type": "stream",
     "text": [
      "20\n"
     ]
    }
   ],
   "source": [
    "twice = lambda x : x*2 # 람다는 기본적으로는 이름없는 함수, 람다로 만든 익명 함수를 호출하려면 변수에 할당해서 사용할 수 았더\n",
    "print(twice(10))"
   ]
  },
  {
   "cell_type": "code",
   "execution_count": 29,
   "id": "2c8e0f55-1bf5-4c8d-bd7c-b66770aa16ae",
   "metadata": {},
   "outputs": [
    {
     "ename": "SyntaxError",
     "evalue": "invalid syntax (3450942960.py, line 1)",
     "output_type": "error",
     "traceback": [
      "\u001b[1;36m  File \u001b[1;32m\"C:\\Users\\Playdata\\AppData\\Local\\Temp\\ipykernel_4240\\3450942960.py\"\u001b[1;36m, line \u001b[1;32m1\u001b[0m\n\u001b[1;33m    (lambda x: y = 10): x+y(1) # 람다의 expression부분은 변수 없이 한 줄로 표현 가능해야 한다. 따라사 람다 안에 새 변수를 만들 수 없다\u001b[0m\n\u001b[1;37m                 ^\u001b[0m\n\u001b[1;31mSyntaxError\u001b[0m\u001b[1;31m:\u001b[0m invalid syntax\n"
     ]
    }
   ],
   "source": [
    "(lambda x: y = 10): x+y(1) # 람다의 expression부분은 변수 없이 한 줄로 표현 가능해야 한다. 따라사 람다 안에 새 변수를 만들 수 없다"
   ]
  },
  {
   "cell_type": "code",
   "execution_count": 32,
   "id": "5854cfc3-8362-4425-aa29-28a9af3d616e",
   "metadata": {},
   "outputs": [
    {
     "data": {
      "text/plain": [
       "'b'"
      ]
     },
     "execution_count": 32,
     "metadata": {},
     "output_type": "execute_result"
    }
   ],
   "source": [
    "score = 90\n",
    "'A' if 90<score<=100 else 'b' if 88 < score else 'c'\n",
    "# if else를 한 줄로 작성할 수 있는 방법 lambda식에 사용하면 활용도가 아주 좋다\n",
    "# if만 사용할 수 없다 반드시 else와 같이 써야함"
   ]
  },
  {
   "cell_type": "code",
   "execution_count": 36,
   "id": "188e3a0c-b54d-46c4-abba-71cc7bccddd6",
   "metadata": {},
   "outputs": [
    {
     "name": "stdout",
     "output_type": "stream",
     "text": [
      "[2, 8, 18, 32, 50]\n"
     ]
    }
   ],
   "source": [
    "a = [_ for _ in range(1,6)]\n",
    "b = [_ for _ in range(2,11,2)]\n",
    "print(list(map(lambda x, y: x * y, a, b)))"
   ]
  },
  {
   "cell_type": "code",
   "execution_count": 40,
   "id": "a3e467a4-c746-465a-a3df-6cc938b8ee26",
   "metadata": {},
   "outputs": [
    {
     "name": "stdout",
     "output_type": "stream",
     "text": [
      "[0, 4, 12, 24, 40]\n",
      "100\n"
     ]
    }
   ],
   "source": [
    "a = [_ for _ in range(5)]\n",
    "b = [_ for _ in range(2, 11, 2)]\n",
    "\n",
    "c = list(map(lambda x, y: x * y, a, b))\n",
    "\n",
    "print(c)\n",
    "\n",
    "print((lambda x : x**2)(10))"
   ]
  },
  {
   "cell_type": "code",
   "execution_count": 42,
   "id": "d5ffd295-eb88-41bf-b00a-7e544f6ce742",
   "metadata": {},
   "outputs": [
    {
     "data": {
      "text/plain": [
       "[3, 9, 9]"
      ]
     },
     "execution_count": 42,
     "metadata": {},
     "output_type": "execute_result"
    }
   ],
   "source": [
    "a = [3, 2, 8, 22, 10, 7, 0, 11, 9, 9]\n",
    "list(filter(lambda x : x % 3 == 0 and 0 < x < 10, a)) # filter의 첫 인수로 들어가는 함수의 반환 값이 True일때만 해당 요소를 가져온다"
   ]
  },
  {
   "cell_type": "markdown",
   "id": "c0bc4aca-c942-4b3c-8720-40c9d7dbbb12",
   "metadata": {},
   "source": [
    "### 객체지향 프로그래밍\n",
    "\n",
    "class ClassName:  \n",
    "    def method_name(self):  \n",
    "        method_body  \n",
    "        \n",
    "    class_body  \n",
    "### 메서드\n",
    "class ClassName:  \n",
    "    def method_name(self):  \n",
    "        method body  \n",
    "        \n",
    "    class_body  "
   ]
  },
  {
   "cell_type": "code",
   "execution_count": 50,
   "id": "f52addd0-abcb-4610-b9c8-f2ac514ec623",
   "metadata": {},
   "outputs": [],
   "source": [
    "class Student():\n",
    "    def __init__(): # 첫번째 인자는 무조건 self여야 한다\n",
    "        pass"
   ]
  },
  {
   "cell_type": "code",
   "execution_count": 51,
   "id": "5e906344-230c-478e-b049-54fa4b36cf5c",
   "metadata": {},
   "outputs": [
    {
     "ename": "TypeError",
     "evalue": "__init__() takes 0 positional arguments but 1 was given",
     "output_type": "error",
     "traceback": [
      "\u001b[1;31m---------------------------------------------------------------------------\u001b[0m",
      "\u001b[1;31mTypeError\u001b[0m                                 Traceback (most recent call last)",
      "\u001b[1;32m~\\AppData\\Local\\Temp\\ipykernel_4240\\2458448060.py\u001b[0m in \u001b[0;36m<module>\u001b[1;34m\u001b[0m\n\u001b[1;32m----> 1\u001b[1;33m \u001b[0mgh\u001b[0m \u001b[1;33m=\u001b[0m \u001b[0mStudent\u001b[0m\u001b[1;33m(\u001b[0m\u001b[1;33m)\u001b[0m\u001b[1;33m\u001b[0m\u001b[1;33m\u001b[0m\u001b[0m\n\u001b[0m",
      "\u001b[1;31mTypeError\u001b[0m: __init__() takes 0 positional arguments but 1 was given"
     ]
    }
   ],
   "source": [
    "gh = Student()"
   ]
  },
  {
   "cell_type": "code",
   "execution_count": 54,
   "id": "62b3bbb1-28a5-4eb3-b4b8-590cc89a3d62",
   "metadata": {},
   "outputs": [
    {
     "name": "stdout",
     "output_type": "stream",
     "text": [
      "안녕하세요\n"
     ]
    }
   ],
   "source": [
    "#클래스 속성\n",
    "# __init__ 메서드는 james = Person()처럼 클래스에 소괄호를 붙여서 인스턴스를 만들 때 호촐되는 특별한 메서드이다\n",
    "# __init__은 인스턴스를 초기화합니다\n",
    "class Person:\n",
    "    def __init__(self): # self는 인스턴스 자기 자신을 의미한다 매개변수 self에 들어가는 값은 Person()인스턴스라고 할 수 있습니다.\n",
    "                        # self가 완성된 후에는 변수인 james에 할당 되었다\n",
    "        self.hello = \"안녕하세요\"\n",
    "        \n",
    "    def greeting(self):\n",
    "        print(self.hello)\n",
    "james = Person()\n",
    "james.greeting()"
   ]
  },
  {
   "cell_type": "code",
   "execution_count": null,
   "id": "e3c67977-6683-45ea-88ce-45b7e9cd15c1",
   "metadata": {},
   "outputs": [],
   "source": []
  }
 ],
 "metadata": {
  "kernelspec": {
   "display_name": "Python 3 (ipykernel)",
   "language": "python",
   "name": "python3"
  },
  "language_info": {
   "codemirror_mode": {
    "name": "ipython",
    "version": 3
   },
   "file_extension": ".py",
   "mimetype": "text/x-python",
   "name": "python",
   "nbconvert_exporter": "python",
   "pygments_lexer": "ipython3",
   "version": "3.9.13"
  }
 },
 "nbformat": 4,
 "nbformat_minor": 5
}
